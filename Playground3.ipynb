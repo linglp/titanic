{
 "cells": [
  {
   "cell_type": "code",
   "execution_count": 1,
   "id": "e6544026",
   "metadata": {},
   "outputs": [],
   "source": [
    "import pandas as pd \n",
    "import seaborn as sns\n",
    "import numpy as np\n",
    "import matplotlib.pyplot as plt\n",
    "from keras.callbacks import EarlyStopping\n",
    "from keras.layers import Dense, Dropout \n",
    "from sklearn.model_selection import train_test_split\n",
    "from sklearn.linear_model import LogisticRegression\n",
    "from sklearn.metrics import accuracy_score\n",
    "from sklearn.ensemble import RandomForestClassifier\n",
    "from sklearn.metrics import confusion_matrix\n",
    "from sklearn.model_selection import RandomizedSearchCV\n",
    "from sklearn.metrics import precision_score, recall_score\n",
    "from sklearn.metrics import PrecisionRecallDisplay\n",
    "from sklearn.metrics import confusion_matrix\n",
    "from sklearn.metrics import ConfusionMatrixDisplay\n",
    "from sklearn.metrics import roc_curve, roc_auc_score\n",
    "from sklearn.metrics import RocCurveDisplay, precision_recall_curve"
   ]
  },
  {
   "cell_type": "code",
   "execution_count": 2,
   "id": "ecb8a970",
   "metadata": {},
   "outputs": [],
   "source": [
    "titanic = pd.read_csv('titanic.csv')"
   ]
  },
  {
   "cell_type": "code",
   "execution_count": 3,
   "id": "2cfb494e",
   "metadata": {},
   "outputs": [
    {
     "data": {
      "text/html": [
       "<div>\n",
       "<style scoped>\n",
       "    .dataframe tbody tr th:only-of-type {\n",
       "        vertical-align: middle;\n",
       "    }\n",
       "\n",
       "    .dataframe tbody tr th {\n",
       "        vertical-align: top;\n",
       "    }\n",
       "\n",
       "    .dataframe thead th {\n",
       "        text-align: right;\n",
       "    }\n",
       "</style>\n",
       "<table border=\"1\" class=\"dataframe\">\n",
       "  <thead>\n",
       "    <tr style=\"text-align: right;\">\n",
       "      <th></th>\n",
       "      <th>Survived</th>\n",
       "      <th>Pclass</th>\n",
       "      <th>Name</th>\n",
       "      <th>Sex</th>\n",
       "      <th>Age</th>\n",
       "      <th>Siblings/Spouses Aboard</th>\n",
       "      <th>Parents/Children Aboard</th>\n",
       "      <th>Fare</th>\n",
       "    </tr>\n",
       "  </thead>\n",
       "  <tbody>\n",
       "    <tr>\n",
       "      <th>0</th>\n",
       "      <td>0</td>\n",
       "      <td>3</td>\n",
       "      <td>Mr. Owen Harris Braund</td>\n",
       "      <td>male</td>\n",
       "      <td>22.0</td>\n",
       "      <td>1</td>\n",
       "      <td>0</td>\n",
       "      <td>7.2500</td>\n",
       "    </tr>\n",
       "    <tr>\n",
       "      <th>1</th>\n",
       "      <td>1</td>\n",
       "      <td>1</td>\n",
       "      <td>Mrs. John Bradley (Florence Briggs Thayer) Cum...</td>\n",
       "      <td>female</td>\n",
       "      <td>38.0</td>\n",
       "      <td>1</td>\n",
       "      <td>0</td>\n",
       "      <td>71.2833</td>\n",
       "    </tr>\n",
       "  </tbody>\n",
       "</table>\n",
       "</div>"
      ],
      "text/plain": [
       "   Survived  Pclass                                               Name  \\\n",
       "0         0       3                             Mr. Owen Harris Braund   \n",
       "1         1       1  Mrs. John Bradley (Florence Briggs Thayer) Cum...   \n",
       "\n",
       "      Sex   Age  Siblings/Spouses Aboard  Parents/Children Aboard     Fare  \n",
       "0    male  22.0                        1                        0   7.2500  \n",
       "1  female  38.0                        1                        0  71.2833  "
      ]
     },
     "execution_count": 3,
     "metadata": {},
     "output_type": "execute_result"
    }
   ],
   "source": [
    "titanic.head(2)"
   ]
  },
  {
   "cell_type": "code",
   "execution_count": 4,
   "id": "292a0f20",
   "metadata": {},
   "outputs": [
    {
     "data": {
      "text/plain": [
       "0    674\n",
       "1    118\n",
       "2     80\n",
       "3      5\n",
       "5      5\n",
       "4      4\n",
       "6      1\n",
       "Name: Parents/Children Aboard, dtype: int64"
      ]
     },
     "execution_count": 4,
     "metadata": {},
     "output_type": "execute_result"
    }
   ],
   "source": [
    "titanic['Parents/Children Aboard'].value_counts()"
   ]
  },
  {
   "cell_type": "code",
   "execution_count": 5,
   "id": "541508bb",
   "metadata": {},
   "outputs": [
    {
     "data": {
      "text/plain": [
       "0    604\n",
       "1    209\n",
       "2     28\n",
       "4     18\n",
       "3     16\n",
       "8      7\n",
       "5      5\n",
       "Name: Siblings/Spouses Aboard, dtype: int64"
      ]
     },
     "execution_count": 5,
     "metadata": {},
     "output_type": "execute_result"
    }
   ],
   "source": [
    "titanic['Siblings/Spouses Aboard'].value_counts()"
   ]
  },
  {
   "cell_type": "code",
   "execution_count": 6,
   "id": "6963a933",
   "metadata": {},
   "outputs": [
    {
     "data": {
      "text/plain": [
       "Survived                   0\n",
       "Pclass                     0\n",
       "Name                       0\n",
       "Sex                        0\n",
       "Age                        0\n",
       "Siblings/Spouses Aboard    0\n",
       "Parents/Children Aboard    0\n",
       "Fare                       0\n",
       "dtype: int64"
      ]
     },
     "execution_count": 6,
     "metadata": {},
     "output_type": "execute_result"
    }
   ],
   "source": [
    "### Examine missing data\n",
    "total = titanic.isnull().sum().sort_values(ascending=False)\n",
    "\n",
    "total"
   ]
  },
  {
   "cell_type": "code",
   "execution_count": 7,
   "id": "dc24a42a",
   "metadata": {},
   "outputs": [],
   "source": [
    "# remove name\n",
    "titanic = titanic.drop(columns=['Name'])"
   ]
  },
  {
   "cell_type": "code",
   "execution_count": 8,
   "id": "e6d13700",
   "metadata": {},
   "outputs": [
    {
     "data": {
      "text/plain": [
       "(887, 7)"
      ]
     },
     "execution_count": 8,
     "metadata": {},
     "output_type": "execute_result"
    }
   ],
   "source": [
    "titanic.shape"
   ]
  },
  {
   "cell_type": "code",
   "execution_count": 9,
   "id": "31774ab4",
   "metadata": {
    "scrolled": true
   },
   "outputs": [
    {
     "data": {
      "image/png": "[encoded data removed]",
      "text/plain": [
       "<Figure size 432x288 with 1 Axes>"
      ]
     },
     "metadata": {
      "needs_background": "light"
     },
     "output_type": "display_data"
    }
   ],
   "source": [
    "## Visualize relationship between sex and class\n",
    "ax = sns.countplot(x=\"Pclass\", hue='Sex', data=titanic)"
   ]
  },
  {
   "cell_type": "markdown",
   "id": "8f971f5a",
   "metadata": {},
   "source": [
    "### Observations:\n",
    "* Most people in the third class are males. \n",
    "* There are more males than females across all classes"
   ]
  },
  {
   "cell_type": "code",
   "execution_count": 10,
   "id": "116f5a29",
   "metadata": {},
   "outputs": [
    {
     "data": {
      "image/png": "[encoded data removed]",
      "text/plain": [
       "<Figure size 473.7x288 with 2 Axes>"
      ]
     },
     "metadata": {
      "needs_background": "light"
     },
     "output_type": "display_data"
    }
   ],
   "source": [
    "### Visualize the relationship between gender, class, and survival\n",
    "g = sns.catplot(x=\"Pclass\", hue=\"Sex\", col=\"Survived\",\n",
    "                data=titanic, kind=\"count\",\n",
    "                height=4, aspect=.7)"
   ]
  },
  {
   "cell_type": "markdown",
   "id": "03b2ce64",
   "metadata": {},
   "source": [
    "### Observations: \n",
    "* Predominantly people that did not survive in the first class were males. \n",
    "* In general, females had a higher chance of survival than males across all classes. "
   ]
  },
  {
   "cell_type": "code",
   "execution_count": 11,
   "id": "0f086ac6",
   "metadata": {},
   "outputs": [
    {
     "name": "stderr",
     "output_type": "stream",
     "text": [
      "C:\\Users\\lpeng\\AppData\\Roaming\\Python\\Python37\\site-packages\\seaborn\\categorical.py:1296: UserWarning: 21.7% of the points cannot be placed; you may want to decrease the size of the markers or use stripplot.\n",
      "  warnings.warn(msg, UserWarning)\n"
     ]
    },
    {
     "data": {
      "text/plain": [
       "<seaborn.axisgrid.FacetGrid at 0x1fb0f3d6ac8>"
      ]
     },
     "execution_count": 11,
     "metadata": {},
     "output_type": "execute_result"
    },
    {
     "data": {
      "image/png": "[encoded data removed]",
      "text/plain": [
       "<Figure size 826.5x360 with 3 Axes>"
      ]
     },
     "metadata": {
      "needs_background": "light"
     },
     "output_type": "display_data"
    }
   ],
   "source": [
    "sns.catplot(x=\"Survived\", y=\"Age\", hue=\"Sex\",\n",
    "            col=\"Pclass\", aspect=.7,\n",
    "            kind=\"swarm\", data=titanic)"
   ]
  },
  {
   "cell_type": "markdown",
   "id": "b828aadb",
   "metadata": {},
   "source": [
    "### Observations:\n",
    "* For people in the second class, most males did not survive. Those that survived were mostly children or middle-age adults. \n",
    "* For people in the third class, female children and male children had relatively equal chances of survival. \n",
    "* For people in the third class, most people who survived were females who were less than thirty-five years old. "
   ]
  },
  {
   "cell_type": "code",
   "execution_count": 12,
   "id": "423a9941",
   "metadata": {},
   "outputs": [
    {
     "data": {
      "text/plain": [
       "<seaborn.axisgrid.FacetGrid at 0x1fb10678fc8>"
      ]
     },
     "execution_count": 12,
     "metadata": {},
     "output_type": "execute_result"
    },
    {
     "data": {
      "image/png": "[encoded data removed]",
      "text/plain": [
       "<Figure size 430.5x360 with 1 Axes>"
      ]
     },
     "metadata": {
      "needs_background": "light"
     },
     "output_type": "display_data"
    }
   ],
   "source": [
    "sns.catplot(x=\"Pclass\", y=\"Survived\", hue=\"Sex\",\n",
    "            palette={\"male\": \"g\", \"female\": \"m\"},\n",
    "            markers=[\"^\", \"o\"], linestyles=[\"-\", \"--\"],\n",
    "            kind=\"point\", data=titanic)"
   ]
  },
  {
   "cell_type": "markdown",
   "id": "d32343e1",
   "metadata": {},
   "source": [
    "### Observations:\n",
    "* Here, we could also see that females in general have a higher survival rate than males. "
   ]
  },
  {
   "cell_type": "code",
   "execution_count": 13,
   "id": "c7414de5",
   "metadata": {},
   "outputs": [
    {
     "data": {
      "text/html": [
       "<div>\n",
       "<style scoped>\n",
       "    .dataframe tbody tr th:only-of-type {\n",
       "        vertical-align: middle;\n",
       "    }\n",
       "\n",
       "    .dataframe tbody tr th {\n",
       "        vertical-align: top;\n",
       "    }\n",
       "\n",
       "    .dataframe thead th {\n",
       "        text-align: right;\n",
       "    }\n",
       "</style>\n",
       "<table border=\"1\" class=\"dataframe\">\n",
       "  <thead>\n",
       "    <tr style=\"text-align: right;\">\n",
       "      <th></th>\n",
       "      <th>Survived</th>\n",
       "      <th>Pclass</th>\n",
       "      <th>Sex</th>\n",
       "      <th>Age</th>\n",
       "      <th>Siblings/Spouses Aboard</th>\n",
       "      <th>Parents/Children Aboard</th>\n",
       "      <th>Fare</th>\n",
       "      <th>total_relatives</th>\n",
       "    </tr>\n",
       "  </thead>\n",
       "  <tbody>\n",
       "    <tr>\n",
       "      <th>0</th>\n",
       "      <td>0</td>\n",
       "      <td>3</td>\n",
       "      <td>male</td>\n",
       "      <td>22.0</td>\n",
       "      <td>1</td>\n",
       "      <td>0</td>\n",
       "      <td>7.2500</td>\n",
       "      <td>1</td>\n",
       "    </tr>\n",
       "    <tr>\n",
       "      <th>1</th>\n",
       "      <td>1</td>\n",
       "      <td>1</td>\n",
       "      <td>female</td>\n",
       "      <td>38.0</td>\n",
       "      <td>1</td>\n",
       "      <td>0</td>\n",
       "      <td>71.2833</td>\n",
       "      <td>1</td>\n",
       "    </tr>\n",
       "  </tbody>\n",
       "</table>\n",
       "</div>"
      ],
      "text/plain": [
       "   Survived  Pclass     Sex   Age  Siblings/Spouses Aboard  \\\n",
       "0         0       3    male  22.0                        1   \n",
       "1         1       1  female  38.0                        1   \n",
       "\n",
       "   Parents/Children Aboard     Fare  total_relatives  \n",
       "0                        0   7.2500                1  \n",
       "1                        0  71.2833                1  "
      ]
     },
     "execution_count": 13,
     "metadata": {},
     "output_type": "execute_result"
    }
   ],
   "source": [
    "titanic['total_relatives'] = titanic['Siblings/Spouses Aboard'] + titanic['Parents/Children Aboard']\n",
    "\n",
    "titanic.head(2)"
   ]
  },
  {
   "cell_type": "code",
   "execution_count": 14,
   "id": "88b7a0b3",
   "metadata": {},
   "outputs": [
    {
     "name": "stderr",
     "output_type": "stream",
     "text": [
      "C:\\Users\\lpeng\\AppData\\Roaming\\Python\\Python37\\site-packages\\seaborn\\categorical.py:3714: UserWarning: The `factorplot` function has been renamed to `catplot`. The original name will be removed in a future release. Please update your code. Note that the default `kind` in `factorplot` (`'point'`) has changed `'strip'` in `catplot`.\n",
      "  warnings.warn(msg)\n",
      "C:\\Users\\lpeng\\AppData\\Roaming\\Python\\Python37\\site-packages\\seaborn\\_decorators.py:43: FutureWarning: Pass the following variables as keyword args: x, y. From version 0.12, the only valid positional argument will be `data`, and passing other arguments without an explicit keyword will result in an error or misinterpretation.\n",
      "  FutureWarning\n"
     ]
    },
    {
     "data": {
      "image/png": "[encoded data removed]",
      "text/plain": [
       "<Figure size 360x360 with 1 Axes>"
      ]
     },
     "metadata": {
      "needs_background": "light"
     },
     "output_type": "display_data"
    }
   ],
   "source": [
    "axes = sns.factorplot('total_relatives','Survived', \n",
    "                      data=titanic)"
   ]
  },
  {
   "cell_type": "markdown",
   "id": "7c00d680",
   "metadata": {},
   "source": [
    "### Observations:\n",
    "* If you have 1-3 relatives, you have a relatively high chances survivial. But if you have more than that, then your chances of survivial decreased. "
   ]
  },
  {
   "cell_type": "code",
   "execution_count": 15,
   "id": "777c8352",
   "metadata": {},
   "outputs": [],
   "source": [
    "# assign an integer value of sex\n",
    "def assign_sex_integer(row):\n",
    "    if row['Sex'] == 'male':\n",
    "        return 1\n",
    "    else:\n",
    "        return 0\n",
    "\n",
    "# call the assign_gender_integer method to assign 1 to male and 0 to female\n",
    "titanic['Sex'] = titanic.apply(assign_sex_integer, axis=1)"
   ]
  },
  {
   "cell_type": "code",
   "execution_count": 16,
   "id": "b54591d0",
   "metadata": {},
   "outputs": [
    {
     "data": {
      "text/html": [
       "<div>\n",
       "<style scoped>\n",
       "    .dataframe tbody tr th:only-of-type {\n",
       "        vertical-align: middle;\n",
       "    }\n",
       "\n",
       "    .dataframe tbody tr th {\n",
       "        vertical-align: top;\n",
       "    }\n",
       "\n",
       "    .dataframe thead th {\n",
       "        text-align: right;\n",
       "    }\n",
       "</style>\n",
       "<table border=\"1\" class=\"dataframe\">\n",
       "  <thead>\n",
       "    <tr style=\"text-align: right;\">\n",
       "      <th></th>\n",
       "      <th>Survived</th>\n",
       "      <th>Pclass</th>\n",
       "      <th>Sex</th>\n",
       "      <th>Age</th>\n",
       "      <th>Siblings/Spouses Aboard</th>\n",
       "      <th>Parents/Children Aboard</th>\n",
       "      <th>Fare</th>\n",
       "      <th>total_relatives</th>\n",
       "    </tr>\n",
       "  </thead>\n",
       "  <tbody>\n",
       "    <tr>\n",
       "      <th>0</th>\n",
       "      <td>0</td>\n",
       "      <td>3</td>\n",
       "      <td>1</td>\n",
       "      <td>22.0</td>\n",
       "      <td>1</td>\n",
       "      <td>0</td>\n",
       "      <td>7.2500</td>\n",
       "      <td>1</td>\n",
       "    </tr>\n",
       "    <tr>\n",
       "      <th>1</th>\n",
       "      <td>1</td>\n",
       "      <td>1</td>\n",
       "      <td>0</td>\n",
       "      <td>38.0</td>\n",
       "      <td>1</td>\n",
       "      <td>0</td>\n",
       "      <td>71.2833</td>\n",
       "      <td>1</td>\n",
       "    </tr>\n",
       "  </tbody>\n",
       "</table>\n",
       "</div>"
      ],
      "text/plain": [
       "   Survived  Pclass  Sex   Age  Siblings/Spouses Aboard  \\\n",
       "0         0       3    1  22.0                        1   \n",
       "1         1       1    0  38.0                        1   \n",
       "\n",
       "   Parents/Children Aboard     Fare  total_relatives  \n",
       "0                        0   7.2500                1  \n",
       "1                        0  71.2833                1  "
      ]
     },
     "execution_count": 16,
     "metadata": {},
     "output_type": "execute_result"
    }
   ],
   "source": [
    "titanic.head(2)"
   ]
  },
  {
   "cell_type": "markdown",
   "id": "6fdbb1ba",
   "metadata": {},
   "source": [
    "## Build Machine Learning models\n",
    "\n"
   ]
  },
  {
   "cell_type": "code",
   "execution_count": 17,
   "id": "e45ce93c",
   "metadata": {},
   "outputs": [],
   "source": [
    "# Import the Sequential API\n",
    "import keras \n",
    "from keras.models import Sequential \n",
    "from keras.layers import Dense\n",
    "\n",
    "model = Sequential()"
   ]
  },
  {
   "cell_type": "code",
   "execution_count": 18,
   "id": "e8c6ac97",
   "metadata": {},
   "outputs": [],
   "source": [
    "X=titanic.drop(['Survived'], axis=1)\n",
    "Y=titanic['Survived']"
   ]
  },
  {
   "cell_type": "code",
   "execution_count": 19,
   "id": "7fa08678",
   "metadata": {},
   "outputs": [
    {
     "data": {
      "text/html": [
       "<div>\n",
       "<style scoped>\n",
       "    .dataframe tbody tr th:only-of-type {\n",
       "        vertical-align: middle;\n",
       "    }\n",
       "\n",
       "    .dataframe tbody tr th {\n",
       "        vertical-align: top;\n",
       "    }\n",
       "\n",
       "    .dataframe thead th {\n",
       "        text-align: right;\n",
       "    }\n",
       "</style>\n",
       "<table border=\"1\" class=\"dataframe\">\n",
       "  <thead>\n",
       "    <tr style=\"text-align: right;\">\n",
       "      <th></th>\n",
       "      <th>Pclass</th>\n",
       "      <th>Sex</th>\n",
       "      <th>Age</th>\n",
       "      <th>Siblings/Spouses Aboard</th>\n",
       "      <th>Parents/Children Aboard</th>\n",
       "      <th>Fare</th>\n",
       "      <th>total_relatives</th>\n",
       "    </tr>\n",
       "  </thead>\n",
       "  <tbody>\n",
       "    <tr>\n",
       "      <th>0</th>\n",
       "      <td>3.0</td>\n",
       "      <td>1.0</td>\n",
       "      <td>22.0</td>\n",
       "      <td>1.0</td>\n",
       "      <td>0.0</td>\n",
       "      <td>7.250000</td>\n",
       "      <td>1.0</td>\n",
       "    </tr>\n",
       "    <tr>\n",
       "      <th>1</th>\n",
       "      <td>1.0</td>\n",
       "      <td>0.0</td>\n",
       "      <td>38.0</td>\n",
       "      <td>1.0</td>\n",
       "      <td>0.0</td>\n",
       "      <td>71.283302</td>\n",
       "      <td>1.0</td>\n",
       "    </tr>\n",
       "    <tr>\n",
       "      <th>2</th>\n",
       "      <td>3.0</td>\n",
       "      <td>0.0</td>\n",
       "      <td>26.0</td>\n",
       "      <td>0.0</td>\n",
       "      <td>0.0</td>\n",
       "      <td>7.925000</td>\n",
       "      <td>0.0</td>\n",
       "    </tr>\n",
       "    <tr>\n",
       "      <th>3</th>\n",
       "      <td>1.0</td>\n",
       "      <td>0.0</td>\n",
       "      <td>35.0</td>\n",
       "      <td>1.0</td>\n",
       "      <td>0.0</td>\n",
       "      <td>53.099998</td>\n",
       "      <td>1.0</td>\n",
       "    </tr>\n",
       "    <tr>\n",
       "      <th>4</th>\n",
       "      <td>3.0</td>\n",
       "      <td>1.0</td>\n",
       "      <td>35.0</td>\n",
       "      <td>0.0</td>\n",
       "      <td>0.0</td>\n",
       "      <td>8.050000</td>\n",
       "      <td>0.0</td>\n",
       "    </tr>\n",
       "    <tr>\n",
       "      <th>...</th>\n",
       "      <td>...</td>\n",
       "      <td>...</td>\n",
       "      <td>...</td>\n",
       "      <td>...</td>\n",
       "      <td>...</td>\n",
       "      <td>...</td>\n",
       "      <td>...</td>\n",
       "    </tr>\n",
       "    <tr>\n",
       "      <th>882</th>\n",
       "      <td>2.0</td>\n",
       "      <td>1.0</td>\n",
       "      <td>27.0</td>\n",
       "      <td>0.0</td>\n",
       "      <td>0.0</td>\n",
       "      <td>13.000000</td>\n",
       "      <td>0.0</td>\n",
       "    </tr>\n",
       "    <tr>\n",
       "      <th>883</th>\n",
       "      <td>1.0</td>\n",
       "      <td>0.0</td>\n",
       "      <td>19.0</td>\n",
       "      <td>0.0</td>\n",
       "      <td>0.0</td>\n",
       "      <td>30.000000</td>\n",
       "      <td>0.0</td>\n",
       "    </tr>\n",
       "    <tr>\n",
       "      <th>884</th>\n",
       "      <td>3.0</td>\n",
       "      <td>0.0</td>\n",
       "      <td>7.0</td>\n",
       "      <td>1.0</td>\n",
       "      <td>2.0</td>\n",
       "      <td>23.450001</td>\n",
       "      <td>3.0</td>\n",
       "    </tr>\n",
       "    <tr>\n",
       "      <th>885</th>\n",
       "      <td>1.0</td>\n",
       "      <td>1.0</td>\n",
       "      <td>26.0</td>\n",
       "      <td>0.0</td>\n",
       "      <td>0.0</td>\n",
       "      <td>30.000000</td>\n",
       "      <td>0.0</td>\n",
       "    </tr>\n",
       "    <tr>\n",
       "      <th>886</th>\n",
       "      <td>3.0</td>\n",
       "      <td>1.0</td>\n",
       "      <td>32.0</td>\n",
       "      <td>0.0</td>\n",
       "      <td>0.0</td>\n",
       "      <td>7.750000</td>\n",
       "      <td>0.0</td>\n",
       "    </tr>\n",
       "  </tbody>\n",
       "</table>\n",
       "<p>887 rows × 7 columns</p>\n",
       "</div>"
      ],
      "text/plain": [
       "     Pclass  Sex   Age  Siblings/Spouses Aboard  Parents/Children Aboard  \\\n",
       "0       3.0  1.0  22.0                      1.0                      0.0   \n",
       "1       1.0  0.0  38.0                      1.0                      0.0   \n",
       "2       3.0  0.0  26.0                      0.0                      0.0   \n",
       "3       1.0  0.0  35.0                      1.0                      0.0   \n",
       "4       3.0  1.0  35.0                      0.0                      0.0   \n",
       "..      ...  ...   ...                      ...                      ...   \n",
       "882     2.0  1.0  27.0                      0.0                      0.0   \n",
       "883     1.0  0.0  19.0                      0.0                      0.0   \n",
       "884     3.0  0.0   7.0                      1.0                      2.0   \n",
       "885     1.0  1.0  26.0                      0.0                      0.0   \n",
       "886     3.0  1.0  32.0                      0.0                      0.0   \n",
       "\n",
       "          Fare  total_relatives  \n",
       "0     7.250000              1.0  \n",
       "1    71.283302              1.0  \n",
       "2     7.925000              0.0  \n",
       "3    53.099998              1.0  \n",
       "4     8.050000              0.0  \n",
       "..         ...              ...  \n",
       "882  13.000000              0.0  \n",
       "883  30.000000              0.0  \n",
       "884  23.450001              3.0  \n",
       "885  30.000000              0.0  \n",
       "886   7.750000              0.0  \n",
       "\n",
       "[887 rows x 7 columns]"
      ]
     },
     "execution_count": 19,
     "metadata": {},
     "output_type": "execute_result"
    }
   ],
   "source": [
    "X.astype(np.float32)"
   ]
  },
  {
   "cell_type": "code",
   "execution_count": 20,
   "id": "ecef4b2f",
   "metadata": {},
   "outputs": [],
   "source": [
    "X_train,X_test,Y_train,Y_test=train_test_split(X,Y,test_size=0.3,random_state=0)"
   ]
  },
  {
   "cell_type": "code",
   "execution_count": 21,
   "id": "ae4f0f27",
   "metadata": {},
   "outputs": [],
   "source": [
    "n_cols = X.shape[1]"
   ]
  },
  {
   "cell_type": "code",
   "execution_count": 22,
   "id": "c4ec52a4",
   "metadata": {},
   "outputs": [
    {
     "name": "stdout",
     "output_type": "stream",
     "text": [
      "Model: \"sequential\"\n",
      "_________________________________________________________________\n",
      " Layer (type)                Output Shape              Param #   \n",
      "=================================================================\n",
      " dense (Dense)               (None, 15)                120       \n",
      "                                                                 \n",
      " dense_1 (Dense)             (None, 25)                400       \n",
      "                                                                 \n",
      " dense_2 (Dense)             (None, 1)                 26        \n",
      "                                                                 \n",
      "=================================================================\n",
      "Total params: 546\n",
      "Trainable params: 546\n",
      "Non-trainable params: 0\n",
      "_________________________________________________________________\n"
     ]
    }
   ],
   "source": [
    "# split the data between training and testing\n",
    "\n",
    "# Add the first layer with 15 nodes\n",
    "input_layer = Dense(units = 15, activation='relu', input_shape = (n_cols,)) \n",
    "model.add(input_layer) \n",
    "\n",
    "# # Add the second layer with 25 nodes\n",
    "hidden_layer = Dense(units = 25, activation='relu') \n",
    "model.add(hidden_layer)\n",
    "\n",
    "# We could also add drop out layer\n",
    "#Dropout is a technique used to prevent a model from overfitting. \n",
    "#Dropout works by randomly setting the outgoing edges of hidden units (neurons that make up hidden layers) to 0 at each update of the training phase.\n",
    "\n",
    "\n",
    "# # Add the output layer\n",
    "model.add(Dense(1, activation='sigmoid'))\n",
    "\n",
    "# view model summary\n",
    "model.summary()"
   ]
  },
  {
   "cell_type": "code",
   "execution_count": 23,
   "id": "7730a3a1",
   "metadata": {},
   "outputs": [
    {
     "name": "stdout",
     "output_type": "stream",
     "text": [
      "Epoch 1/100\n",
      "112/112 - 1s - loss: 0.6568 - accuracy: 0.6774 - val_loss: 0.5760 - val_accuracy: 0.6935 - 720ms/epoch - 6ms/step\n",
      "Epoch 2/100\n",
      "112/112 - 0s - loss: 0.6006 - accuracy: 0.6810 - val_loss: 0.5869 - val_accuracy: 0.6935 - 108ms/epoch - 965us/step\n",
      "Epoch 3/100\n",
      "112/112 - 0s - loss: 0.6101 - accuracy: 0.6703 - val_loss: 0.6763 - val_accuracy: 0.4839 - 186ms/epoch - 2ms/step\n",
      "Epoch 4/100\n",
      "112/112 - 0s - loss: 0.6256 - accuracy: 0.6918 - val_loss: 0.6129 - val_accuracy: 0.6129 - 133ms/epoch - 1ms/step\n",
      "Epoch 5/100\n",
      "112/112 - 0s - loss: 0.5897 - accuracy: 0.6846 - val_loss: 0.5615 - val_accuracy: 0.6935 - 93ms/epoch - 830us/step\n",
      "Epoch 6/100\n",
      "112/112 - 0s - loss: 0.5650 - accuracy: 0.7061 - val_loss: 0.5655 - val_accuracy: 0.7097 - 109ms/epoch - 971us/step\n",
      "Epoch 7/100\n",
      "112/112 - 0s - loss: 0.5697 - accuracy: 0.6971 - val_loss: 0.5517 - val_accuracy: 0.7097 - 97ms/epoch - 869us/step\n",
      "Epoch 8/100\n",
      "112/112 - 0s - loss: 0.5801 - accuracy: 0.6989 - val_loss: 0.5426 - val_accuracy: 0.7097 - 105ms/epoch - 938us/step\n",
      "Epoch 9/100\n",
      "112/112 - 0s - loss: 0.5564 - accuracy: 0.7133 - val_loss: 0.5376 - val_accuracy: 0.7097 - 98ms/epoch - 875us/step\n",
      "Epoch 10/100\n",
      "112/112 - 0s - loss: 0.5503 - accuracy: 0.7294 - val_loss: 0.5562 - val_accuracy: 0.6452 - 101ms/epoch - 902us/step\n",
      "Epoch 11/100\n",
      "112/112 - 0s - loss: 0.5503 - accuracy: 0.7258 - val_loss: 0.5478 - val_accuracy: 0.6935 - 103ms/epoch - 918us/step\n",
      "Epoch 12/100\n",
      "112/112 - 0s - loss: 0.5381 - accuracy: 0.7348 - val_loss: 0.5445 - val_accuracy: 0.7419 - 98ms/epoch - 875us/step\n",
      "Epoch 13/100\n",
      "112/112 - 0s - loss: 0.5329 - accuracy: 0.7348 - val_loss: 0.5228 - val_accuracy: 0.7097 - 95ms/epoch - 848us/step\n",
      "Epoch 14/100\n",
      "112/112 - 0s - loss: 0.5211 - accuracy: 0.7330 - val_loss: 0.5122 - val_accuracy: 0.7903 - 101ms/epoch - 902us/step\n",
      "Epoch 15/100\n",
      "112/112 - 0s - loss: 0.5251 - accuracy: 0.7401 - val_loss: 0.5074 - val_accuracy: 0.7097 - 163ms/epoch - 1ms/step\n",
      "Epoch 16/100\n",
      "112/112 - 0s - loss: 0.5360 - accuracy: 0.7330 - val_loss: 0.5260 - val_accuracy: 0.7742 - 169ms/epoch - 2ms/step\n",
      "Epoch 17/100\n",
      "112/112 - 0s - loss: 0.5044 - accuracy: 0.7384 - val_loss: 0.4884 - val_accuracy: 0.7903 - 108ms/epoch - 967us/step\n",
      "Epoch 18/100\n",
      "112/112 - 0s - loss: 0.5337 - accuracy: 0.7473 - val_loss: 0.5006 - val_accuracy: 0.7903 - 95ms/epoch - 848us/step\n",
      "Epoch 19/100\n",
      "112/112 - 0s - loss: 0.5015 - accuracy: 0.7742 - val_loss: 0.5148 - val_accuracy: 0.7581 - 105ms/epoch - 937us/step\n",
      "Epoch 20/100\n",
      "112/112 - 0s - loss: 0.4996 - accuracy: 0.7491 - val_loss: 0.4810 - val_accuracy: 0.7581 - 120ms/epoch - 1ms/step\n",
      "Epoch 21/100\n",
      "112/112 - 0s - loss: 0.5085 - accuracy: 0.7849 - val_loss: 0.4757 - val_accuracy: 0.8065 - 99ms/epoch - 884us/step\n",
      "Epoch 22/100\n",
      "112/112 - 0s - loss: 0.4747 - accuracy: 0.7849 - val_loss: 0.4878 - val_accuracy: 0.8226 - 102ms/epoch - 912us/step\n",
      "Epoch 23/100\n",
      "112/112 - 0s - loss: 0.5048 - accuracy: 0.7706 - val_loss: 0.4782 - val_accuracy: 0.7581 - 170ms/epoch - 2ms/step\n",
      "Epoch 24/100\n",
      "112/112 - 0s - loss: 0.5038 - accuracy: 0.7796 - val_loss: 0.4655 - val_accuracy: 0.7419 - 162ms/epoch - 1ms/step\n",
      "Epoch 25/100\n",
      "112/112 - 0s - loss: 0.4999 - accuracy: 0.7921 - val_loss: 0.4852 - val_accuracy: 0.8226 - 105ms/epoch - 937us/step\n",
      "Epoch 26/100\n",
      "112/112 - 0s - loss: 0.4829 - accuracy: 0.7849 - val_loss: 0.4580 - val_accuracy: 0.8226 - 99ms/epoch - 885us/step\n",
      "Epoch 27/100\n",
      "112/112 - 0s - loss: 0.4769 - accuracy: 0.7867 - val_loss: 0.4458 - val_accuracy: 0.7903 - 98ms/epoch - 875us/step\n",
      "Epoch 28/100\n",
      "112/112 - 0s - loss: 0.4733 - accuracy: 0.7921 - val_loss: 0.5635 - val_accuracy: 0.7419 - 99ms/epoch - 883us/step\n",
      "Epoch 29/100\n",
      "112/112 - 0s - loss: 0.5231 - accuracy: 0.7724 - val_loss: 0.4350 - val_accuracy: 0.8226 - 99ms/epoch - 885us/step\n",
      "Epoch 30/100\n",
      "112/112 - 0s - loss: 0.4631 - accuracy: 0.7903 - val_loss: 0.4400 - val_accuracy: 0.8226 - 97ms/epoch - 866us/step\n",
      "Epoch 31/100\n",
      "112/112 - 0s - loss: 0.4705 - accuracy: 0.7993 - val_loss: 0.4814 - val_accuracy: 0.8065 - 105ms/epoch - 938us/step\n",
      "Epoch 32/100\n",
      "112/112 - 0s - loss: 0.4942 - accuracy: 0.8082 - val_loss: 0.4784 - val_accuracy: 0.8226 - 99ms/epoch - 883us/step\n",
      "Epoch 33/100\n",
      "112/112 - 0s - loss: 0.4497 - accuracy: 0.8047 - val_loss: 0.5356 - val_accuracy: 0.7742 - 101ms/epoch - 900us/step\n",
      "Epoch 34/100\n",
      "112/112 - 0s - loss: 0.4620 - accuracy: 0.7993 - val_loss: 0.4712 - val_accuracy: 0.8387 - 102ms/epoch - 910us/step\n",
      "Epoch 35/100\n",
      "112/112 - 0s - loss: 0.4568 - accuracy: 0.8154 - val_loss: 0.4335 - val_accuracy: 0.8226 - 102ms/epoch - 913us/step\n",
      "Epoch 36/100\n",
      "112/112 - 0s - loss: 0.4475 - accuracy: 0.8136 - val_loss: 0.4274 - val_accuracy: 0.7742 - 126ms/epoch - 1ms/step\n",
      "Epoch 37/100\n",
      "112/112 - 0s - loss: 0.4501 - accuracy: 0.7975 - val_loss: 0.4238 - val_accuracy: 0.8065 - 176ms/epoch - 2ms/step\n",
      "Epoch 38/100\n",
      "112/112 - 0s - loss: 0.4459 - accuracy: 0.8118 - val_loss: 0.4230 - val_accuracy: 0.8387 - 133ms/epoch - 1ms/step\n",
      "Epoch 39/100\n",
      "112/112 - 0s - loss: 0.4510 - accuracy: 0.8082 - val_loss: 0.4307 - val_accuracy: 0.8226 - 136ms/epoch - 1ms/step\n",
      "Epoch 40/100\n",
      "112/112 - 0s - loss: 0.4589 - accuracy: 0.8011 - val_loss: 0.4474 - val_accuracy: 0.8226 - 163ms/epoch - 1ms/step\n",
      "Epoch 41/100\n",
      "112/112 - 0s - loss: 0.4484 - accuracy: 0.7993 - val_loss: 0.4369 - val_accuracy: 0.8226 - 183ms/epoch - 2ms/step\n",
      "Epoch 42/100\n",
      "112/112 - 0s - loss: 0.4597 - accuracy: 0.7957 - val_loss: 0.4226 - val_accuracy: 0.8226 - 135ms/epoch - 1ms/step\n",
      "Epoch 43/100\n",
      "112/112 - 0s - loss: 0.4645 - accuracy: 0.7921 - val_loss: 0.4341 - val_accuracy: 0.8226 - 161ms/epoch - 1ms/step\n",
      "Epoch 44/100\n",
      "112/112 - 0s - loss: 0.4490 - accuracy: 0.8029 - val_loss: 0.4260 - val_accuracy: 0.8226 - 150ms/epoch - 1ms/step\n",
      "Epoch 45/100\n",
      "112/112 - 0s - loss: 0.4540 - accuracy: 0.8011 - val_loss: 0.4181 - val_accuracy: 0.8226 - 160ms/epoch - 1ms/step\n",
      "Epoch 46/100\n",
      "112/112 - 0s - loss: 0.4364 - accuracy: 0.8208 - val_loss: 0.4095 - val_accuracy: 0.8226 - 154ms/epoch - 1ms/step\n",
      "Epoch 47/100\n",
      "112/112 - 0s - loss: 0.4683 - accuracy: 0.8011 - val_loss: 0.4117 - val_accuracy: 0.8387 - 168ms/epoch - 1ms/step\n",
      "Epoch 48/100\n",
      "112/112 - 0s - loss: 0.4495 - accuracy: 0.8047 - val_loss: 0.4446 - val_accuracy: 0.8065 - 155ms/epoch - 1ms/step\n",
      "Epoch 49/100\n",
      "112/112 - 0s - loss: 0.4298 - accuracy: 0.8172 - val_loss: 0.4087 - val_accuracy: 0.8226 - 142ms/epoch - 1ms/step\n",
      "Epoch 50/100\n",
      "112/112 - 0s - loss: 0.4345 - accuracy: 0.8065 - val_loss: 0.4378 - val_accuracy: 0.8387 - 164ms/epoch - 1ms/step\n",
      "Epoch 51/100\n",
      "112/112 - 0s - loss: 0.4479 - accuracy: 0.8118 - val_loss: 0.5456 - val_accuracy: 0.7742 - 171ms/epoch - 2ms/step\n",
      "Epoch 52/100\n",
      "112/112 - 0s - loss: 0.4201 - accuracy: 0.8190 - val_loss: 0.4389 - val_accuracy: 0.8226 - 158ms/epoch - 1ms/step\n",
      "Epoch 53/100\n",
      "112/112 - 0s - loss: 0.4414 - accuracy: 0.8190 - val_loss: 0.4571 - val_accuracy: 0.8065 - 144ms/epoch - 1ms/step\n",
      "Epoch 54/100\n",
      "112/112 - 0s - loss: 0.4513 - accuracy: 0.8011 - val_loss: 0.4019 - val_accuracy: 0.8065 - 158ms/epoch - 1ms/step\n",
      "Epoch 55/100\n",
      "112/112 - 0s - loss: 0.4659 - accuracy: 0.8011 - val_loss: 0.4044 - val_accuracy: 0.8226 - 139ms/epoch - 1ms/step\n",
      "Epoch 56/100\n",
      "112/112 - 0s - loss: 0.4534 - accuracy: 0.8100 - val_loss: 0.4116 - val_accuracy: 0.7742 - 166ms/epoch - 1ms/step\n",
      "Epoch 57/100\n",
      "112/112 - 0s - loss: 0.4432 - accuracy: 0.8047 - val_loss: 0.4036 - val_accuracy: 0.8387 - 194ms/epoch - 2ms/step\n",
      "Epoch 58/100\n",
      "112/112 - 0s - loss: 0.4370 - accuracy: 0.8011 - val_loss: 0.4471 - val_accuracy: 0.7581 - 137ms/epoch - 1ms/step\n",
      "Epoch 59/100\n",
      "112/112 - 0s - loss: 0.4605 - accuracy: 0.8136 - val_loss: 0.4292 - val_accuracy: 0.8226 - 135ms/epoch - 1ms/step\n",
      "Epoch 60/100\n",
      "112/112 - 0s - loss: 0.4273 - accuracy: 0.8154 - val_loss: 0.4002 - val_accuracy: 0.8065 - 133ms/epoch - 1ms/step\n",
      "Epoch 61/100\n",
      "112/112 - 0s - loss: 0.4306 - accuracy: 0.8136 - val_loss: 0.4025 - val_accuracy: 0.8226 - 135ms/epoch - 1ms/step\n",
      "Epoch 62/100\n",
      "112/112 - 0s - loss: 0.4474 - accuracy: 0.8047 - val_loss: 0.4138 - val_accuracy: 0.8065 - 149ms/epoch - 1ms/step\n",
      "Epoch 63/100\n",
      "112/112 - 0s - loss: 0.4342 - accuracy: 0.8136 - val_loss: 0.4272 - val_accuracy: 0.8065 - 143ms/epoch - 1ms/step\n",
      "Epoch 64/100\n",
      "112/112 - 0s - loss: 0.4266 - accuracy: 0.8244 - val_loss: 0.3996 - val_accuracy: 0.7903 - 141ms/epoch - 1ms/step\n",
      "Epoch 65/100\n",
      "112/112 - 0s - loss: 0.4451 - accuracy: 0.8136 - val_loss: 0.4502 - val_accuracy: 0.8065 - 146ms/epoch - 1ms/step\n"
     ]
    },
    {
     "name": "stdout",
     "output_type": "stream",
     "text": [
      "Epoch 66/100\n",
      "112/112 - 0s - loss: 0.4257 - accuracy: 0.8262 - val_loss: 0.4664 - val_accuracy: 0.7903 - 136ms/epoch - 1ms/step\n",
      "Epoch 67/100\n",
      "112/112 - 0s - loss: 0.5110 - accuracy: 0.7975 - val_loss: 0.3931 - val_accuracy: 0.8226 - 150ms/epoch - 1ms/step\n",
      "Epoch 68/100\n",
      "112/112 - 0s - loss: 0.4292 - accuracy: 0.8208 - val_loss: 0.4015 - val_accuracy: 0.7903 - 134ms/epoch - 1ms/step\n",
      "Epoch 69/100\n",
      "112/112 - 0s - loss: 0.4275 - accuracy: 0.8136 - val_loss: 0.3963 - val_accuracy: 0.8387 - 146ms/epoch - 1ms/step\n",
      "Epoch 70/100\n",
      "112/112 - 0s - loss: 0.4249 - accuracy: 0.8208 - val_loss: 0.3996 - val_accuracy: 0.8226 - 139ms/epoch - 1ms/step\n",
      "Epoch 71/100\n",
      "112/112 - 0s - loss: 0.4154 - accuracy: 0.8208 - val_loss: 0.4195 - val_accuracy: 0.7581 - 141ms/epoch - 1ms/step\n",
      "Epoch 72/100\n",
      "112/112 - 0s - loss: 0.4395 - accuracy: 0.8029 - val_loss: 0.3969 - val_accuracy: 0.8226 - 141ms/epoch - 1ms/step\n",
      "Epoch 73/100\n",
      "112/112 - 0s - loss: 0.4197 - accuracy: 0.8208 - val_loss: 0.4282 - val_accuracy: 0.8065 - 142ms/epoch - 1ms/step\n",
      "Epoch 74/100\n",
      "112/112 - 0s - loss: 0.4198 - accuracy: 0.8136 - val_loss: 0.4065 - val_accuracy: 0.8387 - 142ms/epoch - 1ms/step\n",
      "Epoch 75/100\n",
      "112/112 - 0s - loss: 0.4336 - accuracy: 0.8154 - val_loss: 0.3952 - val_accuracy: 0.7903 - 140ms/epoch - 1ms/step\n",
      "Epoch 76/100\n",
      "112/112 - 0s - loss: 0.4126 - accuracy: 0.8280 - val_loss: 0.4254 - val_accuracy: 0.8065 - 153ms/epoch - 1ms/step\n",
      "Epoch 77/100\n",
      "112/112 - 0s - loss: 0.4191 - accuracy: 0.8118 - val_loss: 0.4202 - val_accuracy: 0.8226 - 151ms/epoch - 1ms/step\n",
      "Epoch 78/100\n",
      "112/112 - 0s - loss: 0.4170 - accuracy: 0.8280 - val_loss: 0.4063 - val_accuracy: 0.8065 - 147ms/epoch - 1ms/step\n",
      "Epoch 79/100\n",
      "112/112 - 0s - loss: 0.4210 - accuracy: 0.8208 - val_loss: 0.4279 - val_accuracy: 0.8065 - 144ms/epoch - 1ms/step\n",
      "Epoch 80/100\n",
      "112/112 - 0s - loss: 0.4412 - accuracy: 0.8136 - val_loss: 0.4095 - val_accuracy: 0.8226 - 144ms/epoch - 1ms/step\n",
      "Epoch 81/100\n",
      "112/112 - 0s - loss: 0.4292 - accuracy: 0.8118 - val_loss: 0.4036 - val_accuracy: 0.8226 - 150ms/epoch - 1ms/step\n",
      "Epoch 82/100\n",
      "112/112 - 0s - loss: 0.4466 - accuracy: 0.8118 - val_loss: 0.4255 - val_accuracy: 0.8226 - 141ms/epoch - 1ms/step\n",
      "Epoch 83/100\n",
      "112/112 - 0s - loss: 0.4357 - accuracy: 0.8047 - val_loss: 0.4590 - val_accuracy: 0.7903 - 154ms/epoch - 1ms/step\n",
      "Epoch 84/100\n",
      "112/112 - 0s - loss: 0.4329 - accuracy: 0.8244 - val_loss: 0.3962 - val_accuracy: 0.8226 - 147ms/epoch - 1ms/step\n",
      "Epoch 85/100\n",
      "112/112 - 0s - loss: 0.4213 - accuracy: 0.8297 - val_loss: 0.3959 - val_accuracy: 0.8226 - 131ms/epoch - 1ms/step\n",
      "Epoch 86/100\n",
      "112/112 - 0s - loss: 0.4191 - accuracy: 0.8244 - val_loss: 0.3985 - val_accuracy: 0.8065 - 141ms/epoch - 1ms/step\n",
      "Epoch 87/100\n",
      "112/112 - 0s - loss: 0.4126 - accuracy: 0.8315 - val_loss: 0.4035 - val_accuracy: 0.8065 - 144ms/epoch - 1ms/step\n",
      "Epoch 88/100\n",
      "112/112 - 0s - loss: 0.4196 - accuracy: 0.8208 - val_loss: 0.3904 - val_accuracy: 0.8226 - 132ms/epoch - 1ms/step\n",
      "Epoch 89/100\n",
      "112/112 - 0s - loss: 0.4225 - accuracy: 0.8136 - val_loss: 0.4037 - val_accuracy: 0.8226 - 143ms/epoch - 1ms/step\n",
      "Epoch 90/100\n",
      "112/112 - 0s - loss: 0.4160 - accuracy: 0.8136 - val_loss: 0.3967 - val_accuracy: 0.8226 - 131ms/epoch - 1ms/step\n",
      "Epoch 91/100\n",
      "112/112 - 0s - loss: 0.4132 - accuracy: 0.8244 - val_loss: 0.3905 - val_accuracy: 0.8226 - 143ms/epoch - 1ms/step\n",
      "Epoch 92/100\n",
      "112/112 - 0s - loss: 0.4678 - accuracy: 0.8154 - val_loss: 0.3898 - val_accuracy: 0.8065 - 142ms/epoch - 1ms/step\n",
      "Epoch 93/100\n",
      "112/112 - 0s - loss: 0.4236 - accuracy: 0.8154 - val_loss: 0.4089 - val_accuracy: 0.7903 - 132ms/epoch - 1ms/step\n",
      "Epoch 94/100\n",
      "112/112 - 0s - loss: 0.4169 - accuracy: 0.8190 - val_loss: 0.4732 - val_accuracy: 0.7903 - 148ms/epoch - 1ms/step\n",
      "Epoch 95/100\n",
      "112/112 - 0s - loss: 0.4203 - accuracy: 0.8118 - val_loss: 0.3855 - val_accuracy: 0.8387 - 140ms/epoch - 1ms/step\n",
      "Epoch 96/100\n",
      "112/112 - 0s - loss: 0.4221 - accuracy: 0.8136 - val_loss: 0.4061 - val_accuracy: 0.8226 - 130ms/epoch - 1ms/step\n",
      "Epoch 97/100\n",
      "112/112 - 0s - loss: 0.4541 - accuracy: 0.8154 - val_loss: 0.4833 - val_accuracy: 0.7742 - 148ms/epoch - 1ms/step\n",
      "Epoch 98/100\n",
      "112/112 - 0s - loss: 0.4545 - accuracy: 0.7975 - val_loss: 0.3915 - val_accuracy: 0.8387 - 222ms/epoch - 2ms/step\n",
      "Epoch 99/100\n",
      "112/112 - 0s - loss: 0.4234 - accuracy: 0.8226 - val_loss: 0.4121 - val_accuracy: 0.8226 - 156ms/epoch - 1ms/step\n",
      "Epoch 100/100\n",
      "112/112 - 0s - loss: 0.4267 - accuracy: 0.8262 - val_loss: 0.3992 - val_accuracy: 0.7581 - 138ms/epoch - 1ms/step\n"
     ]
    }
   ],
   "source": [
    "# Compile the keras model\n",
    "model.compile(loss='binary_crossentropy', optimizer='adam', metrics=['accuracy'])\n",
    "\n",
    "# we use 'categorical crossentropy' for multi-class classification; mean squared error is a common choice for regression problem\n",
    "# optimizer determines learning rate. It adjusts the learning rate during gradient descent and ensures reasonable values for the weights during the weight optimization process \n",
    "\n",
    "# Define early_stopping_monitor\n",
    "# here, we set the number of epochs the model can take without improving rate. \n",
    "early_stopping_monitor = EarlyStopping(patience=25)\n",
    "\n",
    "# history = model.fit(X_train, Y_train, epochs=20, batch_size=30)\n",
    "history = model.fit(X_train, Y_train, epochs=100, batch_size=5, validation_split= 0.1, callbacks=[early_stopping_monitor], verbose=2)"
   ]
  },
  {
   "cell_type": "code",
   "execution_count": 24,
   "id": "732cf96b",
   "metadata": {},
   "outputs": [
    {
     "name": "stdout",
     "output_type": "stream",
     "text": [
      "20/20 [==============================] - 0s 1ms/step - loss: 0.4142 - accuracy: 0.8065\n",
      "Accuracy: 80.65\n"
     ]
    }
   ],
   "source": [
    "# evaluate the keras model on training data\n",
    "_, accuracy = model.evaluate(X_train, Y_train)\n",
    "print('Accuracy: %.2f' % (accuracy * 100))"
   ]
  },
  {
   "cell_type": "code",
   "execution_count": 26,
   "id": "8ad58296",
   "metadata": {},
   "outputs": [
    {
     "name": "stdout",
     "output_type": "stream",
     "text": [
      "INFO:tensorflow:Assets written to: titanic_model.h1\\assets\n"
     ]
    }
   ],
   "source": [
    "# save the model \n",
    "model.save('titanic_model.h1')\n",
    "\n"
   ]
  },
  {
   "cell_type": "code",
   "execution_count": 27,
   "id": "8b5ac017",
   "metadata": {},
   "outputs": [
    {
     "name": "stdout",
     "output_type": "stream",
     "text": [
      "9/9 [==============================] - 0s 995us/step - loss: 0.4305 - accuracy: 0.8015\n",
      "Accuracy: 80.15\n"
     ]
    }
   ],
   "source": [
    "# predict the output \n",
    "predictions = model.predict(X_test)\n",
    "\n",
    "#print(\"Predictions:\", predictions)\n",
    "\n",
    "# evaluate model's performance on test data\n",
    "_, accuracy = model.evaluate(X_test, Y_test)\n",
    "print('Accuracy: %.2f' % (accuracy * 100))"
   ]
  },
  {
   "cell_type": "code",
   "execution_count": 28,
   "id": "11966339",
   "metadata": {},
   "outputs": [
    {
     "data": {
      "image/png": "[encoded data removed]",
      "text/plain": [
       "<Figure size 432x288 with 1 Axes>"
      ]
     },
     "metadata": {
      "needs_background": "light"
     },
     "output_type": "display_data"
    }
   ],
   "source": [
    "# plot the training accuracy and validation accuracy\n",
    "plt.plot(history.history['accuracy'])\n",
    "plt.plot(history.history['val_accuracy'])\n",
    "plt.title('model accuracy')\n",
    "plt.ylabel('accuracy')\n",
    "plt.xlabel('epoch')\n",
    "plt.legend(['train', 'val'], loc='upper left')\n",
    "plt.show()"
   ]
  },
  {
   "cell_type": "markdown",
   "id": "3522cb51",
   "metadata": {},
   "source": [
    "### Observations:\n",
    "Improve on model capacity: \n",
    "* if the first layer has 40 nodes, and the second layer has 50 nodes, the accuracy of the model is 83.87. \n",
    "* if I changed the first layer to 20 nodes and the second layer to 30 nodes, the accuracy of the model is 83.15. \n",
    "* if I changed the first layer to 15 nodes, and the second layer to 25 nodes, the accuracy of the model is 83.90\n",
    "* if I changed the first layer to 10 nodes, and the second layer to 20 nodes, the accuracy of the model is 81.65. \n",
    "\n",
    "So eventually I keep my model as: 15 nodes in the first layer and 25 nodes in the second layer\n"
   ]
  },
  {
   "cell_type": "code",
   "execution_count": 29,
   "id": "e223e013",
   "metadata": {},
   "outputs": [
    {
     "name": "stdout",
     "output_type": "stream",
     "text": [
      "Epoch 1/100\n",
      "112/112 - 1s - loss: 1.4362 - accuracy: 0.5950 - val_loss: 0.6093 - val_accuracy: 0.6935 - 582ms/epoch - 5ms/step\n",
      "Epoch 2/100\n",
      "112/112 - 0s - loss: 0.8064 - accuracy: 0.6631 - val_loss: 0.5581 - val_accuracy: 0.6774 - 114ms/epoch - 1ms/step\n",
      "Epoch 3/100\n",
      "112/112 - 0s - loss: 0.7373 - accuracy: 0.6935 - val_loss: 0.5993 - val_accuracy: 0.6452 - 126ms/epoch - 1ms/step\n",
      "Epoch 4/100\n",
      "112/112 - 0s - loss: 0.6676 - accuracy: 0.6344 - val_loss: 0.5722 - val_accuracy: 0.6774 - 154ms/epoch - 1ms/step\n",
      "Epoch 5/100\n",
      "112/112 - 0s - loss: 0.6292 - accuracy: 0.6882 - val_loss: 0.5917 - val_accuracy: 0.6935 - 134ms/epoch - 1ms/step\n",
      "Epoch 6/100\n",
      "112/112 - 0s - loss: 0.6092 - accuracy: 0.6631 - val_loss: 0.5814 - val_accuracy: 0.6452 - 132ms/epoch - 1ms/step\n",
      "Epoch 7/100\n",
      "112/112 - 0s - loss: 0.6136 - accuracy: 0.6828 - val_loss: 0.5953 - val_accuracy: 0.6935 - 188ms/epoch - 2ms/step\n",
      "Epoch 8/100\n",
      "112/112 - 0s - loss: 0.5991 - accuracy: 0.7025 - val_loss: 0.5908 - val_accuracy: 0.6129 - 131ms/epoch - 1ms/step\n",
      "Epoch 9/100\n",
      "112/112 - 0s - loss: 0.6135 - accuracy: 0.6953 - val_loss: 0.5581 - val_accuracy: 0.7097 - 190ms/epoch - 2ms/step\n",
      "Epoch 10/100\n",
      "112/112 - 0s - loss: 0.5937 - accuracy: 0.7151 - val_loss: 0.5903 - val_accuracy: 0.5968 - 160ms/epoch - 1ms/step\n",
      "Epoch 11/100\n",
      "112/112 - 0s - loss: 0.5735 - accuracy: 0.6882 - val_loss: 0.6223 - val_accuracy: 0.6290 - 190ms/epoch - 2ms/step\n",
      "Epoch 12/100\n",
      "112/112 - 0s - loss: 0.5744 - accuracy: 0.7097 - val_loss: 0.5781 - val_accuracy: 0.7419 - 172ms/epoch - 2ms/step\n",
      "Epoch 13/100\n",
      "112/112 - 0s - loss: 0.5493 - accuracy: 0.7258 - val_loss: 0.5671 - val_accuracy: 0.7097 - 124ms/epoch - 1ms/step\n",
      "Epoch 14/100\n",
      "112/112 - 0s - loss: 0.5745 - accuracy: 0.7204 - val_loss: 0.5855 - val_accuracy: 0.6452 - 152ms/epoch - 1ms/step\n",
      "Epoch 15/100\n",
      "112/112 - 0s - loss: 0.5404 - accuracy: 0.7151 - val_loss: 0.5386 - val_accuracy: 0.7581 - 127ms/epoch - 1ms/step\n",
      "Epoch 16/100\n",
      "112/112 - 0s - loss: 0.5292 - accuracy: 0.7599 - val_loss: 0.5149 - val_accuracy: 0.7419 - 134ms/epoch - 1ms/step\n",
      "Epoch 17/100\n",
      "112/112 - 0s - loss: 0.5419 - accuracy: 0.7437 - val_loss: 0.5416 - val_accuracy: 0.7581 - 156ms/epoch - 1ms/step\n",
      "Epoch 18/100\n",
      "112/112 - 0s - loss: 0.5353 - accuracy: 0.7348 - val_loss: 0.5631 - val_accuracy: 0.7258 - 225ms/epoch - 2ms/step\n",
      "Epoch 19/100\n",
      "112/112 - 0s - loss: 0.5260 - accuracy: 0.7455 - val_loss: 0.5294 - val_accuracy: 0.7097 - 178ms/epoch - 2ms/step\n",
      "Epoch 20/100\n",
      "112/112 - 0s - loss: 0.5126 - accuracy: 0.7509 - val_loss: 0.5310 - val_accuracy: 0.7258 - 160ms/epoch - 1ms/step\n",
      "Epoch 21/100\n",
      "112/112 - 0s - loss: 0.5176 - accuracy: 0.7581 - val_loss: 0.5124 - val_accuracy: 0.7903 - 132ms/epoch - 1ms/step\n",
      "Epoch 22/100\n",
      "112/112 - 0s - loss: 0.5221 - accuracy: 0.7832 - val_loss: 0.5225 - val_accuracy: 0.7903 - 201ms/epoch - 2ms/step\n",
      "Epoch 23/100\n",
      "112/112 - 0s - loss: 0.5252 - accuracy: 0.7706 - val_loss: 0.4869 - val_accuracy: 0.7742 - 144ms/epoch - 1ms/step\n",
      "Epoch 24/100\n",
      "112/112 - 0s - loss: 0.4970 - accuracy: 0.7760 - val_loss: 0.5070 - val_accuracy: 0.7581 - 156ms/epoch - 1ms/step\n",
      "Epoch 25/100\n",
      "112/112 - 0s - loss: 0.5029 - accuracy: 0.7849 - val_loss: 0.5142 - val_accuracy: 0.8065 - 157ms/epoch - 1ms/step\n",
      "Epoch 26/100\n",
      "112/112 - 0s - loss: 0.5111 - accuracy: 0.7599 - val_loss: 0.4897 - val_accuracy: 0.7419 - 158ms/epoch - 1ms/step\n",
      "Epoch 27/100\n",
      "112/112 - 0s - loss: 0.4858 - accuracy: 0.7885 - val_loss: 0.4932 - val_accuracy: 0.7742 - 155ms/epoch - 1ms/step\n",
      "Epoch 28/100\n",
      "112/112 - 0s - loss: 0.4978 - accuracy: 0.7975 - val_loss: 0.4829 - val_accuracy: 0.7742 - 231ms/epoch - 2ms/step\n",
      "Epoch 29/100\n",
      "112/112 - 0s - loss: 0.5012 - accuracy: 0.7778 - val_loss: 0.4786 - val_accuracy: 0.7581 - 200ms/epoch - 2ms/step\n",
      "Epoch 30/100\n",
      "112/112 - 0s - loss: 0.4772 - accuracy: 0.7760 - val_loss: 0.4658 - val_accuracy: 0.7581 - 192ms/epoch - 2ms/step\n",
      "Epoch 31/100\n",
      "112/112 - 0s - loss: 0.4988 - accuracy: 0.7921 - val_loss: 0.4678 - val_accuracy: 0.8065 - 237ms/epoch - 2ms/step\n",
      "Epoch 32/100\n",
      "112/112 - 0s - loss: 0.4873 - accuracy: 0.8082 - val_loss: 0.5232 - val_accuracy: 0.7742 - 214ms/epoch - 2ms/step\n",
      "Epoch 33/100\n",
      "112/112 - 0s - loss: 0.4634 - accuracy: 0.7903 - val_loss: 0.4737 - val_accuracy: 0.7903 - 178ms/epoch - 2ms/step\n",
      "Epoch 34/100\n",
      "112/112 - 0s - loss: 0.4818 - accuracy: 0.8029 - val_loss: 0.4370 - val_accuracy: 0.8387 - 164ms/epoch - 1ms/step\n",
      "Epoch 35/100\n",
      "112/112 - 0s - loss: 0.4835 - accuracy: 0.7849 - val_loss: 0.4469 - val_accuracy: 0.8065 - 164ms/epoch - 1ms/step\n",
      "Epoch 36/100\n",
      "112/112 - 0s - loss: 0.4987 - accuracy: 0.8208 - val_loss: 0.5003 - val_accuracy: 0.8065 - 233ms/epoch - 2ms/step\n",
      "Epoch 37/100\n",
      "112/112 - 0s - loss: 0.4706 - accuracy: 0.7867 - val_loss: 0.4919 - val_accuracy: 0.8387 - 175ms/epoch - 2ms/step\n",
      "Epoch 38/100\n",
      "112/112 - 0s - loss: 0.4851 - accuracy: 0.7921 - val_loss: 0.4802 - val_accuracy: 0.8226 - 181ms/epoch - 2ms/step\n",
      "Epoch 39/100\n",
      "112/112 - 0s - loss: 0.4742 - accuracy: 0.7939 - val_loss: 0.4540 - val_accuracy: 0.7742 - 157ms/epoch - 1ms/step\n",
      "Epoch 40/100\n",
      "112/112 - 0s - loss: 0.4817 - accuracy: 0.8065 - val_loss: 0.4503 - val_accuracy: 0.7903 - 161ms/epoch - 1ms/step\n",
      "Epoch 41/100\n",
      "112/112 - 0s - loss: 0.4575 - accuracy: 0.7975 - val_loss: 0.4253 - val_accuracy: 0.8065 - 244ms/epoch - 2ms/step\n",
      "Epoch 42/100\n",
      "112/112 - 0s - loss: 0.4536 - accuracy: 0.8154 - val_loss: 0.4629 - val_accuracy: 0.7742 - 160ms/epoch - 1ms/step\n",
      "Epoch 43/100\n",
      "112/112 - 0s - loss: 0.4765 - accuracy: 0.8029 - val_loss: 0.4346 - val_accuracy: 0.8065 - 165ms/epoch - 1ms/step\n",
      "Epoch 44/100\n",
      "112/112 - 0s - loss: 0.4521 - accuracy: 0.8190 - val_loss: 0.4351 - val_accuracy: 0.7581 - 173ms/epoch - 2ms/step\n",
      "Epoch 45/100\n",
      "112/112 - 0s - loss: 0.4693 - accuracy: 0.7975 - val_loss: 0.4404 - val_accuracy: 0.7742 - 166ms/epoch - 1ms/step\n",
      "Epoch 46/100\n",
      "112/112 - 0s - loss: 0.4680 - accuracy: 0.8100 - val_loss: 0.4239 - val_accuracy: 0.8387 - 157ms/epoch - 1ms/step\n",
      "Epoch 47/100\n",
      "112/112 - 0s - loss: 0.4707 - accuracy: 0.8065 - val_loss: 0.4046 - val_accuracy: 0.7903 - 163ms/epoch - 1ms/step\n",
      "Epoch 48/100\n",
      "112/112 - 0s - loss: 0.4617 - accuracy: 0.8047 - val_loss: 0.4047 - val_accuracy: 0.8387 - 160ms/epoch - 1ms/step\n",
      "Epoch 49/100\n",
      "112/112 - 0s - loss: 0.4361 - accuracy: 0.8208 - val_loss: 0.4521 - val_accuracy: 0.8065 - 180ms/epoch - 2ms/step\n",
      "Epoch 50/100\n",
      "112/112 - 0s - loss: 0.4573 - accuracy: 0.8082 - val_loss: 0.4090 - val_accuracy: 0.8226 - 150ms/epoch - 1ms/step\n",
      "Epoch 51/100\n",
      "112/112 - 0s - loss: 0.4503 - accuracy: 0.8118 - val_loss: 0.4155 - val_accuracy: 0.7903 - 157ms/epoch - 1ms/step\n",
      "Epoch 52/100\n",
      "112/112 - 0s - loss: 0.4247 - accuracy: 0.8136 - val_loss: 0.4105 - val_accuracy: 0.8226 - 154ms/epoch - 1ms/step\n",
      "Epoch 53/100\n",
      "112/112 - 0s - loss: 0.4374 - accuracy: 0.8190 - val_loss: 0.4943 - val_accuracy: 0.7903 - 155ms/epoch - 1ms/step\n",
      "Epoch 54/100\n",
      "112/112 - 0s - loss: 0.4362 - accuracy: 0.8118 - val_loss: 0.3948 - val_accuracy: 0.8065 - 162ms/epoch - 1ms/step\n",
      "Epoch 55/100\n",
      "112/112 - 0s - loss: 0.4127 - accuracy: 0.8297 - val_loss: 0.4031 - val_accuracy: 0.8387 - 140ms/epoch - 1ms/step\n",
      "Epoch 56/100\n",
      "112/112 - 0s - loss: 0.4487 - accuracy: 0.8154 - val_loss: 0.4263 - val_accuracy: 0.8387 - 143ms/epoch - 1ms/step\n",
      "Epoch 57/100\n",
      "112/112 - 0s - loss: 0.4503 - accuracy: 0.8100 - val_loss: 0.4036 - val_accuracy: 0.8226 - 146ms/epoch - 1ms/step\n",
      "Epoch 58/100\n",
      "112/112 - 0s - loss: 0.4522 - accuracy: 0.8154 - val_loss: 0.4475 - val_accuracy: 0.8226 - 156ms/epoch - 1ms/step\n",
      "Epoch 59/100\n",
      "112/112 - 0s - loss: 0.4445 - accuracy: 0.8154 - val_loss: 0.3881 - val_accuracy: 0.8387 - 139ms/epoch - 1ms/step\n",
      "Epoch 60/100\n",
      "112/112 - 0s - loss: 0.4288 - accuracy: 0.8226 - val_loss: 0.4064 - val_accuracy: 0.7903 - 139ms/epoch - 1ms/step\n",
      "Epoch 61/100\n",
      "112/112 - 0s - loss: 0.4387 - accuracy: 0.8262 - val_loss: 0.3971 - val_accuracy: 0.8387 - 145ms/epoch - 1ms/step\n",
      "Epoch 62/100\n",
      "112/112 - 0s - loss: 0.4298 - accuracy: 0.8047 - val_loss: 0.3797 - val_accuracy: 0.8226 - 140ms/epoch - 1ms/step\n",
      "Epoch 63/100\n",
      "112/112 - 0s - loss: 0.4499 - accuracy: 0.8333 - val_loss: 0.4280 - val_accuracy: 0.8226 - 143ms/epoch - 1ms/step\n",
      "Epoch 64/100\n",
      "112/112 - 0s - loss: 0.4392 - accuracy: 0.8208 - val_loss: 0.3803 - val_accuracy: 0.8226 - 141ms/epoch - 1ms/step\n",
      "Epoch 65/100\n",
      "112/112 - 0s - loss: 0.4142 - accuracy: 0.8244 - val_loss: 0.3725 - val_accuracy: 0.8387 - 140ms/epoch - 1ms/step\n"
     ]
    },
    {
     "name": "stdout",
     "output_type": "stream",
     "text": [
      "Epoch 66/100\n",
      "112/112 - 0s - loss: 0.4210 - accuracy: 0.8244 - val_loss: 0.4152 - val_accuracy: 0.8065 - 141ms/epoch - 1ms/step\n",
      "Epoch 67/100\n",
      "112/112 - 0s - loss: 0.4286 - accuracy: 0.8118 - val_loss: 0.4292 - val_accuracy: 0.8065 - 134ms/epoch - 1ms/step\n",
      "Epoch 68/100\n",
      "112/112 - 0s - loss: 0.4396 - accuracy: 0.8190 - val_loss: 0.4160 - val_accuracy: 0.8226 - 146ms/epoch - 1ms/step\n",
      "Epoch 69/100\n",
      "112/112 - 0s - loss: 0.4276 - accuracy: 0.8280 - val_loss: 0.3892 - val_accuracy: 0.8226 - 139ms/epoch - 1ms/step\n",
      "Epoch 70/100\n",
      "112/112 - 0s - loss: 0.4093 - accuracy: 0.8315 - val_loss: 0.3835 - val_accuracy: 0.8065 - 141ms/epoch - 1ms/step\n",
      "Epoch 71/100\n",
      "112/112 - 0s - loss: 0.4223 - accuracy: 0.8100 - val_loss: 0.3754 - val_accuracy: 0.8387 - 140ms/epoch - 1ms/step\n",
      "Epoch 72/100\n",
      "112/112 - 0s - loss: 0.4314 - accuracy: 0.8047 - val_loss: 0.3801 - val_accuracy: 0.8226 - 140ms/epoch - 1ms/step\n",
      "Epoch 73/100\n",
      "112/112 - 0s - loss: 0.4081 - accuracy: 0.8244 - val_loss: 0.4060 - val_accuracy: 0.8065 - 156ms/epoch - 1ms/step\n",
      "Epoch 74/100\n",
      "112/112 - 0s - loss: 0.4190 - accuracy: 0.8315 - val_loss: 0.3644 - val_accuracy: 0.8387 - 139ms/epoch - 1ms/step\n",
      "Epoch 75/100\n",
      "112/112 - 0s - loss: 0.4024 - accuracy: 0.8280 - val_loss: 0.3709 - val_accuracy: 0.8387 - 163ms/epoch - 1ms/step\n",
      "Epoch 76/100\n",
      "112/112 - 0s - loss: 0.4437 - accuracy: 0.8226 - val_loss: 0.3714 - val_accuracy: 0.8226 - 168ms/epoch - 2ms/step\n",
      "Epoch 77/100\n",
      "112/112 - 0s - loss: 0.4180 - accuracy: 0.8315 - val_loss: 0.3818 - val_accuracy: 0.8226 - 246ms/epoch - 2ms/step\n",
      "Epoch 78/100\n",
      "112/112 - 0s - loss: 0.4111 - accuracy: 0.8369 - val_loss: 0.3777 - val_accuracy: 0.8387 - 147ms/epoch - 1ms/step\n",
      "Epoch 79/100\n",
      "112/112 - 0s - loss: 0.4184 - accuracy: 0.8226 - val_loss: 0.3817 - val_accuracy: 0.8226 - 140ms/epoch - 1ms/step\n",
      "Epoch 80/100\n",
      "112/112 - 0s - loss: 0.4174 - accuracy: 0.8190 - val_loss: 0.3952 - val_accuracy: 0.8065 - 142ms/epoch - 1ms/step\n",
      "Epoch 81/100\n",
      "112/112 - 0s - loss: 0.4214 - accuracy: 0.8280 - val_loss: 0.4260 - val_accuracy: 0.7903 - 217ms/epoch - 2ms/step\n",
      "Epoch 82/100\n",
      "112/112 - 0s - loss: 0.4040 - accuracy: 0.8405 - val_loss: 0.3669 - val_accuracy: 0.8226 - 163ms/epoch - 1ms/step\n",
      "Epoch 83/100\n",
      "112/112 - 0s - loss: 0.4042 - accuracy: 0.8208 - val_loss: 0.3867 - val_accuracy: 0.8387 - 144ms/epoch - 1ms/step\n",
      "Epoch 84/100\n",
      "112/112 - 0s - loss: 0.4010 - accuracy: 0.8315 - val_loss: 0.4014 - val_accuracy: 0.8226 - 149ms/epoch - 1ms/step\n",
      "Epoch 85/100\n",
      "112/112 - 0s - loss: 0.4031 - accuracy: 0.8333 - val_loss: 0.4024 - val_accuracy: 0.8226 - 240ms/epoch - 2ms/step\n",
      "Epoch 86/100\n",
      "112/112 - 0s - loss: 0.4119 - accuracy: 0.8315 - val_loss: 0.3693 - val_accuracy: 0.8226 - 148ms/epoch - 1ms/step\n",
      "Epoch 87/100\n",
      "112/112 - 0s - loss: 0.3991 - accuracy: 0.8387 - val_loss: 0.4161 - val_accuracy: 0.8065 - 154ms/epoch - 1ms/step\n",
      "Epoch 88/100\n",
      "112/112 - 0s - loss: 0.4266 - accuracy: 0.8226 - val_loss: 0.3702 - val_accuracy: 0.8226 - 226ms/epoch - 2ms/step\n",
      "Epoch 89/100\n",
      "112/112 - 0s - loss: 0.4148 - accuracy: 0.8297 - val_loss: 0.3803 - val_accuracy: 0.8226 - 152ms/epoch - 1ms/step\n",
      "Epoch 90/100\n",
      "112/112 - 0s - loss: 0.4203 - accuracy: 0.8333 - val_loss: 0.3950 - val_accuracy: 0.8226 - 157ms/epoch - 1ms/step\n",
      "Epoch 91/100\n",
      "112/112 - 0s - loss: 0.4127 - accuracy: 0.8315 - val_loss: 0.3806 - val_accuracy: 0.8226 - 149ms/epoch - 1ms/step\n",
      "Epoch 92/100\n",
      "112/112 - 0s - loss: 0.4219 - accuracy: 0.8351 - val_loss: 0.4353 - val_accuracy: 0.8387 - 146ms/epoch - 1ms/step\n",
      "Epoch 93/100\n",
      "112/112 - 0s - loss: 0.4071 - accuracy: 0.8351 - val_loss: 0.3671 - val_accuracy: 0.8387 - 235ms/epoch - 2ms/step\n",
      "Epoch 94/100\n",
      "112/112 - 0s - loss: 0.4248 - accuracy: 0.8280 - val_loss: 0.4820 - val_accuracy: 0.8065 - 185ms/epoch - 2ms/step\n"
     ]
    }
   ],
   "source": [
    "## If we want to further improve the model capacity and avoid overfitting, let's try to use drop out\n",
    "\n",
    "model_new = Sequential()\n",
    "\n",
    "# Add the first layer \n",
    "input_layer = Dense(units = 180, activation='relu', input_shape = (n_cols,)) \n",
    "model_new.add(input_layer) \n",
    "\n",
    "# add dropout\n",
    "#model_new.add(Dropout(0.5))\n",
    "\n",
    "# # Add the second layer \n",
    "hidden_layer = Dense(units = 180, activation='relu') \n",
    "model_new.add(hidden_layer)\n",
    "\n",
    "# add dropout\n",
    "model_new.add(Dropout(0.5))\n",
    "\n",
    "# # Add the output layer\n",
    "model_new.add(Dense(1, activation='sigmoid'))\n",
    "\n",
    "# Compile the keras model\n",
    "model_new.compile(loss='binary_crossentropy', optimizer='adam', metrics=['accuracy'])\n",
    "\n",
    "# Define early_stopping_monitor\n",
    "# here, we set the number of epochs the model can take without improving rate. \n",
    "early_stopping_monitor = EarlyStopping(patience=20)\n",
    "\n",
    "history_new = model_new.fit(X_train, Y_train, epochs=100, batch_size=5, validation_split= 0.1, callbacks=[early_stopping_monitor], verbose=2)\n"
   ]
  },
  {
   "cell_type": "code",
   "execution_count": 30,
   "id": "cd5e7998",
   "metadata": {},
   "outputs": [
    {
     "name": "stdout",
     "output_type": "stream",
     "text": [
      "20/20 [==============================] - 0s 895us/step - loss: 0.4401 - accuracy: 0.8194\n",
      "Training Accuracy: 81.94\n"
     ]
    }
   ],
   "source": [
    "# evaluate the keras model on training data\n",
    "_, accuracy = model_new.evaluate(X_train, Y_train)\n",
    "print('Training Accuracy: %.2f' % (accuracy * 100))"
   ]
  },
  {
   "cell_type": "code",
   "execution_count": 31,
   "id": "2cdd3a07",
   "metadata": {},
   "outputs": [
    {
     "name": "stdout",
     "output_type": "stream",
     "text": [
      "9/9 [==============================] - 0s 2ms/step - loss: 0.5316 - accuracy: 0.7790\n",
      "Testing Accuracy: 77.90\n"
     ]
    }
   ],
   "source": [
    "_, accuracy = model_new.evaluate(X_test, Y_test)\n",
    "print('Testing Accuracy: %.2f' % (accuracy * 100))"
   ]
  },
  {
   "cell_type": "code",
   "execution_count": 32,
   "id": "17b35806",
   "metadata": {},
   "outputs": [
    {
     "data": {
      "image/png": "[encoded data removed]",
      "text/plain": [
       "<Figure size 432x288 with 1 Axes>"
      ]
     },
     "metadata": {
      "needs_background": "light"
     },
     "output_type": "display_data"
    }
   ],
   "source": [
    "# plot the training accuracy and validation accuracy\n",
    "plt.plot(history_new.history['accuracy'])\n",
    "plt.plot(history_new.history['val_accuracy'])\n",
    "plt.title('model accuracy')\n",
    "plt.ylabel('accuracy')\n",
    "plt.xlabel('epoch')\n",
    "plt.legend(['train', 'val'], loc='upper left')\n",
    "plt.show()"
   ]
  },
  {
   "cell_type": "markdown",
   "id": "00bd1fae",
   "metadata": {},
   "source": [
    "### Observations:\n",
    "* if we used 120 nodes in the first layer, and another 120 nodes in the second layer. Without the dropout layer, the training accuracy is 86.45, and the testing accuracy is 81.65.\n",
    "* if we used the same number nodes in both layer (with dropout layer), the testing accuracy is 82.40 and the training accuracy is 84.52.\n",
    "* adding a dropout layer could slightly improve the accuracy testing rate and reduce overfitting. "
   ]
  },
  {
   "cell_type": "markdown",
   "id": "8522705a",
   "metadata": {},
   "source": [
    "### Use logistic regression"
   ]
  },
  {
   "cell_type": "code",
   "execution_count": 33,
   "id": "fcd5ac4e",
   "metadata": {},
   "outputs": [
    {
     "name": "stdout",
     "output_type": "stream",
     "text": [
      "Number of mislabeled points out of a total 267 points : 56\n",
      "testing accuracy rate: 0.7902621722846442\n"
     ]
    }
   ],
   "source": [
    "logreg = LogisticRegression()\n",
    "logreg.fit(X_train, Y_train)\n",
    "Y_pred_log = logreg.predict(X_test)\n",
    "acc_log_train = round(logreg.score(X_train, Y_train) * 100, 2)\n",
    "Y_pred_logit_prob = logreg.predict_proba(X_test)[:, 1]\n",
    "\n",
    "\n",
    "print(\"Number of mislabeled points out of a total %d points : %d\"\n",
    "% (X_test.shape[0], (Y_pred_log != Y_test).sum()))\n",
    "\n",
    "print(\"testing accuracy rate:\", accuracy_score(Y_test, Y_pred_log))\n"
   ]
  },
  {
   "cell_type": "code",
   "execution_count": 34,
   "id": "f3446bd5",
   "metadata": {},
   "outputs": [
    {
     "data": {
      "text/plain": [
       "1"
      ]
     },
     "execution_count": 34,
     "metadata": {},
     "output_type": "execute_result"
    }
   ],
   "source": [
    "logreg.classes_[1]"
   ]
  },
  {
   "cell_type": "code",
   "execution_count": 35,
   "id": "f9bf09e7",
   "metadata": {},
   "outputs": [
    {
     "data": {
      "image/png": "[encoded data removed]",
      "text/plain": [
       "<Figure size 432x288 with 1 Axes>"
      ]
     },
     "metadata": {
      "needs_background": "light"
     },
     "output_type": "display_data"
    }
   ],
   "source": [
    "Y_score = logreg.decision_function(X_test)\n",
    "Y_pred_prob = logreg.predict_proba(X_test)[::,1]\n",
    "fpr, tpr, thresholds = roc_curve(Y_test, Y_score, pos_label=logreg.classes_[1])\n",
    "auc = roc_auc_score(Y_test, Y_pred_prob)\n",
    "roc_display = RocCurveDisplay(fpr=fpr, tpr=tpr).plot(label=\"auc:\"+str(auc))"
   ]
  },
  {
   "cell_type": "code",
   "execution_count": 36,
   "id": "ac9c7139",
   "metadata": {},
   "outputs": [
    {
     "data": {
      "text/plain": [
       "Text(0.5, 15.0, 'Predicted label')"
      ]
     },
     "execution_count": 36,
     "metadata": {},
     "output_type": "execute_result"
    },
    {
     "data": {
      "image/png": "[encoded data removed]",
      "text/plain": [
       "<Figure size 432x288 with 2 Axes>"
      ]
     },
     "metadata": {
      "needs_background": "light"
     },
     "output_type": "display_data"
    }
   ],
   "source": [
    "cnf_matrix = confusion_matrix(Y_test, Y_pred_log)\n",
    "sns.heatmap(pd.DataFrame(cnf_matrix), annot=True, cmap=\"YlGnBu\" ,fmt='g')\n",
    "ax.xaxis.set_label_position(\"top\")\n",
    "plt.title('Confusion matrix', y=1.1)\n",
    "plt.ylabel('Actual label')\n",
    "plt.xlabel('Predicted label')"
   ]
  },
  {
   "cell_type": "markdown",
   "id": "80d8257e",
   "metadata": {},
   "source": [
    "### Observations:\n",
    "* we could see that 34 people were wrongly labelled as \"not survived\"\n",
    "* 22 people were wrongly labelled as \"survived\""
   ]
  },
  {
   "cell_type": "markdown",
   "id": "21fce472",
   "metadata": {},
   "source": [
    "### Use random forest"
   ]
  },
  {
   "cell_type": "code",
   "execution_count": 45,
   "id": "7a2c232f",
   "metadata": {},
   "outputs": [],
   "source": [
    "random_forest = RandomForestClassifier(n_estimators=100)\n",
    "random_forest.fit(X_train, Y_train)\n",
    "Y_pred_forest = random_forest.predict(X_test)"
   ]
  },
  {
   "cell_type": "code",
   "execution_count": 46,
   "id": "d0482327",
   "metadata": {},
   "outputs": [
    {
     "data": {
      "text/plain": [
       "0.9806451612903225"
      ]
     },
     "execution_count": 46,
     "metadata": {},
     "output_type": "execute_result"
    }
   ],
   "source": [
    "random_forest.score(X_train, Y_train)"
   ]
  },
  {
   "cell_type": "code",
   "execution_count": 47,
   "id": "f9f44322",
   "metadata": {},
   "outputs": [
    {
     "data": {
      "text/plain": [
       "0.8127340823970037"
      ]
     },
     "execution_count": 47,
     "metadata": {},
     "output_type": "execute_result"
    }
   ],
   "source": [
    "random_forest.score(X_test, Y_test)"
   ]
  },
  {
   "cell_type": "code",
   "execution_count": 48,
   "id": "a5f63674",
   "metadata": {},
   "outputs": [
    {
     "data": {
      "text/html": [
       "<div>\n",
       "<style scoped>\n",
       "    .dataframe tbody tr th:only-of-type {\n",
       "        vertical-align: middle;\n",
       "    }\n",
       "\n",
       "    .dataframe tbody tr th {\n",
       "        vertical-align: top;\n",
       "    }\n",
       "\n",
       "    .dataframe thead th {\n",
       "        text-align: right;\n",
       "    }\n",
       "</style>\n",
       "<table border=\"1\" class=\"dataframe\">\n",
       "  <thead>\n",
       "    <tr style=\"text-align: right;\">\n",
       "      <th></th>\n",
       "      <th>importance</th>\n",
       "    </tr>\n",
       "    <tr>\n",
       "      <th>feature</th>\n",
       "      <th></th>\n",
       "    </tr>\n",
       "  </thead>\n",
       "  <tbody>\n",
       "    <tr>\n",
       "      <th>Age</th>\n",
       "      <td>0.278</td>\n",
       "    </tr>\n",
       "    <tr>\n",
       "      <th>Fare</th>\n",
       "      <td>0.274</td>\n",
       "    </tr>\n",
       "    <tr>\n",
       "      <th>Sex</th>\n",
       "      <td>0.267</td>\n",
       "    </tr>\n",
       "    <tr>\n",
       "      <th>Pclass</th>\n",
       "      <td>0.071</td>\n",
       "    </tr>\n",
       "    <tr>\n",
       "      <th>total_relatives</th>\n",
       "      <td>0.052</td>\n",
       "    </tr>\n",
       "    <tr>\n",
       "      <th>Siblings/Spouses Aboard</th>\n",
       "      <td>0.029</td>\n",
       "    </tr>\n",
       "    <tr>\n",
       "      <th>Parents/Children Aboard</th>\n",
       "      <td>0.028</td>\n",
       "    </tr>\n",
       "  </tbody>\n",
       "</table>\n",
       "</div>"
      ],
      "text/plain": [
       "                         importance\n",
       "feature                            \n",
       "Age                           0.278\n",
       "Fare                          0.274\n",
       "Sex                           0.267\n",
       "Pclass                        0.071\n",
       "total_relatives               0.052\n",
       "Siblings/Spouses Aboard       0.029\n",
       "Parents/Children Aboard       0.028"
      ]
     },
     "execution_count": 48,
     "metadata": {},
     "output_type": "execute_result"
    }
   ],
   "source": [
    "importances = pd.DataFrame({'feature':X_train.columns,'importance':np.round(random_forest.feature_importances_,3)})\n",
    "importances = importances.sort_values('importance',ascending=False).set_index('feature')\n",
    "importances.head(7)"
   ]
  },
  {
   "cell_type": "code",
   "execution_count": 49,
   "id": "3601e90f",
   "metadata": {},
   "outputs": [],
   "source": [
    "#Let's drop the last two features because they have relatively low feature importance\n",
    "X_train_new = X_train.drop(['Siblings/Spouses Aboard', 'Parents/Children Aboard'], axis=1)\n",
    "X_test_new = X_test.drop(['Siblings/Spouses Aboard', 'Parents/Children Aboard'], axis=1)"
   ]
  },
  {
   "cell_type": "markdown",
   "id": "2b292fc8",
   "metadata": {},
   "source": [
    "#### Playing around with min sample leaves\n",
    "Based on Sklearn documentation, min sample leaf refers to \"The minimum number of samples required to be at a leaf node. A split point at any depth will only be considered if it leaves at least min_samples_leaf training samples in each of the left and right branches. \". If we set min sample leaf to 1, that means the tree can grow really deep. "
   ]
  },
  {
   "cell_type": "code",
   "execution_count": 43,
   "id": "cf26d1e9",
   "metadata": {},
   "outputs": [
    {
     "name": "stdout",
     "output_type": "stream",
     "text": [
      "5\n",
      "training score: 0.8774193548387097\n",
      "testing score: 0.8352059925093633\n",
      "total depth of decision trees 522\n",
      "    \n",
      "6\n",
      "training score: 0.8709677419354839\n",
      "testing score: 0.8239700374531835\n",
      "total depth of decision trees 516\n",
      "    \n",
      "7\n",
      "training score: 0.8612903225806452\n",
      "testing score: 0.8014981273408239\n",
      "total depth of decision trees 461\n",
      "    \n",
      "8\n",
      "training score: 0.8629032258064516\n",
      "testing score: 0.8164794007490637\n",
      "total depth of decision trees 469\n",
      "    \n",
      "9\n",
      "training score: 0.8612903225806452\n",
      "testing score: 0.797752808988764\n",
      "total depth of decision trees 437\n",
      "    \n",
      "10\n",
      "training score: 0.8629032258064516\n",
      "testing score: 0.8052434456928839\n",
      "total depth of decision trees 429\n",
      "    \n"
     ]
    }
   ],
   "source": [
    "min_sample_leaves=[5, 6, 7, 8, 9, 10]\n",
    "for i in min_sample_leaves:\n",
    "    forest = RandomForestClassifier(n_estimators=50, n_jobs=-1, class_weight=\"balanced\", min_samples_leaf=i)\n",
    "    forest.fit(X_train_new, Y_train)\n",
    "    print(i)\n",
    "    print(\"training score:\", forest.score(X_train_new, Y_train))\n",
    "    print(\"testing score:\", forest.score(X_test_new, Y_test))\n",
    "    print(\"total depth of decision trees\", sum([estimator.get_depth() for estimator in forest.estimators_]))\n",
    "    print(\"    \")"
   ]
  },
  {
   "cell_type": "markdown",
   "id": "f8a827aa",
   "metadata": {},
   "source": [
    "* From what we could see above, as min sample leaf increases, the depth of tree decreases. \n",
    "* when min sample leaf = 8, we could reduce overfitting and also have a testing score of 0.81 (which looks better than when min sample leaf is the other values)"
   ]
  },
  {
   "cell_type": "code",
   "execution_count": 61,
   "id": "d870f4c9",
   "metadata": {},
   "outputs": [],
   "source": [
    "random_forest_n = RandomForestClassifier(n_estimators=50, n_jobs=-1, class_weight=\"balanced\", min_samples_leaf=8)\n",
    "random_forest_n.fit(X_train_new, Y_train)\n",
    "Y_pred_forest = random_forest_n.predict(X_test_new)\n",
    "Y_pred_forest_prob = random_forest_n.predict_proba(X_test_new)[:, 1]"
   ]
  },
  {
   "cell_type": "code",
   "execution_count": 62,
   "id": "97d74987",
   "metadata": {},
   "outputs": [
    {
     "data": {
      "text/plain": [
       "(267,)"
      ]
     },
     "execution_count": 62,
     "metadata": {},
     "output_type": "execute_result"
    }
   ],
   "source": [
    "Y_pred_forest_prob.shape"
   ]
  },
  {
   "cell_type": "code",
   "execution_count": 63,
   "id": "e75e4511",
   "metadata": {},
   "outputs": [],
   "source": [
    "#Y_pred_forest_ = Y_pred_forest_prob[:, 1] #grad the second column and 267 rows "
   ]
  },
  {
   "cell_type": "code",
   "execution_count": 64,
   "id": "9ca29e90",
   "metadata": {},
   "outputs": [
    {
     "data": {
      "text/plain": [
       "0.8661290322580645"
      ]
     },
     "execution_count": 64,
     "metadata": {},
     "output_type": "execute_result"
    }
   ],
   "source": [
    "random_forest_n.score(X_train_new, Y_train)\n"
   ]
  },
  {
   "cell_type": "code",
   "execution_count": 65,
   "id": "abbf4104",
   "metadata": {},
   "outputs": [
    {
     "data": {
      "text/plain": [
       "0.8202247191011236"
      ]
     },
     "execution_count": 65,
     "metadata": {},
     "output_type": "execute_result"
    }
   ],
   "source": [
    "random_forest_n.score(X_test_new, Y_test)"
   ]
  },
  {
   "cell_type": "markdown",
   "id": "78fdc9e0",
   "metadata": {},
   "source": [
    "#### As we could see, the testing score slightly increases after we dropped the last two features "
   ]
  },
  {
   "cell_type": "markdown",
   "id": "2695c645",
   "metadata": {},
   "source": [
    "### Model Evaluation "
   ]
  },
  {
   "cell_type": "markdown",
   "id": "8a332c77",
   "metadata": {},
   "source": [
    "Let's compare random forest and logistic regression "
   ]
  },
  {
   "cell_type": "code",
   "execution_count": 66,
   "id": "4a1667bd",
   "metadata": {},
   "outputs": [],
   "source": [
    "tn, fp, fn, tp = confusion_matrix(Y_test, Y_pred_forest).ravel()"
   ]
  },
  {
   "cell_type": "code",
   "execution_count": 67,
   "id": "7dfeb6d8",
   "metadata": {},
   "outputs": [
    {
     "data": {
      "text/plain": [
       "(139, 23, 25, 80)"
      ]
     },
     "execution_count": 67,
     "metadata": {},
     "output_type": "execute_result"
    }
   ],
   "source": [
    "(tn, fp, fn, tp)"
   ]
  },
  {
   "cell_type": "markdown",
   "id": "0c3ddcd9",
   "metadata": {},
   "source": [
    "* 139 passengers were correctly classified as \"not survived\"\n",
    "* 23 passengers were correctly classified as \"survived\"\n",
    "* 25 passengers were falsely classified as \"survived\"\n",
    "* 80 passengers were falsely classified as \"not survived\""
   ]
  },
  {
   "cell_type": "code",
   "execution_count": 68,
   "id": "ddc0f2d3",
   "metadata": {},
   "outputs": [
    {
     "data": {
      "text/plain": [
       "Text(0.5, 15.0, 'Predicted label')"
      ]
     },
     "execution_count": 68,
     "metadata": {},
     "output_type": "execute_result"
    },
    {
     "data": {
      "image/png": "[encoded data removed]",
      "text/plain": [
       "<Figure size 432x288 with 2 Axes>"
      ]
     },
     "metadata": {
      "needs_background": "light"
     },
     "output_type": "display_data"
    }
   ],
   "source": [
    "cnf_matrix = confusion_matrix(Y_test, Y_pred_forest)\n",
    "sns.heatmap(pd.DataFrame(cnf_matrix), annot=True, cmap=\"YlGnBu\" ,fmt='g')\n",
    "ax.xaxis.set_label_position(\"top\")\n",
    "plt.title('Confusion matrix', y=1.1)\n",
    "plt.ylabel('Actual label')\n",
    "plt.xlabel('Predicted label')"
   ]
  },
  {
   "cell_type": "code",
   "execution_count": 58,
   "id": "763e3532",
   "metadata": {},
   "outputs": [
    {
     "data": {
      "text/plain": [
       "Text(0.5, 15.0, 'Predicted label')"
      ]
     },
     "execution_count": 58,
     "metadata": {},
     "output_type": "execute_result"
    },
    {
     "data": {
      "image/png": "[encoded data removed]",
      "text/plain": [
       "<Figure size 432x288 with 2 Axes>"
      ]
     },
     "metadata": {
      "needs_background": "light"
     },
     "output_type": "display_data"
    }
   ],
   "source": [
    "cnf_matrix = confusion_matrix(Y_test, Y_pred_log)\n",
    "sns.heatmap(pd.DataFrame(cnf_matrix), annot=True, cmap=\"YlGnBu\" ,fmt='g')\n",
    "ax.xaxis.set_label_position(\"top\")\n",
    "plt.title('Confusion matrix', y=1.1)\n",
    "plt.ylabel('Actual label')\n",
    "plt.xlabel('Predicted label')"
   ]
  },
  {
   "cell_type": "markdown",
   "id": "455a52d7",
   "metadata": {},
   "source": [
    "random forest did slightly better in recognizing true positive. The false positive rate of the logistic regression is higher than random forest. "
   ]
  },
  {
   "cell_type": "code",
   "execution_count": 59,
   "id": "c7209245",
   "metadata": {},
   "outputs": [],
   "source": [
    "##### Plotting\n",
    "def makeSepPlot( varTrue, varPred, title='Classifier Separation', yscale='log', threshold=0.5, pdf=None):\n",
    "\n",
    "    '''\n",
    "    Make Classifier seperation plot. Input parameters are: \n",
    "      varPred : Required. Variable for model prediction \n",
    "      varTrue : Required. Variable for source of truth - actual bundle\n",
    "      title   : Optional. Title for plot.\n",
    "    '''\n",
    "    \n",
    "    bins =  np.linspace(0, 100, 41)\n",
    "    plt.hist( varPred[ varTrue == 1 ] *100 , color='red'  , alpha = 0.7, bins = bins, label='Truely Bundled'    , lw = 0)\n",
    "    plt.hist( varPred[ varTrue == 0 ] *100, color='blue' , alpha = 0.5, bins = bins, label='Truely Not Bundled', lw = 0)\n",
    "    plt.axvline(threshold*100, color='k', linestyle='dashed', linewidth=1)\n",
    "    plt.yscale(yscale)\n",
    "    plt.xlabel('Probability of Being Bundled')\n",
    "    plt.ylabel('Counts')\n",
    "    plt.ylim(bottom=0.9)\n",
    "    plt.title ( title )\n",
    "    plt.legend()\n",
    "    if pdf is not None: \n",
    "        pdf.savefig()\n",
    "    plt.show()\n"
   ]
  },
  {
   "cell_type": "code",
   "execution_count": 60,
   "id": "757d56b5",
   "metadata": {},
   "outputs": [
    {
     "data": {
      "image/png": "[encoded data removed]",
      "text/plain": [
       "<Figure size 432x288 with 1 Axes>"
      ]
     },
     "metadata": {
      "needs_background": "light"
     },
     "output_type": "display_data"
    },
    {
     "data": {
      "image/png": "[encoded data removed]",
      "text/plain": [
       "<Figure size 432x288 with 1 Axes>"
      ]
     },
     "metadata": {
      "needs_background": "light"
     },
     "output_type": "display_data"
    }
   ],
   "source": [
    "makeSepPlot(Y_test, Y_pred_forest_prob, yscale=\"log\")\n",
    "makeSepPlot(Y_test, Y_pred_logit_prob, yscale=\"log\")"
   ]
  },
  {
   "cell_type": "markdown",
   "id": "00f66934",
   "metadata": {},
   "source": [
    "* our false positive in general is lower than false negative. "
   ]
  },
  {
   "cell_type": "markdown",
   "id": "a27300cd",
   "metadata": {},
   "source": [
    "### Hypter Parameter Tuning"
   ]
  },
  {
   "cell_type": "code",
   "execution_count": 72,
   "id": "f3fe127d",
   "metadata": {},
   "outputs": [],
   "source": [
    " #### Create the random grid\n",
    "\n",
    "# Number of trees in random forest\n",
    "n_estimators = [int(x) for x in np.linspace(start = 20, stop = 200, num = 10)]\n",
    "# Number of features to consider at every split\n",
    "max_features = ['auto', 'sqrt']\n",
    "# # Maximum number of levels in tree\n",
    "max_depth = [int(x) for x in np.linspace(5, 110, num = 11)]\n",
    "# max_depth.append(None)\n",
    "# Minimum number of samples required to split a node\n",
    "min_samples_split = [2, 4, 8, 16, 32, 64]\n",
    "# Minimum number of samples required at each leaf node\n",
    "min_samples_leaf = [6, 8, 11, 13, 15]\n",
    "# Method of selecting samples for training each tree\n",
    "bootstrap = [True, False]\n",
    "\n",
    "random_grid = {'n_estimators': n_estimators,\n",
    "               'max_features': max_features,\n",
    "               'max_depth': max_depth,\n",
    "               'min_samples_split': min_samples_split,\n",
    "               'min_samples_leaf': min_samples_leaf,\n",
    "               'bootstrap': bootstrap}"
   ]
  },
  {
   "cell_type": "code",
   "execution_count": 73,
   "id": "a9704058",
   "metadata": {},
   "outputs": [],
   "source": [
    "rf_random = RandomizedSearchCV(estimator = random_forest_n, param_distributions = random_grid, \n",
    "                               n_iter = 100, cv = 3, verbose=2, n_jobs = -1)"
   ]
  },
  {
   "cell_type": "code",
   "execution_count": 74,
   "id": "8aeb5d1e",
   "metadata": {},
   "outputs": [
    {
     "name": "stdout",
     "output_type": "stream",
     "text": [
      "Fitting 3 folds for each of 100 candidates, totalling 300 fits\n"
     ]
    },
    {
     "data": {
      "text/plain": [
       "RandomizedSearchCV(cv=3,\n",
       "                   estimator=RandomForestClassifier(class_weight='balanced',\n",
       "                                                    min_samples_leaf=8,\n",
       "                                                    n_estimators=50,\n",
       "                                                    n_jobs=-1),\n",
       "                   n_iter=100, n_jobs=-1,\n",
       "                   param_distributions={'bootstrap': [True, False],\n",
       "                                        'max_depth': [5, 15, 26, 36, 47, 57, 68,\n",
       "                                                      78, 89, 99, 110],\n",
       "                                        'max_features': ['auto', 'sqrt'],\n",
       "                                        'min_samples_leaf': [6, 8, 11, 13, 15],\n",
       "                                        'min_samples_split': [2, 4, 8, 16, 32,\n",
       "                                                              64],\n",
       "                                        'n_estimators': [20, 40, 60, 80, 100,\n",
       "                                                         120, 140, 160, 180,\n",
       "                                                         200]},\n",
       "                   verbose=2)"
      ]
     },
     "execution_count": 74,
     "metadata": {},
     "output_type": "execute_result"
    }
   ],
   "source": [
    "rf_random.fit(X_train,Y_train)"
   ]
  },
  {
   "cell_type": "code",
   "execution_count": 75,
   "id": "087a3a93",
   "metadata": {},
   "outputs": [
    {
     "data": {
      "text/plain": [
       "{'n_estimators': 20,\n",
       " 'min_samples_split': 16,\n",
       " 'min_samples_leaf': 6,\n",
       " 'max_features': 'sqrt',\n",
       " 'max_depth': 78,\n",
       " 'bootstrap': True}"
      ]
     },
     "execution_count": 75,
     "metadata": {},
     "output_type": "execute_result"
    }
   ],
   "source": [
    "rf_random.best_params_"
   ]
  },
  {
   "cell_type": "markdown",
   "id": "055d279a",
   "metadata": {},
   "source": [
    "### use the best params"
   ]
  },
  {
   "cell_type": "code",
   "execution_count": 77,
   "id": "0f7317ff",
   "metadata": {},
   "outputs": [],
   "source": [
    "#random_forest_n2 = RandomForestClassifier(n_estimators=80, max_features='auto', n_jobs=-1, min_samples_split=16, min_samples_leaf=2, max_depth=99, bootstrap=True)\n",
    "random_forest_n2 = RandomForestClassifier(n_estimators=20, max_features='sqrt', n_jobs=-1, min_samples_split=16, min_samples_leaf=6, max_depth=78, bootstrap=True)\n",
    "random_forest_n2.fit(X_train_new, Y_train)\n",
    "Y_pred_v2 = random_forest_n2.predict(X_test_new)"
   ]
  },
  {
   "cell_type": "code",
   "execution_count": 79,
   "id": "14652827",
   "metadata": {},
   "outputs": [
    {
     "name": "stdout",
     "output_type": "stream",
     "text": [
      "training score: 0.8741935483870967\n"
     ]
    }
   ],
   "source": [
    "print(\"training score:\", random_forest_n2.score(X_train_new, Y_train))"
   ]
  },
  {
   "cell_type": "code",
   "execution_count": 80,
   "id": "8e7481a3",
   "metadata": {},
   "outputs": [
    {
     "name": "stdout",
     "output_type": "stream",
     "text": [
      "testing score: 0.8352059925093633\n"
     ]
    }
   ],
   "source": [
    "print(\"testing score:\", random_forest_n2.score(X_test_new, Y_test))"
   ]
  },
  {
   "cell_type": "markdown",
   "id": "1c038cfd",
   "metadata": {},
   "source": [
    "#### We could see that the testing score got increased to 0.83"
   ]
  },
  {
   "cell_type": "markdown",
   "id": "0884870a",
   "metadata": {},
   "source": [
    "The precision is the ratio tp / (tp + fp) where tp is the number of true positives and fp the number of false positives. The precision is intuitively the ability of the classifier not to label as positive a sample that is negative. (Sklearn document)"
   ]
  },
  {
   "cell_type": "code",
   "execution_count": 81,
   "id": "ae3f36b5",
   "metadata": {},
   "outputs": [
    {
     "name": "stdout",
     "output_type": "stream",
     "text": [
      "Precision: 0.8210526315789474\n"
     ]
    }
   ],
   "source": [
    "print(\"Precision:\", precision_score(Y_test, Y_pred_v2))"
   ]
  },
  {
   "cell_type": "markdown",
   "id": "0ee4c9a1",
   "metadata": {},
   "source": [
    "Our model can correctly predict a passenger's survival 82% of the time. "
   ]
  },
  {
   "cell_type": "markdown",
   "id": "c481d87f",
   "metadata": {},
   "source": [
    "The recall is the ratio tp / (tp + fn) where tp is the number of true positives and fn the number of false negatives. The recall is intuitively the ability of the classifier to find all the positive samples. (Sklearn document)"
   ]
  },
  {
   "cell_type": "code",
   "execution_count": 82,
   "id": "bbd779fa",
   "metadata": {},
   "outputs": [
    {
     "name": "stdout",
     "output_type": "stream",
     "text": [
      "Recall: 0.7428571428571429\n"
     ]
    }
   ],
   "source": [
    "print(\"Recall:\", recall_score(Y_test, Y_pred_v2))"
   ]
  },
  {
   "cell_type": "markdown",
   "id": "4166db79",
   "metadata": {},
   "source": [
    "Our model can correctly find 74% of the people who actually surivived. "
   ]
  },
  {
   "cell_type": "code",
   "execution_count": 83,
   "id": "1136a3a7",
   "metadata": {},
   "outputs": [
    {
     "data": {
      "image/png": "[encoded data removed]",
      "text/plain": [
       "<Figure size 432x288 with 2 Axes>"
      ]
     },
     "metadata": {
      "needs_background": "light"
     },
     "output_type": "display_data"
    }
   ],
   "source": [
    "cm = confusion_matrix(Y_test, Y_pred_v2)\n",
    "cm_display = ConfusionMatrixDisplay(cm).plot()"
   ]
  },
  {
   "cell_type": "markdown",
   "id": "6dfeb786",
   "metadata": {},
   "source": [
    "### Observations:\n",
    "* 27 people were wrongly classified as \"survived\"\n",
    "* 17 people were wrongly classified as \"not survived\""
   ]
  },
  {
   "cell_type": "markdown",
   "id": "c4f9274d",
   "metadata": {},
   "source": [
    "### Precision Recall Curve"
   ]
  },
  {
   "cell_type": "markdown",
   "id": "76c61213",
   "metadata": {},
   "source": [
    "source: https://towardsdatascience.com/predicting-the-survival-of-titanic-passengers-30870ccc7e8"
   ]
  },
  {
   "cell_type": "code",
   "execution_count": 84,
   "id": "e98faf13",
   "metadata": {},
   "outputs": [
    {
     "data": {
      "text/plain": [
       "{'bootstrap': True,\n",
       " 'ccp_alpha': 0.0,\n",
       " 'class_weight': None,\n",
       " 'criterion': 'gini',\n",
       " 'max_depth': None,\n",
       " 'max_features': 'auto',\n",
       " 'max_leaf_nodes': None,\n",
       " 'max_samples': None,\n",
       " 'min_impurity_decrease': 0.0,\n",
       " 'min_impurity_split': None,\n",
       " 'min_samples_leaf': 1,\n",
       " 'min_samples_split': 2,\n",
       " 'min_weight_fraction_leaf': 0.0,\n",
       " 'n_estimators': 100,\n",
       " 'n_jobs': None,\n",
       " 'oob_score': False,\n",
       " 'random_state': None,\n",
       " 'verbose': 0,\n",
       " 'warm_start': False}"
      ]
     },
     "execution_count": 84,
     "metadata": {},
     "output_type": "execute_result"
    }
   ],
   "source": [
    "random_forest.get_params()"
   ]
  },
  {
   "cell_type": "code",
   "execution_count": 92,
   "id": "c656350d",
   "metadata": {},
   "outputs": [
    {
     "data": {
      "image/png": "[encoded data removed]",
      "text/plain": [
       "<Figure size 720x360 with 1 Axes>"
      ]
     },
     "metadata": {
      "needs_background": "light"
     },
     "output_type": "display_data"
    }
   ],
   "source": [
    "Y_scores = random_forest_n2.predict_proba(X_test_new)\n",
    "Y_scores = Y_scores[:,1]\n",
    "\n",
    "precision, recall, threshold = precision_recall_curve(Y_test, Y_scores)\n",
    "\n",
    "def plot_precision_and_recall(precision, recall, threshold):\n",
    "    plt.plot(threshold, precision[:-1], \"g-\", label=\"precision\", linewidth=2)\n",
    "    plt.plot(threshold, recall[:-1], \"b\", label=\"recall\", linewidth=2)\n",
    "    plt.xlabel(\"threshold\", fontsize=12)\n",
    "    plt.legend(loc=\"upper right\", fontsize=12)\n",
    "    plt.ylim([0, 1])\n",
    "\n",
    "plt.figure(figsize=(10, 5))\n",
    "plot_precision_and_recall(precision, recall, threshold)\n",
    "plt.show()"
   ]
  },
  {
   "cell_type": "markdown",
   "id": "c8e59413",
   "metadata": {},
   "source": [
    "predict_proba: Predict class probabilities of the input samples X. This function will return the class probability of input sample"
   ]
  },
  {
   "cell_type": "code",
   "execution_count": 95,
   "id": "8dda2119",
   "metadata": {},
   "outputs": [
    {
     "data": {
      "text/plain": [
       "array([0.72919833, 0.34734472, 0.13865978, 0.2108765 , 0.18688513,\n",
       "       0.15162195, 0.21601799, 0.63040144, 0.49985707, 0.18646896,\n",
       "       0.5887611 , 0.93596857, 0.14216852, 0.25176866, 0.09737118,\n",
       "       0.12800003, 0.90173346, 0.09328247, 0.30490921, 0.15370469,\n",
       "       0.26023224, 0.12841657, 0.32804194, 0.28498458, 0.61238229,\n",
       "       0.95112402, 0.28718275, 0.80178757, 0.05946877, 0.05922088,\n",
       "       0.7047703 , 0.76853869, 0.88874237, 0.74790315, 0.38649831,\n",
       "       0.95741502, 0.30490921, 0.25366294, 0.13182496, 0.05837676,\n",
       "       0.21676742, 0.11430119, 0.31958273, 0.03342206, 0.14604076,\n",
       "       0.1970151 , 0.95741502, 0.04298088, 0.10019522, 0.47334573,\n",
       "       0.14216852, 0.05153505, 0.28512645, 0.45374487, 0.04932605,\n",
       "       0.10001762, 0.60994305, 0.01540636, 0.46917907, 0.04013898,\n",
       "       0.56432524, 0.13958374, 0.01803794, 0.09831301, 0.15973651,\n",
       "       0.59109199, 0.03342206, 0.90028714, 0.04309509, 0.90122155,\n",
       "       0.40913066, 0.12811666, 0.47427686, 0.95024587, 0.34323828,\n",
       "       0.45530122, 0.03342206, 0.10933524, 0.11073131, 0.21067325,\n",
       "       0.30490921, 0.1095223 , 0.21816865, 0.98480823, 0.2175094 ,\n",
       "       0.37515927, 0.43967388, 0.15267493, 0.6143373 , 0.28498458,\n",
       "       0.09328247, 0.75143205, 0.04298088, 0.71284642, 0.12655526,\n",
       "       0.08661025, 0.55996083, 0.04598602, 0.36806988, 0.03342206,\n",
       "       0.02155663, 0.96881466, 0.60629166, 0.95311211, 0.2251488 ,\n",
       "       0.12678118, 0.93856886, 0.60994305, 0.13399489, 0.99210526,\n",
       "       0.67395891, 0.11327373, 0.28098924, 0.64665075, 0.31863281,\n",
       "       0.05922088, 0.13396023, 0.25203945, 0.05114322, 0.06487338,\n",
       "       0.35438553, 0.08848711, 0.02171048, 0.36404131, 0.16704606,\n",
       "       0.06386557, 0.67910904, 0.43783437, 0.41788066, 0.04598602,\n",
       "       0.65634528, 0.65634528, 0.61885595, 0.95695826, 0.05922088,\n",
       "       0.12047667, 0.45691332, 0.78482731, 0.56441656, 0.23579957,\n",
       "       0.12843238, 0.71813398, 0.12985192, 0.01504381, 0.72674094,\n",
       "       0.35438553, 0.69104224, 0.59040038, 0.17232629, 0.30527632,\n",
       "       0.03117741, 0.2496089 , 0.46349725, 0.94259974, 0.84274137,\n",
       "       0.22770692, 0.83114114, 0.16445377, 0.24088108, 0.2251488 ,\n",
       "       0.64093432, 0.15364737, 0.14005037, 0.0270759 , 0.08023756,\n",
       "       0.56215476, 0.23271627, 0.03172989, 0.13292838, 0.96842105,\n",
       "       0.53503953, 0.63771202, 0.11201295, 0.46819246, 0.15837994,\n",
       "       0.3128393 , 0.12985192, 0.75143205, 0.03131545, 0.95112402,\n",
       "       0.75321153, 0.60652673, 0.97895235, 0.04120484, 0.11747509,\n",
       "       0.13396023, 0.21676742, 0.03172989, 0.98624402, 0.96881466,\n",
       "       0.01540636, 0.53969194, 0.03857326, 0.13865978, 0.13108653,\n",
       "       0.08229781, 0.96046375, 0.59420346, 0.03991702, 0.30227441,\n",
       "       0.12888972, 0.59938704, 0.14084289, 0.93046849, 0.65311334,\n",
       "       0.04276018, 0.18436135, 0.6353471 , 0.01488997, 0.01504381,\n",
       "       0.78482731, 0.95024587, 0.06668311, 0.82018446, 0.35804897,\n",
       "       0.12811666, 0.10450774, 0.82018446, 0.63488408, 0.69729224,\n",
       "       0.61852164, 0.05523756, 0.91108137, 0.95644589, 0.49103354,\n",
       "       0.65980566, 0.38649831, 0.82018446, 0.02996447, 0.56215476,\n",
       "       0.55981927, 0.81899398, 0.06529781, 0.53820778, 0.15894143,\n",
       "       0.97281393, 0.2656008 , 0.0270759 , 0.05114322, 0.93912971,\n",
       "       0.93245084, 0.95112402, 0.03117741, 0.40736364, 0.08562988,\n",
       "       0.76358853, 0.17957866, 0.96529605, 0.0529825 , 0.94630024,\n",
       "       0.12258998, 0.24903565, 0.28149009, 0.12888972, 0.86635838,\n",
       "       0.03266774, 0.77353943, 0.15389821, 0.06529781, 0.67138877,\n",
       "       0.13927908, 0.93295065, 0.09322552, 0.55355476, 0.59516334,\n",
       "       0.15328553, 0.91065503])"
      ]
     },
     "execution_count": 95,
     "metadata": {},
     "output_type": "execute_result"
    }
   ],
   "source": [
    "Y_scores"
   ]
  },
  {
   "cell_type": "code",
   "execution_count": null,
   "id": "20f2f5c9",
   "metadata": {},
   "outputs": [],
   "source": []
  }
 ],
 "metadata": {
  "kernelspec": {
   "display_name": "Python 3",
   "language": "python",
   "name": "python3"
  },
  "language_info": {
   "codemirror_mode": {
    "name": "ipython",
    "version": 3
   },
   "file_extension": ".py",
   "mimetype": "text/x-python",
   "name": "python",
   "nbconvert_exporter": "python",
   "pygments_lexer": "ipython3",
   "version": "3.7.8"
  }
 },
 "nbformat": 4,
 "nbformat_minor": 5
}
