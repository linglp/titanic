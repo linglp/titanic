{
 "cells": [
  {
   "cell_type": "code",
   "execution_count": 180,
   "id": "e6544026",
   "metadata": {},
   "outputs": [],
   "source": [
    "import pandas as pd \n",
    "import seaborn as sns\n",
    "import numpy as np\n",
    "import matplotlib.pyplot as plt\n",
    "from keras.callbacks import EarlyStopping\n",
    "from keras.layers import Dense, Dropout \n",
    "from sklearn.model_selection import train_test_split\n",
    "from sklearn.linear_model import LogisticRegression\n",
    "from sklearn.metrics import accuracy_score\n",
    "from sklearn.ensemble import RandomForestClassifier\n",
    "from sklearn.metrics import confusion_matrix\n",
    "from sklearn.model_selection import RandomizedSearchCV\n",
    "from sklearn.metrics import precision_score, recall_score\n",
    "from sklearn.metrics import PrecisionRecallDisplay\n",
    "from sklearn.metrics import confusion_matrix\n",
    "from sklearn.metrics import ConfusionMatrixDisplay\n",
    "from sklearn.metrics import roc_curve, roc_auc_score\n",
    "from sklearn.metrics import RocCurveDisplay, precision_recall_curve"
   ]
  },
  {
   "cell_type": "code",
   "execution_count": 3,
   "id": "ecb8a970",
   "metadata": {},
   "outputs": [],
   "source": [
    "titanic = pd.read_csv('titanic.csv')"
   ]
  },
  {
   "cell_type": "code",
   "execution_count": 4,
   "id": "2cfb494e",
   "metadata": {},
   "outputs": [
    {
     "data": {
      "text/html": [
       "<div>\n",
       "<style scoped>\n",
       "    .dataframe tbody tr th:only-of-type {\n",
       "        vertical-align: middle;\n",
       "    }\n",
       "\n",
       "    .dataframe tbody tr th {\n",
       "        vertical-align: top;\n",
       "    }\n",
       "\n",
       "    .dataframe thead th {\n",
       "        text-align: right;\n",
       "    }\n",
       "</style>\n",
       "<table border=\"1\" class=\"dataframe\">\n",
       "  <thead>\n",
       "    <tr style=\"text-align: right;\">\n",
       "      <th></th>\n",
       "      <th>Survived</th>\n",
       "      <th>Pclass</th>\n",
       "      <th>Name</th>\n",
       "      <th>Sex</th>\n",
       "      <th>Age</th>\n",
       "      <th>Siblings/Spouses Aboard</th>\n",
       "      <th>Parents/Children Aboard</th>\n",
       "      <th>Fare</th>\n",
       "    </tr>\n",
       "  </thead>\n",
       "  <tbody>\n",
       "    <tr>\n",
       "      <th>0</th>\n",
       "      <td>0</td>\n",
       "      <td>3</td>\n",
       "      <td>Mr. Owen Harris Braund</td>\n",
       "      <td>male</td>\n",
       "      <td>22.0</td>\n",
       "      <td>1</td>\n",
       "      <td>0</td>\n",
       "      <td>7.2500</td>\n",
       "    </tr>\n",
       "    <tr>\n",
       "      <th>1</th>\n",
       "      <td>1</td>\n",
       "      <td>1</td>\n",
       "      <td>Mrs. John Bradley (Florence Briggs Thayer) Cum...</td>\n",
       "      <td>female</td>\n",
       "      <td>38.0</td>\n",
       "      <td>1</td>\n",
       "      <td>0</td>\n",
       "      <td>71.2833</td>\n",
       "    </tr>\n",
       "  </tbody>\n",
       "</table>\n",
       "</div>"
      ],
      "text/plain": [
       "   Survived  Pclass                                               Name  \\\n",
       "0         0       3                             Mr. Owen Harris Braund   \n",
       "1         1       1  Mrs. John Bradley (Florence Briggs Thayer) Cum...   \n",
       "\n",
       "      Sex   Age  Siblings/Spouses Aboard  Parents/Children Aboard     Fare  \n",
       "0    male  22.0                        1                        0   7.2500  \n",
       "1  female  38.0                        1                        0  71.2833  "
      ]
     },
     "execution_count": 4,
     "metadata": {},
     "output_type": "execute_result"
    }
   ],
   "source": [
    "titanic.head(2)"
   ]
  },
  {
   "cell_type": "code",
   "execution_count": 5,
   "id": "292a0f20",
   "metadata": {},
   "outputs": [
    {
     "data": {
      "text/plain": [
       "0    674\n",
       "1    118\n",
       "2     80\n",
       "3      5\n",
       "5      5\n",
       "4      4\n",
       "6      1\n",
       "Name: Parents/Children Aboard, dtype: int64"
      ]
     },
     "execution_count": 5,
     "metadata": {},
     "output_type": "execute_result"
    }
   ],
   "source": [
    "titanic['Parents/Children Aboard'].value_counts()"
   ]
  },
  {
   "cell_type": "code",
   "execution_count": 6,
   "id": "541508bb",
   "metadata": {},
   "outputs": [
    {
     "data": {
      "text/plain": [
       "0    604\n",
       "1    209\n",
       "2     28\n",
       "4     18\n",
       "3     16\n",
       "8      7\n",
       "5      5\n",
       "Name: Siblings/Spouses Aboard, dtype: int64"
      ]
     },
     "execution_count": 6,
     "metadata": {},
     "output_type": "execute_result"
    }
   ],
   "source": [
    "titanic['Siblings/Spouses Aboard'].value_counts()"
   ]
  },
  {
   "cell_type": "code",
   "execution_count": 7,
   "id": "6963a933",
   "metadata": {},
   "outputs": [
    {
     "data": {
      "text/plain": [
       "Survived                   0\n",
       "Pclass                     0\n",
       "Name                       0\n",
       "Sex                        0\n",
       "Age                        0\n",
       "Siblings/Spouses Aboard    0\n",
       "Parents/Children Aboard    0\n",
       "Fare                       0\n",
       "dtype: int64"
      ]
     },
     "execution_count": 7,
     "metadata": {},
     "output_type": "execute_result"
    }
   ],
   "source": [
    "### Examine missing data\n",
    "total = titanic.isnull().sum().sort_values(ascending=False)\n",
    "\n",
    "total"
   ]
  },
  {
   "cell_type": "code",
   "execution_count": 8,
   "id": "dc24a42a",
   "metadata": {},
   "outputs": [],
   "source": [
    "# remove name\n",
    "titanic = titanic.drop(columns=['Name'])"
   ]
  },
  {
   "cell_type": "code",
   "execution_count": 9,
   "id": "e6d13700",
   "metadata": {},
   "outputs": [
    {
     "data": {
      "text/plain": [
       "(887, 7)"
      ]
     },
     "execution_count": 9,
     "metadata": {},
     "output_type": "execute_result"
    }
   ],
   "source": [
    "titanic.shape"
   ]
  },
  {
   "cell_type": "code",
   "execution_count": 10,
   "id": "31774ab4",
   "metadata": {},
   "outputs": [
    {
     "data": {
      "image/png": "[encoded data removed]",
      "text/plain": [
       "<Figure size 432x288 with 1 Axes>"
      ]
     },
     "metadata": {
      "needs_background": "light"
     },
     "output_type": "display_data"
    }
   ],
   "source": [
    "## Visualize relationship between sex and class\n",
    "ax = sns.countplot(x=\"Pclass\", hue='Sex', data=titanic)"
   ]
  },
  {
   "cell_type": "markdown",
   "id": "8f971f5a",
   "metadata": {},
   "source": [
    "### Observations:\n",
    "* Most people in the third class are males. \n",
    "* There are more males than females across all classes"
   ]
  },
  {
   "cell_type": "code",
   "execution_count": 11,
   "id": "116f5a29",
   "metadata": {},
   "outputs": [
    {
     "data": {
      "image/png": "[encoded data removed]",
      "text/plain": [
       "<Figure size 473.7x288 with 2 Axes>"
      ]
     },
     "metadata": {
      "needs_background": "light"
     },
     "output_type": "display_data"
    }
   ],
   "source": [
    "### Visualize the relationship between gender, class, and survival\n",
    "g = sns.catplot(x=\"Pclass\", hue=\"Sex\", col=\"Survived\",\n",
    "                data=titanic, kind=\"count\",\n",
    "                height=4, aspect=.7)"
   ]
  },
  {
   "cell_type": "markdown",
   "id": "03b2ce64",
   "metadata": {},
   "source": [
    "### Observations: \n",
    "* Predominantly people that did not survive in the first class were males. \n",
    "* In general, females had a higher chance of survival than males across all classes. "
   ]
  },
  {
   "cell_type": "code",
   "execution_count": 12,
   "id": "0f086ac6",
   "metadata": {},
   "outputs": [
    {
     "name": "stderr",
     "output_type": "stream",
     "text": [
      "C:\\Users\\lpeng\\AppData\\Roaming\\Python\\Python37\\site-packages\\seaborn\\categorical.py:1296: UserWarning: 21.7% of the points cannot be placed; you may want to decrease the size of the markers or use stripplot.\n",
      "  warnings.warn(msg, UserWarning)\n"
     ]
    },
    {
     "data": {
      "text/plain": [
       "<seaborn.axisgrid.FacetGrid at 0x20cae5797c8>"
      ]
     },
     "execution_count": 12,
     "metadata": {},
     "output_type": "execute_result"
    },
    {
     "data": {
      "image/png": "[encoded data removed]",
      "text/plain": [
       "<Figure size 826.5x360 with 3 Axes>"
      ]
     },
     "metadata": {
      "needs_background": "light"
     },
     "output_type": "display_data"
    }
   ],
   "source": [
    "sns.catplot(x=\"Survived\", y=\"Age\", hue=\"Sex\",\n",
    "            col=\"Pclass\", aspect=.7,\n",
    "            kind=\"swarm\", data=titanic)"
   ]
  },
  {
   "cell_type": "markdown",
   "id": "b828aadb",
   "metadata": {},
   "source": [
    "### Observations:\n",
    "* For people in the second class, most males did not survive. Those that survived were mostly children or middle-age adults. \n",
    "* For people in the third class, female children and male children had relatively equal chances of survival. \n",
    "* For people in the third class, most people who survived were females who were less than thirty-five years old. "
   ]
  },
  {
   "cell_type": "code",
   "execution_count": 13,
   "id": "423a9941",
   "metadata": {},
   "outputs": [
    {
     "data": {
      "text/plain": [
       "<seaborn.axisgrid.FacetGrid at 0x20cae813b48>"
      ]
     },
     "execution_count": 13,
     "metadata": {},
     "output_type": "execute_result"
    },
    {
     "data": {
      "image/png": "[encoded data removed]",
      "text/plain": [
       "<Figure size 430.5x360 with 1 Axes>"
      ]
     },
     "metadata": {
      "needs_background": "light"
     },
     "output_type": "display_data"
    }
   ],
   "source": [
    "sns.catplot(x=\"Pclass\", y=\"Survived\", hue=\"Sex\",\n",
    "            palette={\"male\": \"g\", \"female\": \"m\"},\n",
    "            markers=[\"^\", \"o\"], linestyles=[\"-\", \"--\"],\n",
    "            kind=\"point\", data=titanic)"
   ]
  },
  {
   "cell_type": "markdown",
   "id": "d32343e1",
   "metadata": {},
   "source": [
    "### Observations:\n",
    "* Here, we could also see that females in general have a higher survival rate than males. "
   ]
  },
  {
   "cell_type": "code",
   "execution_count": 14,
   "id": "c7414de5",
   "metadata": {},
   "outputs": [
    {
     "data": {
      "text/html": [
       "<div>\n",
       "<style scoped>\n",
       "    .dataframe tbody tr th:only-of-type {\n",
       "        vertical-align: middle;\n",
       "    }\n",
       "\n",
       "    .dataframe tbody tr th {\n",
       "        vertical-align: top;\n",
       "    }\n",
       "\n",
       "    .dataframe thead th {\n",
       "        text-align: right;\n",
       "    }\n",
       "</style>\n",
       "<table border=\"1\" class=\"dataframe\">\n",
       "  <thead>\n",
       "    <tr style=\"text-align: right;\">\n",
       "      <th></th>\n",
       "      <th>Survived</th>\n",
       "      <th>Pclass</th>\n",
       "      <th>Sex</th>\n",
       "      <th>Age</th>\n",
       "      <th>Siblings/Spouses Aboard</th>\n",
       "      <th>Parents/Children Aboard</th>\n",
       "      <th>Fare</th>\n",
       "      <th>total_relatives</th>\n",
       "    </tr>\n",
       "  </thead>\n",
       "  <tbody>\n",
       "    <tr>\n",
       "      <th>0</th>\n",
       "      <td>0</td>\n",
       "      <td>3</td>\n",
       "      <td>male</td>\n",
       "      <td>22.0</td>\n",
       "      <td>1</td>\n",
       "      <td>0</td>\n",
       "      <td>7.2500</td>\n",
       "      <td>1</td>\n",
       "    </tr>\n",
       "    <tr>\n",
       "      <th>1</th>\n",
       "      <td>1</td>\n",
       "      <td>1</td>\n",
       "      <td>female</td>\n",
       "      <td>38.0</td>\n",
       "      <td>1</td>\n",
       "      <td>0</td>\n",
       "      <td>71.2833</td>\n",
       "      <td>1</td>\n",
       "    </tr>\n",
       "  </tbody>\n",
       "</table>\n",
       "</div>"
      ],
      "text/plain": [
       "   Survived  Pclass     Sex   Age  Siblings/Spouses Aboard  \\\n",
       "0         0       3    male  22.0                        1   \n",
       "1         1       1  female  38.0                        1   \n",
       "\n",
       "   Parents/Children Aboard     Fare  total_relatives  \n",
       "0                        0   7.2500                1  \n",
       "1                        0  71.2833                1  "
      ]
     },
     "execution_count": 14,
     "metadata": {},
     "output_type": "execute_result"
    }
   ],
   "source": [
    "titanic['total_relatives'] = titanic['Siblings/Spouses Aboard'] + titanic['Parents/Children Aboard']\n",
    "\n",
    "titanic.head(2)"
   ]
  },
  {
   "cell_type": "code",
   "execution_count": 15,
   "id": "88b7a0b3",
   "metadata": {},
   "outputs": [
    {
     "name": "stderr",
     "output_type": "stream",
     "text": [
      "C:\\Users\\lpeng\\AppData\\Roaming\\Python\\Python37\\site-packages\\seaborn\\categorical.py:3714: UserWarning: The `factorplot` function has been renamed to `catplot`. The original name will be removed in a future release. Please update your code. Note that the default `kind` in `factorplot` (`'point'`) has changed `'strip'` in `catplot`.\n",
      "  warnings.warn(msg)\n",
      "C:\\Users\\lpeng\\AppData\\Roaming\\Python\\Python37\\site-packages\\seaborn\\_decorators.py:43: FutureWarning: Pass the following variables as keyword args: x, y. From version 0.12, the only valid positional argument will be `data`, and passing other arguments without an explicit keyword will result in an error or misinterpretation.\n",
      "  FutureWarning\n"
     ]
    },
    {
     "data": {
      "image/png": "[encoded data removed]",
      "text/plain": [
       "<Figure size 360x360 with 1 Axes>"
      ]
     },
     "metadata": {
      "needs_background": "light"
     },
     "output_type": "display_data"
    }
   ],
   "source": [
    "axes = sns.factorplot('total_relatives','Survived', \n",
    "                      data=titanic)"
   ]
  },
  {
   "cell_type": "markdown",
   "id": "7c00d680",
   "metadata": {},
   "source": [
    "### Observations:\n",
    "* If you have 1-3 relatives, you have a relatively high chances survivial. But if you have more than that, then your chances of survivial decreased. "
   ]
  },
  {
   "cell_type": "code",
   "execution_count": 16,
   "id": "777c8352",
   "metadata": {},
   "outputs": [],
   "source": [
    "# assign an integer value of sex\n",
    "def assign_sex_integer(row):\n",
    "    if row['Sex'] == 'male':\n",
    "        return 1\n",
    "    else:\n",
    "        return 0\n",
    "\n",
    "# call the assign_gender_integer method to assign 1 to male and 0 to female\n",
    "titanic['Sex'] = titanic.apply(assign_sex_integer, axis=1)"
   ]
  },
  {
   "cell_type": "code",
   "execution_count": 17,
   "id": "b54591d0",
   "metadata": {},
   "outputs": [
    {
     "data": {
      "text/html": [
       "<div>\n",
       "<style scoped>\n",
       "    .dataframe tbody tr th:only-of-type {\n",
       "        vertical-align: middle;\n",
       "    }\n",
       "\n",
       "    .dataframe tbody tr th {\n",
       "        vertical-align: top;\n",
       "    }\n",
       "\n",
       "    .dataframe thead th {\n",
       "        text-align: right;\n",
       "    }\n",
       "</style>\n",
       "<table border=\"1\" class=\"dataframe\">\n",
       "  <thead>\n",
       "    <tr style=\"text-align: right;\">\n",
       "      <th></th>\n",
       "      <th>Survived</th>\n",
       "      <th>Pclass</th>\n",
       "      <th>Sex</th>\n",
       "      <th>Age</th>\n",
       "      <th>Siblings/Spouses Aboard</th>\n",
       "      <th>Parents/Children Aboard</th>\n",
       "      <th>Fare</th>\n",
       "      <th>total_relatives</th>\n",
       "    </tr>\n",
       "  </thead>\n",
       "  <tbody>\n",
       "    <tr>\n",
       "      <th>0</th>\n",
       "      <td>0</td>\n",
       "      <td>3</td>\n",
       "      <td>1</td>\n",
       "      <td>22.0</td>\n",
       "      <td>1</td>\n",
       "      <td>0</td>\n",
       "      <td>7.2500</td>\n",
       "      <td>1</td>\n",
       "    </tr>\n",
       "    <tr>\n",
       "      <th>1</th>\n",
       "      <td>1</td>\n",
       "      <td>1</td>\n",
       "      <td>0</td>\n",
       "      <td>38.0</td>\n",
       "      <td>1</td>\n",
       "      <td>0</td>\n",
       "      <td>71.2833</td>\n",
       "      <td>1</td>\n",
       "    </tr>\n",
       "  </tbody>\n",
       "</table>\n",
       "</div>"
      ],
      "text/plain": [
       "   Survived  Pclass  Sex   Age  Siblings/Spouses Aboard  \\\n",
       "0         0       3    1  22.0                        1   \n",
       "1         1       1    0  38.0                        1   \n",
       "\n",
       "   Parents/Children Aboard     Fare  total_relatives  \n",
       "0                        0   7.2500                1  \n",
       "1                        0  71.2833                1  "
      ]
     },
     "execution_count": 17,
     "metadata": {},
     "output_type": "execute_result"
    }
   ],
   "source": [
    "titanic.head(2)"
   ]
  },
  {
   "cell_type": "markdown",
   "id": "6fdbb1ba",
   "metadata": {},
   "source": [
    "## Build Machine Learning models\n",
    "\n"
   ]
  },
  {
   "cell_type": "code",
   "execution_count": 273,
   "id": "e45ce93c",
   "metadata": {},
   "outputs": [],
   "source": [
    "# Import the Sequential API\n",
    "import keras \n",
    "from keras.models import Sequential \n",
    "from keras.layers import Dense\n",
    "\n",
    "model = Sequential()"
   ]
  },
  {
   "cell_type": "code",
   "execution_count": 274,
   "id": "e8c6ac97",
   "metadata": {},
   "outputs": [],
   "source": [
    "X=titanic.drop(['Survived'], axis=1)\n",
    "Y=titanic['Survived']"
   ]
  },
  {
   "cell_type": "code",
   "execution_count": 275,
   "id": "7fa08678",
   "metadata": {},
   "outputs": [
    {
     "data": {
      "text/html": [
       "<div>\n",
       "<style scoped>\n",
       "    .dataframe tbody tr th:only-of-type {\n",
       "        vertical-align: middle;\n",
       "    }\n",
       "\n",
       "    .dataframe tbody tr th {\n",
       "        vertical-align: top;\n",
       "    }\n",
       "\n",
       "    .dataframe thead th {\n",
       "        text-align: right;\n",
       "    }\n",
       "</style>\n",
       "<table border=\"1\" class=\"dataframe\">\n",
       "  <thead>\n",
       "    <tr style=\"text-align: right;\">\n",
       "      <th></th>\n",
       "      <th>Pclass</th>\n",
       "      <th>Sex</th>\n",
       "      <th>Age</th>\n",
       "      <th>Siblings/Spouses Aboard</th>\n",
       "      <th>Parents/Children Aboard</th>\n",
       "      <th>Fare</th>\n",
       "      <th>total_relatives</th>\n",
       "    </tr>\n",
       "  </thead>\n",
       "  <tbody>\n",
       "    <tr>\n",
       "      <th>0</th>\n",
       "      <td>3.0</td>\n",
       "      <td>1.0</td>\n",
       "      <td>22.0</td>\n",
       "      <td>1.0</td>\n",
       "      <td>0.0</td>\n",
       "      <td>7.250000</td>\n",
       "      <td>1.0</td>\n",
       "    </tr>\n",
       "    <tr>\n",
       "      <th>1</th>\n",
       "      <td>1.0</td>\n",
       "      <td>0.0</td>\n",
       "      <td>38.0</td>\n",
       "      <td>1.0</td>\n",
       "      <td>0.0</td>\n",
       "      <td>71.283302</td>\n",
       "      <td>1.0</td>\n",
       "    </tr>\n",
       "    <tr>\n",
       "      <th>2</th>\n",
       "      <td>3.0</td>\n",
       "      <td>0.0</td>\n",
       "      <td>26.0</td>\n",
       "      <td>0.0</td>\n",
       "      <td>0.0</td>\n",
       "      <td>7.925000</td>\n",
       "      <td>0.0</td>\n",
       "    </tr>\n",
       "    <tr>\n",
       "      <th>3</th>\n",
       "      <td>1.0</td>\n",
       "      <td>0.0</td>\n",
       "      <td>35.0</td>\n",
       "      <td>1.0</td>\n",
       "      <td>0.0</td>\n",
       "      <td>53.099998</td>\n",
       "      <td>1.0</td>\n",
       "    </tr>\n",
       "    <tr>\n",
       "      <th>4</th>\n",
       "      <td>3.0</td>\n",
       "      <td>1.0</td>\n",
       "      <td>35.0</td>\n",
       "      <td>0.0</td>\n",
       "      <td>0.0</td>\n",
       "      <td>8.050000</td>\n",
       "      <td>0.0</td>\n",
       "    </tr>\n",
       "    <tr>\n",
       "      <th>...</th>\n",
       "      <td>...</td>\n",
       "      <td>...</td>\n",
       "      <td>...</td>\n",
       "      <td>...</td>\n",
       "      <td>...</td>\n",
       "      <td>...</td>\n",
       "      <td>...</td>\n",
       "    </tr>\n",
       "    <tr>\n",
       "      <th>882</th>\n",
       "      <td>2.0</td>\n",
       "      <td>1.0</td>\n",
       "      <td>27.0</td>\n",
       "      <td>0.0</td>\n",
       "      <td>0.0</td>\n",
       "      <td>13.000000</td>\n",
       "      <td>0.0</td>\n",
       "    </tr>\n",
       "    <tr>\n",
       "      <th>883</th>\n",
       "      <td>1.0</td>\n",
       "      <td>0.0</td>\n",
       "      <td>19.0</td>\n",
       "      <td>0.0</td>\n",
       "      <td>0.0</td>\n",
       "      <td>30.000000</td>\n",
       "      <td>0.0</td>\n",
       "    </tr>\n",
       "    <tr>\n",
       "      <th>884</th>\n",
       "      <td>3.0</td>\n",
       "      <td>0.0</td>\n",
       "      <td>7.0</td>\n",
       "      <td>1.0</td>\n",
       "      <td>2.0</td>\n",
       "      <td>23.450001</td>\n",
       "      <td>3.0</td>\n",
       "    </tr>\n",
       "    <tr>\n",
       "      <th>885</th>\n",
       "      <td>1.0</td>\n",
       "      <td>1.0</td>\n",
       "      <td>26.0</td>\n",
       "      <td>0.0</td>\n",
       "      <td>0.0</td>\n",
       "      <td>30.000000</td>\n",
       "      <td>0.0</td>\n",
       "    </tr>\n",
       "    <tr>\n",
       "      <th>886</th>\n",
       "      <td>3.0</td>\n",
       "      <td>1.0</td>\n",
       "      <td>32.0</td>\n",
       "      <td>0.0</td>\n",
       "      <td>0.0</td>\n",
       "      <td>7.750000</td>\n",
       "      <td>0.0</td>\n",
       "    </tr>\n",
       "  </tbody>\n",
       "</table>\n",
       "<p>887 rows × 7 columns</p>\n",
       "</div>"
      ],
      "text/plain": [
       "     Pclass  Sex   Age  Siblings/Spouses Aboard  Parents/Children Aboard  \\\n",
       "0       3.0  1.0  22.0                      1.0                      0.0   \n",
       "1       1.0  0.0  38.0                      1.0                      0.0   \n",
       "2       3.0  0.0  26.0                      0.0                      0.0   \n",
       "3       1.0  0.0  35.0                      1.0                      0.0   \n",
       "4       3.0  1.0  35.0                      0.0                      0.0   \n",
       "..      ...  ...   ...                      ...                      ...   \n",
       "882     2.0  1.0  27.0                      0.0                      0.0   \n",
       "883     1.0  0.0  19.0                      0.0                      0.0   \n",
       "884     3.0  0.0   7.0                      1.0                      2.0   \n",
       "885     1.0  1.0  26.0                      0.0                      0.0   \n",
       "886     3.0  1.0  32.0                      0.0                      0.0   \n",
       "\n",
       "          Fare  total_relatives  \n",
       "0     7.250000              1.0  \n",
       "1    71.283302              1.0  \n",
       "2     7.925000              0.0  \n",
       "3    53.099998              1.0  \n",
       "4     8.050000              0.0  \n",
       "..         ...              ...  \n",
       "882  13.000000              0.0  \n",
       "883  30.000000              0.0  \n",
       "884  23.450001              3.0  \n",
       "885  30.000000              0.0  \n",
       "886   7.750000              0.0  \n",
       "\n",
       "[887 rows x 7 columns]"
      ]
     },
     "execution_count": 275,
     "metadata": {},
     "output_type": "execute_result"
    }
   ],
   "source": [
    "X.astype(np.float32)"
   ]
  },
  {
   "cell_type": "code",
   "execution_count": 276,
   "id": "ecef4b2f",
   "metadata": {},
   "outputs": [],
   "source": [
    "X_train,X_test,Y_train,Y_test=train_test_split(X,Y,test_size=0.3,random_state=0)"
   ]
  },
  {
   "cell_type": "code",
   "execution_count": 277,
   "id": "ae4f0f27",
   "metadata": {},
   "outputs": [],
   "source": [
    "n_cols = X.shape[1]"
   ]
  },
  {
   "cell_type": "code",
   "execution_count": 278,
   "id": "c4ec52a4",
   "metadata": {},
   "outputs": [
    {
     "name": "stdout",
     "output_type": "stream",
     "text": [
      "Model: \"sequential_29\"\n",
      "_________________________________________________________________\n",
      " Layer (type)                Output Shape              Param #   \n",
      "=================================================================\n",
      " dense_107 (Dense)           (None, 15)                120       \n",
      "                                                                 \n",
      " dense_108 (Dense)           (None, 25)                400       \n",
      "                                                                 \n",
      " dense_109 (Dense)           (None, 1)                 26        \n",
      "                                                                 \n",
      "=================================================================\n",
      "Total params: 546\n",
      "Trainable params: 546\n",
      "Non-trainable params: 0\n",
      "_________________________________________________________________\n"
     ]
    }
   ],
   "source": [
    "# split the data between training and testing\n",
    "\n",
    "# Add the first layer with 15 nodes\n",
    "input_layer = Dense(units = 15, activation='relu', input_shape = (n_cols,)) \n",
    "model.add(input_layer) \n",
    "\n",
    "# # Add the second layer with 25 nodes\n",
    "hidden_layer = Dense(units = 25, activation='relu') \n",
    "model.add(hidden_layer)\n",
    "\n",
    "# We could also add drop out layer\n",
    "#Dropout is a technique used to prevent a model from overfitting. \n",
    "#Dropout works by randomly setting the outgoing edges of hidden units (neurons that make up hidden layers) to 0 at each update of the training phase.\n",
    "\n",
    "\n",
    "# # Add the output layer\n",
    "model.add(Dense(1, activation='sigmoid'))\n",
    "\n",
    "# view model summary\n",
    "model.summary()"
   ]
  },
  {
   "cell_type": "code",
   "execution_count": 279,
   "id": "7730a3a1",
   "metadata": {},
   "outputs": [
    {
     "name": "stdout",
     "output_type": "stream",
     "text": [
      "Epoch 1/100\n",
      "112/112 - 1s - loss: 1.2023 - accuracy: 0.6649 - val_loss: 0.7170 - val_accuracy: 0.5806 - 546ms/epoch - 5ms/step\n",
      "Epoch 2/100\n",
      "112/112 - 0s - loss: 0.6448 - accuracy: 0.6649 - val_loss: 0.5538 - val_accuracy: 0.6613 - 93ms/epoch - 829us/step\n",
      "Epoch 3/100\n",
      "112/112 - 0s - loss: 0.6026 - accuracy: 0.6774 - val_loss: 0.7277 - val_accuracy: 0.5645 - 94ms/epoch - 840us/step\n",
      "Epoch 4/100\n",
      "112/112 - 0s - loss: 0.6363 - accuracy: 0.6720 - val_loss: 0.5635 - val_accuracy: 0.6290 - 95ms/epoch - 849us/step\n",
      "Epoch 5/100\n",
      "112/112 - 0s - loss: 0.5936 - accuracy: 0.6989 - val_loss: 0.5500 - val_accuracy: 0.6452 - 92ms/epoch - 821us/step\n",
      "Epoch 6/100\n",
      "112/112 - 0s - loss: 0.5881 - accuracy: 0.6935 - val_loss: 0.6022 - val_accuracy: 0.6452 - 147ms/epoch - 1ms/step\n",
      "Epoch 7/100\n",
      "112/112 - 0s - loss: 0.6076 - accuracy: 0.6756 - val_loss: 0.5505 - val_accuracy: 0.6452 - 141ms/epoch - 1ms/step\n",
      "Epoch 8/100\n",
      "112/112 - 0s - loss: 0.5735 - accuracy: 0.7007 - val_loss: 0.5471 - val_accuracy: 0.6774 - 98ms/epoch - 875us/step\n",
      "Epoch 9/100\n",
      "112/112 - 0s - loss: 0.5753 - accuracy: 0.6918 - val_loss: 0.5880 - val_accuracy: 0.6452 - 116ms/epoch - 1ms/step\n",
      "Epoch 10/100\n",
      "112/112 - 0s - loss: 0.5598 - accuracy: 0.7043 - val_loss: 0.6526 - val_accuracy: 0.5968 - 116ms/epoch - 1ms/step\n",
      "Epoch 11/100\n",
      "112/112 - 0s - loss: 0.5525 - accuracy: 0.7133 - val_loss: 0.5279 - val_accuracy: 0.6935 - 97ms/epoch - 866us/step\n",
      "Epoch 12/100\n",
      "112/112 - 0s - loss: 0.5797 - accuracy: 0.7133 - val_loss: 0.5587 - val_accuracy: 0.6452 - 98ms/epoch - 876us/step\n",
      "Epoch 13/100\n",
      "112/112 - 0s - loss: 0.5647 - accuracy: 0.6810 - val_loss: 0.5728 - val_accuracy: 0.6774 - 101ms/epoch - 902us/step\n",
      "Epoch 14/100\n",
      "112/112 - 0s - loss: 0.5565 - accuracy: 0.7168 - val_loss: 0.5201 - val_accuracy: 0.7097 - 112ms/epoch - 1ms/step\n",
      "Epoch 15/100\n",
      "112/112 - 0s - loss: 0.5465 - accuracy: 0.7168 - val_loss: 0.5295 - val_accuracy: 0.7258 - 112ms/epoch - 996us/step\n",
      "Epoch 16/100\n",
      "112/112 - 0s - loss: 0.5399 - accuracy: 0.7097 - val_loss: 0.5250 - val_accuracy: 0.7419 - 109ms/epoch - 977us/step\n",
      "Epoch 17/100\n",
      "112/112 - 0s - loss: 0.5382 - accuracy: 0.7240 - val_loss: 0.6191 - val_accuracy: 0.6452 - 111ms/epoch - 990us/step\n",
      "Epoch 18/100\n",
      "112/112 - 0s - loss: 0.5216 - accuracy: 0.7509 - val_loss: 0.5108 - val_accuracy: 0.7419 - 107ms/epoch - 956us/step\n",
      "Epoch 19/100\n",
      "112/112 - 0s - loss: 0.5392 - accuracy: 0.7366 - val_loss: 0.5160 - val_accuracy: 0.7258 - 112ms/epoch - 1ms/step\n",
      "Epoch 20/100\n",
      "112/112 - 0s - loss: 0.5431 - accuracy: 0.7384 - val_loss: 0.5703 - val_accuracy: 0.7581 - 106ms/epoch - 947us/step\n",
      "Epoch 21/100\n",
      "112/112 - 0s - loss: 0.5220 - accuracy: 0.7455 - val_loss: 0.6038 - val_accuracy: 0.6452 - 97ms/epoch - 865us/step\n",
      "Epoch 22/100\n",
      "112/112 - 0s - loss: 0.5275 - accuracy: 0.7509 - val_loss: 0.5089 - val_accuracy: 0.7258 - 97ms/epoch - 863us/step\n",
      "Epoch 23/100\n",
      "112/112 - 0s - loss: 0.5122 - accuracy: 0.7366 - val_loss: 0.5297 - val_accuracy: 0.7581 - 98ms/epoch - 877us/step\n",
      "Epoch 24/100\n",
      "112/112 - 0s - loss: 0.5141 - accuracy: 0.7581 - val_loss: 0.4955 - val_accuracy: 0.7419 - 100ms/epoch - 894us/step\n",
      "Epoch 25/100\n",
      "112/112 - 0s - loss: 0.4971 - accuracy: 0.7849 - val_loss: 0.5272 - val_accuracy: 0.7581 - 99ms/epoch - 884us/step\n",
      "Epoch 26/100\n",
      "112/112 - 0s - loss: 0.5206 - accuracy: 0.7634 - val_loss: 0.4698 - val_accuracy: 0.7742 - 97ms/epoch - 868us/step\n",
      "Epoch 27/100\n",
      "112/112 - 0s - loss: 0.5159 - accuracy: 0.7760 - val_loss: 0.5072 - val_accuracy: 0.7903 - 101ms/epoch - 898us/step\n",
      "Epoch 28/100\n",
      "112/112 - 0s - loss: 0.5055 - accuracy: 0.7652 - val_loss: 0.5188 - val_accuracy: 0.7742 - 110ms/epoch - 981us/step\n",
      "Epoch 29/100\n",
      "112/112 - 0s - loss: 0.4871 - accuracy: 0.7921 - val_loss: 0.4501 - val_accuracy: 0.8387 - 114ms/epoch - 1ms/step\n",
      "Epoch 30/100\n",
      "112/112 - 0s - loss: 0.5030 - accuracy: 0.7599 - val_loss: 0.4557 - val_accuracy: 0.8226 - 101ms/epoch - 900us/step\n",
      "Epoch 31/100\n",
      "112/112 - 0s - loss: 0.4928 - accuracy: 0.7939 - val_loss: 0.5661 - val_accuracy: 0.7258 - 112ms/epoch - 1ms/step\n",
      "Epoch 32/100\n",
      "112/112 - 0s - loss: 0.4864 - accuracy: 0.7867 - val_loss: 0.4640 - val_accuracy: 0.8065 - 108ms/epoch - 964us/step\n",
      "Epoch 33/100\n",
      "112/112 - 0s - loss: 0.4826 - accuracy: 0.7867 - val_loss: 0.4533 - val_accuracy: 0.7903 - 95ms/epoch - 848us/step\n",
      "Epoch 34/100\n",
      "112/112 - 0s - loss: 0.4722 - accuracy: 0.8011 - val_loss: 0.5769 - val_accuracy: 0.6935 - 100ms/epoch - 893us/step\n",
      "Epoch 35/100\n",
      "112/112 - 0s - loss: 0.4791 - accuracy: 0.7921 - val_loss: 0.4451 - val_accuracy: 0.8226 - 97ms/epoch - 868us/step\n",
      "Epoch 36/100\n",
      "112/112 - 0s - loss: 0.4699 - accuracy: 0.8136 - val_loss: 0.4473 - val_accuracy: 0.7903 - 93ms/epoch - 831us/step\n",
      "Epoch 37/100\n",
      "112/112 - 0s - loss: 0.4703 - accuracy: 0.7993 - val_loss: 0.4303 - val_accuracy: 0.8226 - 96ms/epoch - 857us/step\n",
      "Epoch 38/100\n",
      "112/112 - 0s - loss: 0.4710 - accuracy: 0.7903 - val_loss: 0.4331 - val_accuracy: 0.8065 - 102ms/epoch - 911us/step\n",
      "Epoch 39/100\n",
      "112/112 - 0s - loss: 0.4719 - accuracy: 0.8047 - val_loss: 0.5302 - val_accuracy: 0.7742 - 110ms/epoch - 979us/step\n",
      "Epoch 40/100\n",
      "112/112 - 0s - loss: 0.4777 - accuracy: 0.8011 - val_loss: 0.5252 - val_accuracy: 0.8065 - 120ms/epoch - 1ms/step\n",
      "Epoch 41/100\n",
      "112/112 - 0s - loss: 0.4857 - accuracy: 0.7993 - val_loss: 0.4826 - val_accuracy: 0.8387 - 101ms/epoch - 902us/step\n",
      "Epoch 42/100\n",
      "112/112 - 0s - loss: 0.4578 - accuracy: 0.7993 - val_loss: 0.4363 - val_accuracy: 0.8226 - 98ms/epoch - 874us/step\n",
      "Epoch 43/100\n",
      "112/112 - 0s - loss: 0.4713 - accuracy: 0.7975 - val_loss: 0.4469 - val_accuracy: 0.7581 - 103ms/epoch - 921us/step\n",
      "Epoch 44/100\n",
      "112/112 - 0s - loss: 0.4811 - accuracy: 0.7832 - val_loss: 0.4774 - val_accuracy: 0.8226 - 97ms/epoch - 866us/step\n",
      "Epoch 45/100\n",
      "112/112 - 0s - loss: 0.4558 - accuracy: 0.8100 - val_loss: 0.4487 - val_accuracy: 0.7742 - 102ms/epoch - 911us/step\n",
      "Epoch 46/100\n",
      "112/112 - 0s - loss: 0.4591 - accuracy: 0.8047 - val_loss: 0.4312 - val_accuracy: 0.7903 - 94ms/epoch - 836us/step\n",
      "Epoch 47/100\n",
      "112/112 - 0s - loss: 0.4767 - accuracy: 0.7939 - val_loss: 0.4562 - val_accuracy: 0.8065 - 93ms/epoch - 828us/step\n",
      "Epoch 48/100\n",
      "112/112 - 0s - loss: 0.4579 - accuracy: 0.7903 - val_loss: 0.4651 - val_accuracy: 0.8387 - 96ms/epoch - 854us/step\n",
      "Epoch 49/100\n",
      "112/112 - 0s - loss: 0.4797 - accuracy: 0.7939 - val_loss: 0.4240 - val_accuracy: 0.8226 - 98ms/epoch - 875us/step\n",
      "Epoch 50/100\n",
      "112/112 - 0s - loss: 0.4510 - accuracy: 0.8118 - val_loss: 0.5125 - val_accuracy: 0.7581 - 98ms/epoch - 879us/step\n",
      "Epoch 51/100\n",
      "112/112 - 0s - loss: 0.4753 - accuracy: 0.7939 - val_loss: 0.4611 - val_accuracy: 0.8226 - 105ms/epoch - 938us/step\n",
      "Epoch 52/100\n",
      "112/112 - 0s - loss: 0.4538 - accuracy: 0.8100 - val_loss: 0.4819 - val_accuracy: 0.7581 - 117ms/epoch - 1ms/step\n",
      "Epoch 53/100\n",
      "112/112 - 0s - loss: 0.4667 - accuracy: 0.8011 - val_loss: 0.4199 - val_accuracy: 0.8387 - 105ms/epoch - 934us/step\n",
      "Epoch 54/100\n",
      "112/112 - 0s - loss: 0.4514 - accuracy: 0.8011 - val_loss: 0.4651 - val_accuracy: 0.8065 - 101ms/epoch - 900us/step\n",
      "Epoch 55/100\n",
      "112/112 - 0s - loss: 0.4676 - accuracy: 0.7939 - val_loss: 0.5517 - val_accuracy: 0.7742 - 100ms/epoch - 892us/step\n",
      "Epoch 56/100\n",
      "112/112 - 0s - loss: 0.5069 - accuracy: 0.7939 - val_loss: 0.4273 - val_accuracy: 0.7742 - 95ms/epoch - 849us/step\n",
      "Epoch 57/100\n",
      "112/112 - 0s - loss: 0.4645 - accuracy: 0.7993 - val_loss: 0.4589 - val_accuracy: 0.8065 - 96ms/epoch - 860us/step\n",
      "Epoch 58/100\n",
      "112/112 - 0s - loss: 0.4667 - accuracy: 0.7957 - val_loss: 0.4223 - val_accuracy: 0.8226 - 110ms/epoch - 983us/step\n",
      "Epoch 59/100\n",
      "112/112 - 0s - loss: 0.4558 - accuracy: 0.8082 - val_loss: 0.4220 - val_accuracy: 0.8226 - 112ms/epoch - 998us/step\n",
      "Epoch 60/100\n",
      "112/112 - 0s - loss: 0.4635 - accuracy: 0.8011 - val_loss: 0.5436 - val_accuracy: 0.7419 - 100ms/epoch - 894us/step\n",
      "Epoch 61/100\n",
      "112/112 - 0s - loss: 0.4684 - accuracy: 0.8011 - val_loss: 0.4519 - val_accuracy: 0.8387 - 94ms/epoch - 841us/step\n",
      "Epoch 62/100\n",
      "112/112 - 0s - loss: 0.4423 - accuracy: 0.8118 - val_loss: 0.4756 - val_accuracy: 0.8065 - 98ms/epoch - 871us/step\n",
      "Epoch 63/100\n",
      "112/112 - 0s - loss: 0.4505 - accuracy: 0.8029 - val_loss: 0.4225 - val_accuracy: 0.7903 - 95ms/epoch - 851us/step\n",
      "Epoch 64/100\n",
      "112/112 - 0s - loss: 0.4429 - accuracy: 0.8100 - val_loss: 0.4173 - val_accuracy: 0.8226 - 119ms/epoch - 1ms/step\n"
     ]
    },
    {
     "name": "stdout",
     "output_type": "stream",
     "text": [
      "Epoch 65/100\n",
      "112/112 - 0s - loss: 0.4560 - accuracy: 0.7993 - val_loss: 0.4309 - val_accuracy: 0.8226 - 95ms/epoch - 844us/step\n",
      "Epoch 66/100\n",
      "112/112 - 0s - loss: 0.4644 - accuracy: 0.8047 - val_loss: 0.4687 - val_accuracy: 0.7903 - 96ms/epoch - 856us/step\n",
      "Epoch 67/100\n",
      "112/112 - 0s - loss: 0.4554 - accuracy: 0.8029 - val_loss: 0.4093 - val_accuracy: 0.8226 - 95ms/epoch - 844us/step\n",
      "Epoch 68/100\n",
      "112/112 - 0s - loss: 0.4552 - accuracy: 0.8065 - val_loss: 0.5072 - val_accuracy: 0.7742 - 96ms/epoch - 853us/step\n",
      "Epoch 69/100\n",
      "112/112 - 0s - loss: 0.4699 - accuracy: 0.8100 - val_loss: 0.4303 - val_accuracy: 0.8226 - 98ms/epoch - 875us/step\n",
      "Epoch 70/100\n",
      "112/112 - 0s - loss: 0.4524 - accuracy: 0.8011 - val_loss: 0.4233 - val_accuracy: 0.8226 - 101ms/epoch - 898us/step\n",
      "Epoch 71/100\n",
      "112/112 - 0s - loss: 0.4537 - accuracy: 0.8029 - val_loss: 0.4238 - val_accuracy: 0.8065 - 137ms/epoch - 1ms/step\n",
      "Epoch 72/100\n",
      "112/112 - 0s - loss: 0.4375 - accuracy: 0.8136 - val_loss: 0.4067 - val_accuracy: 0.8226 - 123ms/epoch - 1ms/step\n",
      "Epoch 73/100\n",
      "112/112 - 0s - loss: 0.4473 - accuracy: 0.8029 - val_loss: 0.4136 - val_accuracy: 0.7903 - 104ms/epoch - 932us/step\n",
      "Epoch 74/100\n",
      "112/112 - 0s - loss: 0.4394 - accuracy: 0.8136 - val_loss: 0.5206 - val_accuracy: 0.7742 - 96ms/epoch - 858us/step\n",
      "Epoch 75/100\n",
      "112/112 - 0s - loss: 0.4232 - accuracy: 0.8208 - val_loss: 0.4949 - val_accuracy: 0.7903 - 107ms/epoch - 951us/step\n",
      "Epoch 76/100\n",
      "112/112 - 0s - loss: 0.4640 - accuracy: 0.8118 - val_loss: 0.4289 - val_accuracy: 0.8387 - 106ms/epoch - 949us/step\n",
      "Epoch 77/100\n",
      "112/112 - 0s - loss: 0.4373 - accuracy: 0.8082 - val_loss: 0.4121 - val_accuracy: 0.8065 - 99ms/epoch - 884us/step\n",
      "Epoch 78/100\n",
      "112/112 - 0s - loss: 0.4503 - accuracy: 0.8011 - val_loss: 0.4303 - val_accuracy: 0.8226 - 103ms/epoch - 922us/step\n",
      "Epoch 79/100\n",
      "112/112 - 0s - loss: 0.4370 - accuracy: 0.8029 - val_loss: 0.4651 - val_accuracy: 0.8065 - 109ms/epoch - 972us/step\n",
      "Epoch 80/100\n",
      "112/112 - 0s - loss: 0.4414 - accuracy: 0.8011 - val_loss: 0.4925 - val_accuracy: 0.7581 - 113ms/epoch - 1ms/step\n",
      "Epoch 81/100\n",
      "112/112 - 0s - loss: 0.4511 - accuracy: 0.8065 - val_loss: 0.4125 - val_accuracy: 0.8387 - 103ms/epoch - 923us/step\n",
      "Epoch 82/100\n",
      "112/112 - 0s - loss: 0.4521 - accuracy: 0.8065 - val_loss: 0.4083 - val_accuracy: 0.7903 - 105ms/epoch - 933us/step\n",
      "Epoch 83/100\n",
      "112/112 - 0s - loss: 0.4423 - accuracy: 0.8065 - val_loss: 0.4318 - val_accuracy: 0.8548 - 107ms/epoch - 952us/step\n",
      "Epoch 84/100\n",
      "112/112 - 0s - loss: 0.4301 - accuracy: 0.8172 - val_loss: 0.5502 - val_accuracy: 0.7581 - 99ms/epoch - 887us/step\n",
      "Epoch 85/100\n",
      "112/112 - 0s - loss: 0.4352 - accuracy: 0.8154 - val_loss: 0.5239 - val_accuracy: 0.7581 - 113ms/epoch - 1ms/step\n",
      "Epoch 86/100\n",
      "112/112 - 0s - loss: 0.4485 - accuracy: 0.8065 - val_loss: 0.4628 - val_accuracy: 0.7742 - 107ms/epoch - 956us/step\n",
      "Epoch 87/100\n",
      "112/112 - 0s - loss: 0.4350 - accuracy: 0.8029 - val_loss: 0.4190 - val_accuracy: 0.8387 - 112ms/epoch - 1ms/step\n",
      "Epoch 88/100\n",
      "112/112 - 0s - loss: 0.4483 - accuracy: 0.7975 - val_loss: 0.4040 - val_accuracy: 0.8065 - 101ms/epoch - 902us/step\n",
      "Epoch 89/100\n",
      "112/112 - 0s - loss: 0.4414 - accuracy: 0.8082 - val_loss: 0.4214 - val_accuracy: 0.8387 - 117ms/epoch - 1ms/step\n",
      "Epoch 90/100\n",
      "112/112 - 0s - loss: 0.4309 - accuracy: 0.8118 - val_loss: 0.4479 - val_accuracy: 0.8065 - 110ms/epoch - 985us/step\n",
      "Epoch 91/100\n",
      "112/112 - 0s - loss: 0.4289 - accuracy: 0.8226 - val_loss: 0.4272 - val_accuracy: 0.7903 - 100ms/epoch - 893us/step\n",
      "Epoch 92/100\n",
      "112/112 - 0s - loss: 0.4248 - accuracy: 0.8172 - val_loss: 0.4303 - val_accuracy: 0.8387 - 101ms/epoch - 901us/step\n",
      "Epoch 93/100\n",
      "112/112 - 0s - loss: 0.4323 - accuracy: 0.8100 - val_loss: 0.4122 - val_accuracy: 0.8387 - 106ms/epoch - 948us/step\n",
      "Epoch 94/100\n",
      "112/112 - 0s - loss: 0.4225 - accuracy: 0.8011 - val_loss: 0.4100 - val_accuracy: 0.8065 - 104ms/epoch - 932us/step\n",
      "Epoch 95/100\n",
      "112/112 - 0s - loss: 0.4690 - accuracy: 0.8136 - val_loss: 0.4159 - val_accuracy: 0.7903 - 98ms/epoch - 875us/step\n",
      "Epoch 96/100\n",
      "112/112 - 0s - loss: 0.4365 - accuracy: 0.8029 - val_loss: 0.4647 - val_accuracy: 0.7903 - 103ms/epoch - 917us/step\n",
      "Epoch 97/100\n",
      "112/112 - 0s - loss: 0.4328 - accuracy: 0.8208 - val_loss: 0.4099 - val_accuracy: 0.7903 - 109ms/epoch - 971us/step\n",
      "Epoch 98/100\n",
      "112/112 - 0s - loss: 0.4249 - accuracy: 0.8262 - val_loss: 0.4296 - val_accuracy: 0.8226 - 110ms/epoch - 986us/step\n",
      "Epoch 99/100\n",
      "112/112 - 0s - loss: 0.4342 - accuracy: 0.8082 - val_loss: 0.4052 - val_accuracy: 0.8387 - 115ms/epoch - 1ms/step\n",
      "Epoch 100/100\n",
      "112/112 - 0s - loss: 0.4394 - accuracy: 0.8154 - val_loss: 0.4071 - val_accuracy: 0.8387 - 114ms/epoch - 1ms/step\n"
     ]
    }
   ],
   "source": [
    "# Compile the keras model\n",
    "model.compile(loss='binary_crossentropy', optimizer='adam', metrics=['accuracy'])\n",
    "\n",
    "# we use 'categorical crossentropy' for multi-class classification; mean squared error is a common choice for regression problem\n",
    "# optimizer determines learning rate. It adjusts the learning rate during gradient descent and ensures reasonable values for the weights during the weight optimization process \n",
    "\n",
    "# Define early_stopping_monitor\n",
    "# here, we set the number of epochs the model can take without improving rate. \n",
    "early_stopping_monitor = EarlyStopping(patience=25)\n",
    "\n",
    "# history = model.fit(X_train, Y_train, epochs=20, batch_size=30)\n",
    "history = model.fit(X_train, Y_train, epochs=100, batch_size=5, validation_split= 0.1, callbacks=[early_stopping_monitor], verbose=2)"
   ]
  },
  {
   "cell_type": "code",
   "execution_count": 175,
   "id": "732cf96b",
   "metadata": {},
   "outputs": [
    {
     "name": "stdout",
     "output_type": "stream",
     "text": [
      "20/20 [==============================] - 0s 2ms/step - loss: 0.3891 - accuracy: 0.8371\n",
      "Accuracy: 83.71\n"
     ]
    }
   ],
   "source": [
    "# evaluate the keras model on training data\n",
    "_, accuracy = model.evaluate(X_train, Y_train)\n",
    "print('Accuracy: %.2f' % (accuracy * 100))"
   ]
  },
  {
   "cell_type": "code",
   "execution_count": 176,
   "id": "8ad58296",
   "metadata": {},
   "outputs": [
    {
     "name": "stdout",
     "output_type": "stream",
     "text": [
      "INFO:tensorflow:Assets written to: titanic_model.h1\\assets\n"
     ]
    }
   ],
   "source": [
    "# save the model \n",
    "model.save('titanic_model.h1')\n",
    "\n"
   ]
  },
  {
   "cell_type": "code",
   "execution_count": 177,
   "id": "8b5ac017",
   "metadata": {},
   "outputs": [
    {
     "name": "stdout",
     "output_type": "stream",
     "text": [
      "9/9 [==============================] - 0s 1ms/step - loss: 0.3832 - accuracy: 0.8390\n",
      "Accuracy: 83.90\n"
     ]
    }
   ],
   "source": [
    "# predict the output \n",
    "predictions = model.predict(X_test)\n",
    "\n",
    "#print(\"Predictions:\", predictions)\n",
    "\n",
    "# evaluate model's performance on test data\n",
    "_, accuracy = model.evaluate(X_test, Y_test)\n",
    "print('Accuracy: %.2f' % (accuracy * 100))"
   ]
  },
  {
   "cell_type": "code",
   "execution_count": 178,
   "id": "55c482ed",
   "metadata": {},
   "outputs": [
    {
     "data": {
      "image/png": "[encoded data removed]",
      "text/plain": [
       "<Figure size 432x288 with 1 Axes>"
      ]
     },
     "metadata": {
      "needs_background": "light"
     },
     "output_type": "display_data"
    }
   ],
   "source": [
    "# plot the training accuracy and validation accuracy\n",
    "plt.plot(history.history['accuracy'])\n",
    "plt.plot(history.history['val_accuracy'])\n",
    "plt.title('model accuracy')\n",
    "plt.ylabel('accuracy')\n",
    "plt.xlabel('epoch')\n",
    "plt.legend(['train', 'val'], loc='upper left')\n",
    "plt.show()"
   ]
  },
  {
   "cell_type": "markdown",
   "id": "7a63e1c0",
   "metadata": {},
   "source": [
    "### Observations:\n",
    "Improve on model capacity: \n",
    "* if the first layer has 40 nodes, and the second layer has 50 nodes, the accuracy of the model is 83.87. \n",
    "* if I changed the first layer to 20 nodes and the second layer to 30 nodes, the accuracy of the model is 83.15. \n",
    "* if I changed the first layer to 15 nodes, and the second layer to 25 nodes, the accuracy of the model is 83.90\n",
    "* if I changed the first layer to 10 nodes, and the second layer to 20 nodes, the accuracy of the model is 81.65. \n",
    "\n",
    "So eventually I keep my model as: 15 nodes in the first layer and 25 nodes in the second layer\n"
   ]
  },
  {
   "cell_type": "code",
   "execution_count": 328,
   "id": "e0089501",
   "metadata": {},
   "outputs": [
    {
     "name": "stdout",
     "output_type": "stream",
     "text": [
      "Epoch 1/100\n",
      "112/112 - 1s - loss: 1.3172 - accuracy: 0.5914 - val_loss: 1.1903 - val_accuracy: 0.4839 - 637ms/epoch - 6ms/step\n",
      "Epoch 2/100\n",
      "112/112 - 0s - loss: 0.9383 - accuracy: 0.6452 - val_loss: 0.5541 - val_accuracy: 0.6774 - 129ms/epoch - 1ms/step\n",
      "Epoch 3/100\n",
      "112/112 - 0s - loss: 0.7260 - accuracy: 0.6846 - val_loss: 0.5791 - val_accuracy: 0.6290 - 131ms/epoch - 1ms/step\n",
      "Epoch 4/100\n",
      "112/112 - 0s - loss: 0.6715 - accuracy: 0.6864 - val_loss: 0.5712 - val_accuracy: 0.7097 - 199ms/epoch - 2ms/step\n",
      "Epoch 5/100\n",
      "112/112 - 0s - loss: 0.6307 - accuracy: 0.6846 - val_loss: 0.5598 - val_accuracy: 0.6774 - 143ms/epoch - 1ms/step\n",
      "Epoch 6/100\n",
      "112/112 - 0s - loss: 0.6055 - accuracy: 0.6971 - val_loss: 0.5539 - val_accuracy: 0.7097 - 154ms/epoch - 1ms/step\n",
      "Epoch 7/100\n",
      "112/112 - 0s - loss: 0.6009 - accuracy: 0.7043 - val_loss: 0.5780 - val_accuracy: 0.6452 - 132ms/epoch - 1ms/step\n",
      "Epoch 8/100\n",
      "112/112 - 0s - loss: 0.5668 - accuracy: 0.7258 - val_loss: 0.5695 - val_accuracy: 0.7258 - 133ms/epoch - 1ms/step\n",
      "Epoch 9/100\n",
      "112/112 - 0s - loss: 0.5841 - accuracy: 0.6971 - val_loss: 0.5713 - val_accuracy: 0.7097 - 131ms/epoch - 1ms/step\n",
      "Epoch 10/100\n",
      "112/112 - 0s - loss: 0.5772 - accuracy: 0.6989 - val_loss: 0.5870 - val_accuracy: 0.6774 - 134ms/epoch - 1ms/step\n",
      "Epoch 11/100\n",
      "112/112 - 0s - loss: 0.5931 - accuracy: 0.7204 - val_loss: 0.5625 - val_accuracy: 0.7258 - 148ms/epoch - 1ms/step\n",
      "Epoch 12/100\n",
      "112/112 - 0s - loss: 0.5507 - accuracy: 0.7151 - val_loss: 0.5902 - val_accuracy: 0.7258 - 156ms/epoch - 1ms/step\n",
      "Epoch 13/100\n",
      "112/112 - 0s - loss: 0.5450 - accuracy: 0.7186 - val_loss: 0.5520 - val_accuracy: 0.6935 - 136ms/epoch - 1ms/step\n",
      "Epoch 14/100\n",
      "112/112 - 0s - loss: 0.5462 - accuracy: 0.7348 - val_loss: 0.5063 - val_accuracy: 0.7581 - 138ms/epoch - 1ms/step\n",
      "Epoch 15/100\n",
      "112/112 - 0s - loss: 0.5431 - accuracy: 0.7401 - val_loss: 0.5126 - val_accuracy: 0.7097 - 133ms/epoch - 1ms/step\n",
      "Epoch 16/100\n",
      "112/112 - 0s - loss: 0.5323 - accuracy: 0.7509 - val_loss: 0.5321 - val_accuracy: 0.7581 - 145ms/epoch - 1ms/step\n",
      "Epoch 17/100\n",
      "112/112 - 0s - loss: 0.5253 - accuracy: 0.7545 - val_loss: 0.5527 - val_accuracy: 0.7258 - 133ms/epoch - 1ms/step\n",
      "Epoch 18/100\n",
      "112/112 - 0s - loss: 0.5415 - accuracy: 0.7348 - val_loss: 0.5391 - val_accuracy: 0.7581 - 134ms/epoch - 1ms/step\n",
      "Epoch 19/100\n",
      "112/112 - 0s - loss: 0.5107 - accuracy: 0.7616 - val_loss: 0.5219 - val_accuracy: 0.7742 - 137ms/epoch - 1ms/step\n",
      "Epoch 20/100\n",
      "112/112 - 0s - loss: 0.5281 - accuracy: 0.7527 - val_loss: 0.5133 - val_accuracy: 0.7903 - 134ms/epoch - 1ms/step\n",
      "Epoch 21/100\n",
      "112/112 - 0s - loss: 0.5170 - accuracy: 0.7616 - val_loss: 0.5092 - val_accuracy: 0.7903 - 139ms/epoch - 1ms/step\n",
      "Epoch 22/100\n",
      "112/112 - 0s - loss: 0.5017 - accuracy: 0.7724 - val_loss: 0.5102 - val_accuracy: 0.7419 - 137ms/epoch - 1ms/step\n",
      "Epoch 23/100\n",
      "112/112 - 0s - loss: 0.5069 - accuracy: 0.7724 - val_loss: 0.5149 - val_accuracy: 0.8065 - 137ms/epoch - 1ms/step\n",
      "Epoch 24/100\n",
      "112/112 - 0s - loss: 0.4860 - accuracy: 0.7903 - val_loss: 0.4803 - val_accuracy: 0.7903 - 135ms/epoch - 1ms/step\n",
      "Epoch 25/100\n",
      "112/112 - 0s - loss: 0.4862 - accuracy: 0.7939 - val_loss: 0.4960 - val_accuracy: 0.8226 - 134ms/epoch - 1ms/step\n",
      "Epoch 26/100\n",
      "112/112 - 0s - loss: 0.4850 - accuracy: 0.7796 - val_loss: 0.4633 - val_accuracy: 0.7581 - 139ms/epoch - 1ms/step\n",
      "Epoch 27/100\n",
      "112/112 - 0s - loss: 0.4896 - accuracy: 0.7903 - val_loss: 0.5080 - val_accuracy: 0.8065 - 141ms/epoch - 1ms/step\n",
      "Epoch 28/100\n",
      "112/112 - 0s - loss: 0.4874 - accuracy: 0.8011 - val_loss: 0.4813 - val_accuracy: 0.8226 - 158ms/epoch - 1ms/step\n",
      "Epoch 29/100\n",
      "112/112 - 0s - loss: 0.4918 - accuracy: 0.7688 - val_loss: 0.5038 - val_accuracy: 0.8548 - 148ms/epoch - 1ms/step\n",
      "Epoch 30/100\n",
      "112/112 - 0s - loss: 0.4888 - accuracy: 0.7688 - val_loss: 0.4749 - val_accuracy: 0.8226 - 163ms/epoch - 1ms/step\n",
      "Epoch 31/100\n",
      "112/112 - 0s - loss: 0.5062 - accuracy: 0.7867 - val_loss: 0.4630 - val_accuracy: 0.8387 - 135ms/epoch - 1ms/step\n",
      "Epoch 32/100\n",
      "112/112 - 0s - loss: 0.4726 - accuracy: 0.7921 - val_loss: 0.4657 - val_accuracy: 0.7742 - 151ms/epoch - 1ms/step\n",
      "Epoch 33/100\n",
      "112/112 - 0s - loss: 0.4656 - accuracy: 0.7975 - val_loss: 0.4467 - val_accuracy: 0.8065 - 144ms/epoch - 1ms/step\n",
      "Epoch 34/100\n",
      "112/112 - 0s - loss: 0.4735 - accuracy: 0.7867 - val_loss: 0.5005 - val_accuracy: 0.8065 - 186ms/epoch - 2ms/step\n",
      "Epoch 35/100\n",
      "112/112 - 0s - loss: 0.4633 - accuracy: 0.7903 - val_loss: 0.4378 - val_accuracy: 0.8226 - 202ms/epoch - 2ms/step\n",
      "Epoch 36/100\n",
      "112/112 - 0s - loss: 0.4747 - accuracy: 0.7885 - val_loss: 0.4479 - val_accuracy: 0.7581 - 203ms/epoch - 2ms/step\n",
      "Epoch 37/100\n",
      "112/112 - 0s - loss: 0.4729 - accuracy: 0.7885 - val_loss: 0.4573 - val_accuracy: 0.8387 - 211ms/epoch - 2ms/step\n",
      "Epoch 38/100\n",
      "112/112 - 0s - loss: 0.4600 - accuracy: 0.8082 - val_loss: 0.4692 - val_accuracy: 0.8065 - 255ms/epoch - 2ms/step\n",
      "Epoch 39/100\n",
      "112/112 - 0s - loss: 0.4552 - accuracy: 0.8065 - val_loss: 0.4745 - val_accuracy: 0.7581 - 249ms/epoch - 2ms/step\n",
      "Epoch 40/100\n",
      "112/112 - 0s - loss: 0.4567 - accuracy: 0.8172 - val_loss: 0.4543 - val_accuracy: 0.7581 - 216ms/epoch - 2ms/step\n",
      "Epoch 41/100\n",
      "112/112 - 0s - loss: 0.4725 - accuracy: 0.7993 - val_loss: 0.4288 - val_accuracy: 0.8387 - 190ms/epoch - 2ms/step\n",
      "Epoch 42/100\n",
      "112/112 - 0s - loss: 0.4495 - accuracy: 0.8047 - val_loss: 0.4153 - val_accuracy: 0.8065 - 174ms/epoch - 2ms/step\n",
      "Epoch 43/100\n",
      "112/112 - 0s - loss: 0.4424 - accuracy: 0.8082 - val_loss: 0.4069 - val_accuracy: 0.8226 - 175ms/epoch - 2ms/step\n",
      "Epoch 44/100\n",
      "112/112 - 0s - loss: 0.4696 - accuracy: 0.7975 - val_loss: 0.4211 - val_accuracy: 0.7581 - 198ms/epoch - 2ms/step\n",
      "Epoch 45/100\n",
      "112/112 - 0s - loss: 0.4576 - accuracy: 0.8082 - val_loss: 0.4118 - val_accuracy: 0.8548 - 201ms/epoch - 2ms/step\n",
      "Epoch 46/100\n",
      "112/112 - 0s - loss: 0.4303 - accuracy: 0.8047 - val_loss: 0.3988 - val_accuracy: 0.8387 - 179ms/epoch - 2ms/step\n",
      "Epoch 47/100\n",
      "112/112 - 0s - loss: 0.4453 - accuracy: 0.8208 - val_loss: 0.4188 - val_accuracy: 0.8226 - 169ms/epoch - 2ms/step\n",
      "Epoch 48/100\n",
      "112/112 - 0s - loss: 0.4262 - accuracy: 0.8190 - val_loss: 0.4298 - val_accuracy: 0.8065 - 177ms/epoch - 2ms/step\n",
      "Epoch 49/100\n",
      "112/112 - 0s - loss: 0.4639 - accuracy: 0.8118 - val_loss: 0.4116 - val_accuracy: 0.8387 - 159ms/epoch - 1ms/step\n",
      "Epoch 50/100\n",
      "112/112 - 0s - loss: 0.4471 - accuracy: 0.8154 - val_loss: 0.4116 - val_accuracy: 0.8387 - 168ms/epoch - 2ms/step\n",
      "Epoch 51/100\n",
      "112/112 - 0s - loss: 0.4412 - accuracy: 0.8118 - val_loss: 0.4000 - val_accuracy: 0.8226 - 162ms/epoch - 1ms/step\n",
      "Epoch 52/100\n",
      "112/112 - 0s - loss: 0.4505 - accuracy: 0.8082 - val_loss: 0.4329 - val_accuracy: 0.8548 - 171ms/epoch - 2ms/step\n",
      "Epoch 53/100\n",
      "112/112 - 0s - loss: 0.4517 - accuracy: 0.8226 - val_loss: 0.4085 - val_accuracy: 0.8226 - 209ms/epoch - 2ms/step\n",
      "Epoch 54/100\n",
      "112/112 - 0s - loss: 0.4361 - accuracy: 0.8172 - val_loss: 0.4023 - val_accuracy: 0.8226 - 198ms/epoch - 2ms/step\n",
      "Epoch 55/100\n",
      "112/112 - 0s - loss: 0.4315 - accuracy: 0.8226 - val_loss: 0.4193 - val_accuracy: 0.7581 - 168ms/epoch - 1ms/step\n",
      "Epoch 56/100\n",
      "112/112 - 0s - loss: 0.4335 - accuracy: 0.8172 - val_loss: 0.3873 - val_accuracy: 0.8226 - 173ms/epoch - 2ms/step\n",
      "Epoch 57/100\n",
      "112/112 - 0s - loss: 0.4264 - accuracy: 0.8136 - val_loss: 0.3792 - val_accuracy: 0.8387 - 167ms/epoch - 1ms/step\n",
      "Epoch 58/100\n",
      "112/112 - 0s - loss: 0.4425 - accuracy: 0.8262 - val_loss: 0.3785 - val_accuracy: 0.8387 - 191ms/epoch - 2ms/step\n",
      "Epoch 59/100\n",
      "112/112 - 0s - loss: 0.4387 - accuracy: 0.8226 - val_loss: 0.4086 - val_accuracy: 0.8226 - 186ms/epoch - 2ms/step\n",
      "Epoch 60/100\n",
      "112/112 - 0s - loss: 0.4315 - accuracy: 0.8136 - val_loss: 0.3782 - val_accuracy: 0.8226 - 196ms/epoch - 2ms/step\n",
      "Epoch 61/100\n",
      "112/112 - 0s - loss: 0.4206 - accuracy: 0.8351 - val_loss: 0.4102 - val_accuracy: 0.8226 - 162ms/epoch - 1ms/step\n",
      "Epoch 62/100\n",
      "112/112 - 0s - loss: 0.4379 - accuracy: 0.8172 - val_loss: 0.3996 - val_accuracy: 0.8387 - 165ms/epoch - 1ms/step\n",
      "Epoch 63/100\n",
      "112/112 - 0s - loss: 0.4395 - accuracy: 0.8208 - val_loss: 0.5127 - val_accuracy: 0.7903 - 200ms/epoch - 2ms/step\n",
      "Epoch 64/100\n",
      "112/112 - 0s - loss: 0.4498 - accuracy: 0.8244 - val_loss: 0.3823 - val_accuracy: 0.8226 - 176ms/epoch - 2ms/step\n",
      "Epoch 65/100\n",
      "112/112 - 0s - loss: 0.4396 - accuracy: 0.8244 - val_loss: 0.3790 - val_accuracy: 0.8387 - 168ms/epoch - 2ms/step\n"
     ]
    },
    {
     "name": "stdout",
     "output_type": "stream",
     "text": [
      "Epoch 66/100\n",
      "112/112 - 0s - loss: 0.4462 - accuracy: 0.8280 - val_loss: 0.4164 - val_accuracy: 0.8226 - 196ms/epoch - 2ms/step\n",
      "Epoch 67/100\n",
      "112/112 - 0s - loss: 0.4486 - accuracy: 0.8065 - val_loss: 0.3793 - val_accuracy: 0.7742 - 161ms/epoch - 1ms/step\n",
      "Epoch 68/100\n",
      "112/112 - 0s - loss: 0.4203 - accuracy: 0.8244 - val_loss: 0.3674 - val_accuracy: 0.8387 - 181ms/epoch - 2ms/step\n",
      "Epoch 69/100\n",
      "112/112 - 0s - loss: 0.4234 - accuracy: 0.8369 - val_loss: 0.3954 - val_accuracy: 0.8226 - 189ms/epoch - 2ms/step\n",
      "Epoch 70/100\n",
      "112/112 - 0s - loss: 0.4198 - accuracy: 0.8244 - val_loss: 0.3731 - val_accuracy: 0.8387 - 167ms/epoch - 1ms/step\n",
      "Epoch 71/100\n",
      "112/112 - 0s - loss: 0.4245 - accuracy: 0.8333 - val_loss: 0.3632 - val_accuracy: 0.8387 - 166ms/epoch - 1ms/step\n",
      "Epoch 72/100\n",
      "112/112 - 0s - loss: 0.4231 - accuracy: 0.8244 - val_loss: 0.3657 - val_accuracy: 0.8387 - 187ms/epoch - 2ms/step\n",
      "Epoch 73/100\n",
      "112/112 - 0s - loss: 0.4122 - accuracy: 0.8244 - val_loss: 0.3741 - val_accuracy: 0.8226 - 166ms/epoch - 1ms/step\n",
      "Epoch 74/100\n",
      "112/112 - 0s - loss: 0.4182 - accuracy: 0.8441 - val_loss: 0.3724 - val_accuracy: 0.8226 - 163ms/epoch - 1ms/step\n",
      "Epoch 75/100\n",
      "112/112 - 0s - loss: 0.4257 - accuracy: 0.8280 - val_loss: 0.3724 - val_accuracy: 0.8226 - 157ms/epoch - 1ms/step\n",
      "Epoch 76/100\n",
      "112/112 - 0s - loss: 0.4086 - accuracy: 0.8351 - val_loss: 0.3800 - val_accuracy: 0.8226 - 160ms/epoch - 1ms/step\n",
      "Epoch 77/100\n",
      "112/112 - 0s - loss: 0.4105 - accuracy: 0.8423 - val_loss: 0.3836 - val_accuracy: 0.8387 - 199ms/epoch - 2ms/step\n",
      "Epoch 78/100\n",
      "112/112 - 0s - loss: 0.4172 - accuracy: 0.8280 - val_loss: 0.3844 - val_accuracy: 0.8387 - 172ms/epoch - 2ms/step\n",
      "Epoch 79/100\n",
      "112/112 - 0s - loss: 0.4031 - accuracy: 0.8154 - val_loss: 0.3778 - val_accuracy: 0.8065 - 159ms/epoch - 1ms/step\n",
      "Epoch 80/100\n",
      "112/112 - 0s - loss: 0.3989 - accuracy: 0.8297 - val_loss: 0.3732 - val_accuracy: 0.8548 - 172ms/epoch - 2ms/step\n",
      "Epoch 81/100\n",
      "112/112 - 0s - loss: 0.4281 - accuracy: 0.8280 - val_loss: 0.3725 - val_accuracy: 0.8065 - 195ms/epoch - 2ms/step\n",
      "Epoch 82/100\n",
      "112/112 - 0s - loss: 0.4161 - accuracy: 0.8244 - val_loss: 0.3672 - val_accuracy: 0.8226 - 173ms/epoch - 2ms/step\n",
      "Epoch 83/100\n",
      "112/112 - 0s - loss: 0.4134 - accuracy: 0.8333 - val_loss: 0.3685 - val_accuracy: 0.8226 - 178ms/epoch - 2ms/step\n",
      "Epoch 84/100\n",
      "112/112 - 0s - loss: 0.4049 - accuracy: 0.8405 - val_loss: 0.3958 - val_accuracy: 0.8065 - 178ms/epoch - 2ms/step\n",
      "Epoch 85/100\n",
      "112/112 - 0s - loss: 0.4095 - accuracy: 0.8351 - val_loss: 0.3766 - val_accuracy: 0.8226 - 204ms/epoch - 2ms/step\n",
      "Epoch 86/100\n",
      "112/112 - 0s - loss: 0.4061 - accuracy: 0.8315 - val_loss: 0.3681 - val_accuracy: 0.8387 - 220ms/epoch - 2ms/step\n",
      "Epoch 87/100\n",
      "112/112 - 0s - loss: 0.3851 - accuracy: 0.8387 - val_loss: 0.3705 - val_accuracy: 0.8226 - 276ms/epoch - 2ms/step\n",
      "Epoch 88/100\n",
      "112/112 - 0s - loss: 0.3866 - accuracy: 0.8351 - val_loss: 0.3713 - val_accuracy: 0.8387 - 267ms/epoch - 2ms/step\n",
      "Epoch 89/100\n",
      "112/112 - 0s - loss: 0.4099 - accuracy: 0.8280 - val_loss: 0.3735 - val_accuracy: 0.8065 - 199ms/epoch - 2ms/step\n",
      "Epoch 90/100\n",
      "112/112 - 0s - loss: 0.4156 - accuracy: 0.8244 - val_loss: 0.3697 - val_accuracy: 0.8387 - 249ms/epoch - 2ms/step\n",
      "Epoch 91/100\n",
      "112/112 - 0s - loss: 0.4062 - accuracy: 0.8244 - val_loss: 0.3928 - val_accuracy: 0.8387 - 191ms/epoch - 2ms/step\n"
     ]
    }
   ],
   "source": [
    "## If we want to further improve the model capacity and avoid overfitting, let's try to use drop out\n",
    "\n",
    "model_new = Sequential()\n",
    "\n",
    "# Add the first layer \n",
    "input_layer = Dense(units = 180, activation='relu', input_shape = (n_cols,)) \n",
    "model_new.add(input_layer) \n",
    "\n",
    "# add dropout\n",
    "#model_new.add(Dropout(0.5))\n",
    "\n",
    "# # Add the second layer \n",
    "hidden_layer = Dense(units = 180, activation='relu') \n",
    "model_new.add(hidden_layer)\n",
    "\n",
    "# add dropout\n",
    "model_new.add(Dropout(0.5))\n",
    "\n",
    "# # Add the output layer\n",
    "model_new.add(Dense(1, activation='sigmoid'))\n",
    "\n",
    "# Compile the keras model\n",
    "model_new.compile(loss='binary_crossentropy', optimizer='adam', metrics=['accuracy'])\n",
    "\n",
    "# Define early_stopping_monitor\n",
    "# here, we set the number of epochs the model can take without improving rate. \n",
    "early_stopping_monitor = EarlyStopping(patience=20)\n",
    "\n",
    "history_new = model_new.fit(X_train, Y_train, epochs=100, batch_size=5, validation_split= 0.1, callbacks=[early_stopping_monitor], verbose=2)\n"
   ]
  },
  {
   "cell_type": "code",
   "execution_count": 329,
   "id": "d9727ce3",
   "metadata": {},
   "outputs": [
    {
     "name": "stdout",
     "output_type": "stream",
     "text": [
      "20/20 [==============================] - 0s 2ms/step - loss: 0.3773 - accuracy: 0.8500\n",
      "Training Accuracy: 85.00\n"
     ]
    }
   ],
   "source": [
    "# evaluate the keras model on training data\n",
    "_, accuracy = model_new.evaluate(X_train, Y_train)\n",
    "print('Training Accuracy: %.2f' % (accuracy * 100))"
   ]
  },
  {
   "cell_type": "code",
   "execution_count": 330,
   "id": "1829e7ee",
   "metadata": {},
   "outputs": [
    {
     "name": "stdout",
     "output_type": "stream",
     "text": [
      "9/9 [==============================] - 0s 2ms/step - loss: 0.4608 - accuracy: 0.8240\n",
      "Testing Accuracy: 82.40\n"
     ]
    }
   ],
   "source": [
    "_, accuracy = model_new.evaluate(X_test, Y_test)\n",
    "print('Testing Accuracy: %.2f' % (accuracy * 100))"
   ]
  },
  {
   "cell_type": "code",
   "execution_count": 331,
   "id": "78d71f70",
   "metadata": {},
   "outputs": [
    {
     "data": {
      "image/png": "[encoded data removed]",
      "text/plain": [
       "<Figure size 432x288 with 1 Axes>"
      ]
     },
     "metadata": {
      "needs_background": "light"
     },
     "output_type": "display_data"
    }
   ],
   "source": [
    "# plot the training accuracy and validation accuracy\n",
    "plt.plot(history_new.history['accuracy'])\n",
    "plt.plot(history_new.history['val_accuracy'])\n",
    "plt.title('model accuracy')\n",
    "plt.ylabel('accuracy')\n",
    "plt.xlabel('epoch')\n",
    "plt.legend(['train', 'val'], loc='upper left')\n",
    "plt.show()"
   ]
  },
  {
   "cell_type": "markdown",
   "id": "b4b3d24a",
   "metadata": {},
   "source": [
    "### Observations:\n",
    "* if we used 120 nodes in the first layer, and another 120 nodes in the second layer. Without the dropout layer, the training accuracy is 86.45, and the testing accuracy is 81.65.\n",
    "* if we used the same number nodes in both layer (with dropout layer), the testing accuracy is 82.40 and the training accuracy is 84.52.\n",
    "* adding a dropout layer could slightly improve the accuracy testing rate and reduce overfitting. "
   ]
  },
  {
   "cell_type": "markdown",
   "id": "8522705a",
   "metadata": {},
   "source": [
    "### Use logistic regression"
   ]
  },
  {
   "cell_type": "code",
   "execution_count": 36,
   "id": "fcd5ac4e",
   "metadata": {},
   "outputs": [
    {
     "name": "stdout",
     "output_type": "stream",
     "text": [
      "Number of mislabeled points out of a total 267 points : 56\n",
      "testing accuracy rate: 0.7902621722846442\n"
     ]
    }
   ],
   "source": [
    "logreg = LogisticRegression()\n",
    "logreg.fit(X_train, Y_train)\n",
    "Y_pred_log = logreg.predict(X_test)\n",
    "acc_log_train = round(logreg.score(X_train, Y_train) * 100, 2)\n",
    "\n",
    "\n",
    "print(\"Number of mislabeled points out of a total %d points : %d\"\n",
    "% (X_test.shape[0], (Y_pred_log != Y_test).sum()))\n",
    "\n",
    "print(\"testing accuracy rate:\", accuracy_score(Y_test, Y_pred_log))\n"
   ]
  },
  {
   "cell_type": "code",
   "execution_count": 37,
   "id": "f3446bd5",
   "metadata": {},
   "outputs": [
    {
     "data": {
      "text/plain": [
       "1"
      ]
     },
     "execution_count": 37,
     "metadata": {},
     "output_type": "execute_result"
    }
   ],
   "source": [
    "logreg.classes_[1]"
   ]
  },
  {
   "cell_type": "code",
   "execution_count": 38,
   "id": "f9bf09e7",
   "metadata": {},
   "outputs": [
    {
     "data": {
      "image/png": "[encoded data removed]",
      "text/plain": [
       "<Figure size 432x288 with 1 Axes>"
      ]
     },
     "metadata": {
      "needs_background": "light"
     },
     "output_type": "display_data"
    }
   ],
   "source": [
    "Y_score = logreg.decision_function(X_test)\n",
    "Y_pred_prob = logreg.predict_proba(X_test)[::,1]\n",
    "fpr, tpr, thresholds = roc_curve(Y_test, Y_score, pos_label=logreg.classes_[1])\n",
    "auc = roc_auc_score(Y_test, Y_pred_prob)\n",
    "roc_display = RocCurveDisplay(fpr=fpr, tpr=tpr).plot(label=\"auc:\"+str(auc))"
   ]
  },
  {
   "cell_type": "code",
   "execution_count": 39,
   "id": "ac9c7139",
   "metadata": {},
   "outputs": [
    {
     "data": {
      "text/plain": [
       "Text(0.5, 15.0, 'Predicted label')"
      ]
     },
     "execution_count": 39,
     "metadata": {},
     "output_type": "execute_result"
    },
    {
     "data": {
      "image/png": "[encoded data removed]",
      "text/plain": [
       "<Figure size 432x288 with 2 Axes>"
      ]
     },
     "metadata": {
      "needs_background": "light"
     },
     "output_type": "display_data"
    }
   ],
   "source": [
    "cnf_matrix = confusion_matrix(Y_test, Y_pred_log)\n",
    "sns.heatmap(pd.DataFrame(cnf_matrix), annot=True, cmap=\"YlGnBu\" ,fmt='g')\n",
    "ax.xaxis.set_label_position(\"top\")\n",
    "plt.title('Confusion matrix', y=1.1)\n",
    "plt.ylabel('Actual label')\n",
    "plt.xlabel('Predicted label')"
   ]
  },
  {
   "cell_type": "markdown",
   "id": "80d8257e",
   "metadata": {},
   "source": [
    "### Observations:\n",
    "* we could see that 34 people were wrongly labelled as \"not survived\"\n",
    "* 22 people were wrongly labelled as \"survived\""
   ]
  },
  {
   "cell_type": "markdown",
   "id": "21fce472",
   "metadata": {},
   "source": [
    "### Use random forest"
   ]
  },
  {
   "cell_type": "code",
   "execution_count": 40,
   "id": "7a2c232f",
   "metadata": {},
   "outputs": [],
   "source": [
    "random_forest = RandomForestClassifier(n_estimators=100)\n",
    "random_forest.fit(X_train, Y_train)\n",
    "Y_pred_forest = random_forest.predict(X_test)"
   ]
  },
  {
   "cell_type": "code",
   "execution_count": 41,
   "id": "d0482327",
   "metadata": {},
   "outputs": [
    {
     "data": {
      "text/plain": [
       "0.9806451612903225"
      ]
     },
     "execution_count": 41,
     "metadata": {},
     "output_type": "execute_result"
    }
   ],
   "source": [
    "random_forest.score(X_train, Y_train)"
   ]
  },
  {
   "cell_type": "code",
   "execution_count": 42,
   "id": "f9f44322",
   "metadata": {},
   "outputs": [
    {
     "data": {
      "text/plain": [
       "0.8089887640449438"
      ]
     },
     "execution_count": 42,
     "metadata": {},
     "output_type": "execute_result"
    }
   ],
   "source": [
    "random_forest.score(X_test, Y_test)"
   ]
  },
  {
   "cell_type": "code",
   "execution_count": 43,
   "id": "a75f3b8d",
   "metadata": {},
   "outputs": [
    {
     "data": {
      "text/html": [
       "<div>\n",
       "<style scoped>\n",
       "    .dataframe tbody tr th:only-of-type {\n",
       "        vertical-align: middle;\n",
       "    }\n",
       "\n",
       "    .dataframe tbody tr th {\n",
       "        vertical-align: top;\n",
       "    }\n",
       "\n",
       "    .dataframe thead th {\n",
       "        text-align: right;\n",
       "    }\n",
       "</style>\n",
       "<table border=\"1\" class=\"dataframe\">\n",
       "  <thead>\n",
       "    <tr style=\"text-align: right;\">\n",
       "      <th></th>\n",
       "      <th>importance</th>\n",
       "    </tr>\n",
       "    <tr>\n",
       "      <th>feature</th>\n",
       "      <th></th>\n",
       "    </tr>\n",
       "  </thead>\n",
       "  <tbody>\n",
       "    <tr>\n",
       "      <th>Age</th>\n",
       "      <td>0.279</td>\n",
       "    </tr>\n",
       "    <tr>\n",
       "      <th>Sex</th>\n",
       "      <td>0.273</td>\n",
       "    </tr>\n",
       "    <tr>\n",
       "      <th>Fare</th>\n",
       "      <td>0.272</td>\n",
       "    </tr>\n",
       "    <tr>\n",
       "      <th>Pclass</th>\n",
       "      <td>0.072</td>\n",
       "    </tr>\n",
       "    <tr>\n",
       "      <th>total_relatives</th>\n",
       "      <td>0.051</td>\n",
       "    </tr>\n",
       "    <tr>\n",
       "      <th>Parents/Children Aboard</th>\n",
       "      <td>0.027</td>\n",
       "    </tr>\n",
       "    <tr>\n",
       "      <th>Siblings/Spouses Aboard</th>\n",
       "      <td>0.026</td>\n",
       "    </tr>\n",
       "  </tbody>\n",
       "</table>\n",
       "</div>"
      ],
      "text/plain": [
       "                         importance\n",
       "feature                            \n",
       "Age                           0.279\n",
       "Sex                           0.273\n",
       "Fare                          0.272\n",
       "Pclass                        0.072\n",
       "total_relatives               0.051\n",
       "Parents/Children Aboard       0.027\n",
       "Siblings/Spouses Aboard       0.026"
      ]
     },
     "execution_count": 43,
     "metadata": {},
     "output_type": "execute_result"
    }
   ],
   "source": [
    "importances = pd.DataFrame({'feature':X_train.columns,'importance':np.round(random_forest.feature_importances_,3)})\n",
    "importances = importances.sort_values('importance',ascending=False).set_index('feature')\n",
    "importances.head(7)"
   ]
  },
  {
   "cell_type": "code",
   "execution_count": 44,
   "id": "80a05e79",
   "metadata": {},
   "outputs": [],
   "source": [
    "#;et's drop the last two features because they have relatively low feature importance\n",
    "X_train_new = X_train.drop(['Siblings/Spouses Aboard', 'Parents/Children Aboard'], axis=1)\n",
    "X_test_new = X_test.drop(['Siblings/Spouses Aboard', 'Parents/Children Aboard'], axis=1)"
   ]
  },
  {
   "cell_type": "code",
   "execution_count": 45,
   "id": "d870f4c9",
   "metadata": {},
   "outputs": [],
   "source": [
    "random_forest_n = RandomForestClassifier(n_estimators=100)\n",
    "random_forest_n.fit(X_train_new, Y_train)\n",
    "Y_pred_forest = random_forest_n.predict(X_test_new)"
   ]
  },
  {
   "cell_type": "code",
   "execution_count": 46,
   "id": "9ca29e90",
   "metadata": {},
   "outputs": [
    {
     "data": {
      "text/plain": [
       "0.9806451612903225"
      ]
     },
     "execution_count": 46,
     "metadata": {},
     "output_type": "execute_result"
    }
   ],
   "source": [
    "random_forest_n.score(X_train_new, Y_train)\n"
   ]
  },
  {
   "cell_type": "code",
   "execution_count": 47,
   "id": "abbf4104",
   "metadata": {},
   "outputs": [
    {
     "data": {
      "text/plain": [
       "0.8127340823970037"
      ]
     },
     "execution_count": 47,
     "metadata": {},
     "output_type": "execute_result"
    }
   ],
   "source": [
    "random_forest_n.score(X_test_new, Y_test)"
   ]
  },
  {
   "cell_type": "markdown",
   "id": "78fdc9e0",
   "metadata": {},
   "source": [
    "#### As we could see, the testing score is the same as before even after we dropped the last two features "
   ]
  },
  {
   "cell_type": "code",
   "execution_count": 48,
   "id": "4a1667bd",
   "metadata": {},
   "outputs": [],
   "source": [
    "tn, fp, fn, tp = confusion_matrix(Y_test, Y_pred_forest).ravel()"
   ]
  },
  {
   "cell_type": "code",
   "execution_count": 49,
   "id": "7dfeb6d8",
   "metadata": {},
   "outputs": [
    {
     "data": {
      "text/plain": [
       "(145, 17, 33, 72)"
      ]
     },
     "execution_count": 49,
     "metadata": {},
     "output_type": "execute_result"
    }
   ],
   "source": [
    "(tn, fp, fn, tp)"
   ]
  },
  {
   "cell_type": "markdown",
   "id": "0c3ddcd9",
   "metadata": {},
   "source": [
    "* 144 passengers were correctly classified as \"not survived\"\n",
    "* 70 passengers were correctly classified as \"survived\"\n",
    "* 18 passengers were falsely classified as \"survived\"\n",
    "* 35 passengers were falsely classified as \"not survived\""
   ]
  },
  {
   "cell_type": "markdown",
   "id": "a27300cd",
   "metadata": {},
   "source": [
    "### Hypter Parameter Tuning"
   ]
  },
  {
   "cell_type": "code",
   "execution_count": 50,
   "id": "f3fe127d",
   "metadata": {},
   "outputs": [],
   "source": [
    " #### Create the random grid\n",
    "\n",
    "# Number of trees in random forest\n",
    "n_estimators = [int(x) for x in np.linspace(start = 20, stop = 200, num = 10)]\n",
    "# Number of features to consider at every split\n",
    "max_features = ['auto', 'sqrt']\n",
    "# # Maximum number of levels in tree\n",
    "max_depth = [int(x) for x in np.linspace(5, 110, num = 11)]\n",
    "# max_depth.append(None)\n",
    "# Minimum number of samples required to split a node\n",
    "min_samples_split = [2, 4, 8, 16, 32, 64]\n",
    "# Minimum number of samples required at each leaf node\n",
    "min_samples_leaf = [1, 2, 5, 8, 11]\n",
    "# Method of selecting samples for training each tree\n",
    "bootstrap = [True, False]\n",
    "\n",
    "random_grid = {'n_estimators': n_estimators,\n",
    "               'max_features': max_features,\n",
    "               'max_depth': max_depth,\n",
    "               'min_samples_split': min_samples_split,\n",
    "               'min_samples_leaf': min_samples_leaf,\n",
    "               'bootstrap': bootstrap}"
   ]
  },
  {
   "cell_type": "code",
   "execution_count": 51,
   "id": "a9704058",
   "metadata": {},
   "outputs": [],
   "source": [
    "rf_random = RandomizedSearchCV(estimator = random_forest_n, param_distributions = random_grid, \n",
    "                               n_iter = 100, cv = 3, verbose=2, n_jobs = -1)"
   ]
  },
  {
   "cell_type": "code",
   "execution_count": 52,
   "id": "8aeb5d1e",
   "metadata": {},
   "outputs": [
    {
     "name": "stdout",
     "output_type": "stream",
     "text": [
      "Fitting 3 folds for each of 100 candidates, totalling 300 fits\n"
     ]
    },
    {
     "data": {
      "text/plain": [
       "RandomizedSearchCV(cv=3, estimator=RandomForestClassifier(), n_iter=100,\n",
       "                   n_jobs=-1,\n",
       "                   param_distributions={'bootstrap': [True, False],\n",
       "                                        'max_depth': [5, 15, 26, 36, 47, 57, 68,\n",
       "                                                      78, 89, 99, 110],\n",
       "                                        'max_features': ['auto', 'sqrt'],\n",
       "                                        'min_samples_leaf': [1, 2, 5, 8, 11],\n",
       "                                        'min_samples_split': [2, 4, 8, 16, 32,\n",
       "                                                              64],\n",
       "                                        'n_estimators': [20, 40, 60, 80, 100,\n",
       "                                                         120, 140, 160, 180,\n",
       "                                                         200]},\n",
       "                   verbose=2)"
      ]
     },
     "execution_count": 52,
     "metadata": {},
     "output_type": "execute_result"
    }
   ],
   "source": [
    "rf_random.fit(X_train,Y_train)"
   ]
  },
  {
   "cell_type": "code",
   "execution_count": 53,
   "id": "087a3a93",
   "metadata": {},
   "outputs": [
    {
     "data": {
      "text/plain": [
       "{'n_estimators': 40,\n",
       " 'min_samples_split': 16,\n",
       " 'min_samples_leaf': 2,\n",
       " 'max_features': 'sqrt',\n",
       " 'max_depth': 36,\n",
       " 'bootstrap': True}"
      ]
     },
     "execution_count": 53,
     "metadata": {},
     "output_type": "execute_result"
    }
   ],
   "source": [
    "rf_random.best_params_"
   ]
  },
  {
   "cell_type": "markdown",
   "id": "055d279a",
   "metadata": {},
   "source": [
    "### use the best params"
   ]
  },
  {
   "cell_type": "code",
   "execution_count": 54,
   "id": "0f7317ff",
   "metadata": {},
   "outputs": [],
   "source": [
    "random_forest_n2 = RandomForestClassifier(n_estimators=80, max_features='auto', n_jobs=-1, min_samples_split=16, min_samples_leaf=2, max_depth=99, bootstrap=True)\n",
    "random_forest_n2.fit(X_train, Y_train)\n",
    "Y_pred_v2 = random_forest_n2.predict(X_test)"
   ]
  },
  {
   "cell_type": "code",
   "execution_count": 55,
   "id": "14652827",
   "metadata": {},
   "outputs": [
    {
     "name": "stdout",
     "output_type": "stream",
     "text": [
      "training score: 0.8870967741935484\n"
     ]
    }
   ],
   "source": [
    "print(\"training score:\", random_forest_n2.score(X_train, Y_train))"
   ]
  },
  {
   "cell_type": "code",
   "execution_count": 56,
   "id": "8e7481a3",
   "metadata": {},
   "outputs": [
    {
     "name": "stdout",
     "output_type": "stream",
     "text": [
      "testing score: 0.8389513108614233\n"
     ]
    }
   ],
   "source": [
    "print(\"testing score:\", random_forest_n2.score(X_test, Y_test))"
   ]
  },
  {
   "cell_type": "markdown",
   "id": "1c038cfd",
   "metadata": {},
   "source": [
    "#### We could see that the testing score got increased to 0.84"
   ]
  },
  {
   "cell_type": "markdown",
   "id": "0884870a",
   "metadata": {},
   "source": [
    "The precision is the ratio tp / (tp + fp) where tp is the number of true positives and fp the number of false positives. The precision is intuitively the ability of the classifier not to label as positive a sample that is negative. (Sklearn document)"
   ]
  },
  {
   "cell_type": "code",
   "execution_count": 57,
   "id": "ae3f36b5",
   "metadata": {},
   "outputs": [
    {
     "name": "stdout",
     "output_type": "stream",
     "text": [
      "Precision: 0.8229166666666666\n"
     ]
    }
   ],
   "source": [
    "print(\"Precision:\", precision_score(Y_test, Y_pred_v2))"
   ]
  },
  {
   "cell_type": "markdown",
   "id": "0ee4c9a1",
   "metadata": {},
   "source": [
    "Our model can correctly predict a passenger's survival 83% of the time. "
   ]
  },
  {
   "cell_type": "markdown",
   "id": "c481d87f",
   "metadata": {},
   "source": [
    "The recall is the ratio tp / (tp + fn) where tp is the number of true positives and fn the number of false negatives. The recall is intuitively the ability of the classifier to find all the positive samples. (Sklearn document)"
   ]
  },
  {
   "cell_type": "code",
   "execution_count": 58,
   "id": "bbd779fa",
   "metadata": {},
   "outputs": [
    {
     "name": "stdout",
     "output_type": "stream",
     "text": [
      "Recall: 0.7523809523809524\n"
     ]
    }
   ],
   "source": [
    "print(\"Recall:\", recall_score(Y_test, Y_pred_v2))"
   ]
  },
  {
   "cell_type": "markdown",
   "id": "4166db79",
   "metadata": {},
   "source": [
    "Our model can correctly find 75% of the people who actually surivived. "
   ]
  },
  {
   "cell_type": "code",
   "execution_count": 59,
   "id": "1136a3a7",
   "metadata": {},
   "outputs": [
    {
     "data": {
      "image/png": "[encoded data removed]",
      "text/plain": [
       "<Figure size 432x288 with 2 Axes>"
      ]
     },
     "metadata": {
      "needs_background": "light"
     },
     "output_type": "display_data"
    }
   ],
   "source": [
    "cm = confusion_matrix(Y_test, Y_pred_v2)\n",
    "cm_display = ConfusionMatrixDisplay(cm).plot()"
   ]
  },
  {
   "cell_type": "markdown",
   "id": "6dfeb786",
   "metadata": {},
   "source": [
    "### Observations:\n",
    "* 26 people were wrongly classified as \"survived\"\n",
    "* 16 people were wrongly classified as \"not survived\""
   ]
  },
  {
   "cell_type": "markdown",
   "id": "c4f9274d",
   "metadata": {},
   "source": [
    "### Precision Recall Curve"
   ]
  },
  {
   "cell_type": "markdown",
   "id": "76c61213",
   "metadata": {},
   "source": [
    "source: https://towardsdatascience.com/predicting-the-survival-of-titanic-passengers-30870ccc7e8"
   ]
  },
  {
   "cell_type": "code",
   "execution_count": 60,
   "id": "c656350d",
   "metadata": {},
   "outputs": [
    {
     "data": {
      "image/png": "[encoded data removed]",
      "text/plain": [
       "<Figure size 720x360 with 1 Axes>"
      ]
     },
     "metadata": {
      "needs_background": "light"
     },
     "output_type": "display_data"
    }
   ],
   "source": [
    "Y_scores = random_forest.predict_proba(X_test)\n",
    "Y_scores = Y_scores[:,1]\n",
    "\n",
    "precision, recall, threshold = precision_recall_curve(Y_test, Y_scores)\n",
    "\n",
    "def plot_precision_and_recall(precision, recall, threshold):\n",
    "    plt.plot(threshold, precision[:-1], \"g-\", label=\"precision\", linewidth=2)\n",
    "    plt.plot(threshold, recall[:-1], \"b\", label=\"recall\", linewidth=2)\n",
    "    plt.xlabel(\"threshold\", fontsize=12)\n",
    "    plt.legend(loc=\"upper right\", fontsize=12)\n",
    "    plt.ylim([0, 1])\n",
    "\n",
    "plt.figure(figsize=(10, 5))\n",
    "plot_precision_and_recall(precision, recall, threshold)\n",
    "plt.show()"
   ]
  },
  {
   "cell_type": "code",
   "execution_count": null,
   "id": "8dda2119",
   "metadata": {},
   "outputs": [],
   "source": []
  }
 ],
 "metadata": {
  "kernelspec": {
   "display_name": "Python 3",
   "language": "python",
   "name": "python3"
  },
  "language_info": {
   "codemirror_mode": {
    "name": "ipython",
    "version": 3
   },
   "file_extension": ".py",
   "mimetype": "text/x-python",
   "name": "python",
   "nbconvert_exporter": "python",
   "pygments_lexer": "ipython3",
   "version": "3.7.8"
  }
 },
 "nbformat": 4,
 "nbformat_minor": 5
}
